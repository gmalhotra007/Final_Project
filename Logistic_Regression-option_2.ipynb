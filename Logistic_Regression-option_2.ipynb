{
 "cells": [
  {
   "cell_type": "code",
   "execution_count": 1,
   "metadata": {},
   "outputs": [],
   "source": [
    "# Import dependencies\n",
    "from sklearn.model_selection import train_test_split\n",
    "from sklearn.preprocessing import StandardScaler, OneHotEncoder\n",
    "from sklearn.linear_model import LogisticRegression\n",
    "from sklearn.metrics import accuracy_score\n",
    "from sklearn.impute import SimpleImputer\n",
    "from sklearn.base import TransformerMixin\n",
    "from collections import Counter\n",
    "from imblearn.over_sampling import RandomOverSampler\n",
    "import pandas as pd\n",
    "import tensorflow as tf\n"
   ]
  },
  {
   "cell_type": "markdown",
   "metadata": {},
   "source": [
    "# Import and clean df"
   ]
  },
  {
   "cell_type": "code",
   "execution_count": 2,
   "metadata": {},
   "outputs": [
    {
     "name": "stdout",
     "output_type": "stream",
     "text": [
      "(40247, 49)\n"
     ]
    },
    {
     "data": {
      "text/html": [
       "<div>\n",
       "<style scoped>\n",
       "    .dataframe tbody tr th:only-of-type {\n",
       "        vertical-align: middle;\n",
       "    }\n",
       "\n",
       "    .dataframe tbody tr th {\n",
       "        vertical-align: top;\n",
       "    }\n",
       "\n",
       "    .dataframe thead th {\n",
       "        text-align: right;\n",
       "    }\n",
       "</style>\n",
       "<table border=\"1\" class=\"dataframe\">\n",
       "  <thead>\n",
       "    <tr style=\"text-align: right;\">\n",
       "      <th></th>\n",
       "      <th>vaers_id</th>\n",
       "      <th>recvdate</th>\n",
       "      <th>state_</th>\n",
       "      <th>age_yrs</th>\n",
       "      <th>cage_yr</th>\n",
       "      <th>sex</th>\n",
       "      <th>symptom_text</th>\n",
       "      <th>died</th>\n",
       "      <th>datedied</th>\n",
       "      <th>l_threat</th>\n",
       "      <th>...</th>\n",
       "      <th>symptomversion4</th>\n",
       "      <th>symptom5</th>\n",
       "      <th>symptomversion5</th>\n",
       "      <th>vax_type</th>\n",
       "      <th>vax_manu</th>\n",
       "      <th>vax_lot</th>\n",
       "      <th>vax_dose_series</th>\n",
       "      <th>vax_route</th>\n",
       "      <th>vax_site</th>\n",
       "      <th>vax_name</th>\n",
       "    </tr>\n",
       "  </thead>\n",
       "  <tbody>\n",
       "    <tr>\n",
       "      <th>0</th>\n",
       "      <td>1000000</td>\n",
       "      <td>02/04/2021</td>\n",
       "      <td>CA</td>\n",
       "      <td>NaN</td>\n",
       "      <td>NaN</td>\n",
       "      <td>M</td>\n",
       "      <td>tested positive; tested positive; This is a sp...</td>\n",
       "      <td>NaN</td>\n",
       "      <td>NaN</td>\n",
       "      <td>NaN</td>\n",
       "      <td>...</td>\n",
       "      <td>NaN</td>\n",
       "      <td>NaN</td>\n",
       "      <td>NaN</td>\n",
       "      <td>COVID19</td>\n",
       "      <td>PFIZER\\BIONTECH</td>\n",
       "      <td>NaN</td>\n",
       "      <td>1</td>\n",
       "      <td>NaN</td>\n",
       "      <td>NaN</td>\n",
       "      <td>COVID19 (COVID19 (PFIZER-BIONTECH))</td>\n",
       "    </tr>\n",
       "    <tr>\n",
       "      <th>1</th>\n",
       "      <td>1000001</td>\n",
       "      <td>02/04/2021</td>\n",
       "      <td>WI</td>\n",
       "      <td>NaN</td>\n",
       "      <td>NaN</td>\n",
       "      <td>F</td>\n",
       "      <td>covid symptoms the 28th and tested positive; c...</td>\n",
       "      <td>NaN</td>\n",
       "      <td>NaN</td>\n",
       "      <td>NaN</td>\n",
       "      <td>...</td>\n",
       "      <td>NaN</td>\n",
       "      <td>NaN</td>\n",
       "      <td>NaN</td>\n",
       "      <td>COVID19</td>\n",
       "      <td>PFIZER\\BIONTECH</td>\n",
       "      <td>NaN</td>\n",
       "      <td>1</td>\n",
       "      <td>NaN</td>\n",
       "      <td>NaN</td>\n",
       "      <td>COVID19 (COVID19 (PFIZER-BIONTECH))</td>\n",
       "    </tr>\n",
       "    <tr>\n",
       "      <th>2</th>\n",
       "      <td>1000003</td>\n",
       "      <td>02/04/2021</td>\n",
       "      <td>PA</td>\n",
       "      <td>29.0</td>\n",
       "      <td>NaN</td>\n",
       "      <td>F</td>\n",
       "      <td>rash and hives all over body; rash and hives a...</td>\n",
       "      <td>NaN</td>\n",
       "      <td>NaN</td>\n",
       "      <td>NaN</td>\n",
       "      <td>...</td>\n",
       "      <td>NaN</td>\n",
       "      <td>NaN</td>\n",
       "      <td>NaN</td>\n",
       "      <td>COVID19</td>\n",
       "      <td>PFIZER\\BIONTECH</td>\n",
       "      <td>EJ1685</td>\n",
       "      <td>1</td>\n",
       "      <td>OT</td>\n",
       "      <td>LA</td>\n",
       "      <td>COVID19 (COVID19 (PFIZER-BIONTECH))</td>\n",
       "    </tr>\n",
       "    <tr>\n",
       "      <th>3</th>\n",
       "      <td>1000006</td>\n",
       "      <td>02/04/2021</td>\n",
       "      <td>NaN</td>\n",
       "      <td>NaN</td>\n",
       "      <td>NaN</td>\n",
       "      <td>F</td>\n",
       "      <td>tested positive for covid; tested positive for...</td>\n",
       "      <td>NaN</td>\n",
       "      <td>NaN</td>\n",
       "      <td>NaN</td>\n",
       "      <td>...</td>\n",
       "      <td>NaN</td>\n",
       "      <td>NaN</td>\n",
       "      <td>NaN</td>\n",
       "      <td>COVID19</td>\n",
       "      <td>PFIZER\\BIONTECH</td>\n",
       "      <td>NaN</td>\n",
       "      <td>1</td>\n",
       "      <td>NaN</td>\n",
       "      <td>NaN</td>\n",
       "      <td>COVID19 (COVID19 (PFIZER-BIONTECH))</td>\n",
       "    </tr>\n",
       "    <tr>\n",
       "      <th>4</th>\n",
       "      <td>1000007</td>\n",
       "      <td>02/04/2021</td>\n",
       "      <td>WI</td>\n",
       "      <td>53.0</td>\n",
       "      <td>NaN</td>\n",
       "      <td>M</td>\n",
       "      <td>blood sugar has been out of control ranging fr...</td>\n",
       "      <td>NaN</td>\n",
       "      <td>NaN</td>\n",
       "      <td>NaN</td>\n",
       "      <td>...</td>\n",
       "      <td>NaN</td>\n",
       "      <td>NaN</td>\n",
       "      <td>NaN</td>\n",
       "      <td>COVID19</td>\n",
       "      <td>PFIZER\\BIONTECH</td>\n",
       "      <td>NaN</td>\n",
       "      <td>1</td>\n",
       "      <td>NaN</td>\n",
       "      <td>RA</td>\n",
       "      <td>COVID19 (COVID19 (PFIZER-BIONTECH))</td>\n",
       "    </tr>\n",
       "  </tbody>\n",
       "</table>\n",
       "<p>5 rows × 49 columns</p>\n",
       "</div>"
      ],
      "text/plain": [
       "   vaers_id    recvdate state_  age_yrs  cage_yr sex  \\\n",
       "0   1000000  02/04/2021     CA      NaN      NaN   M   \n",
       "1   1000001  02/04/2021     WI      NaN      NaN   F   \n",
       "2   1000003  02/04/2021     PA     29.0      NaN   F   \n",
       "3   1000006  02/04/2021    NaN      NaN      NaN   F   \n",
       "4   1000007  02/04/2021     WI     53.0      NaN   M   \n",
       "\n",
       "                                        symptom_text died datedied l_threat  \\\n",
       "0  tested positive; tested positive; This is a sp...  NaN      NaN      NaN   \n",
       "1  covid symptoms the 28th and tested positive; c...  NaN      NaN      NaN   \n",
       "2  rash and hives all over body; rash and hives a...  NaN      NaN      NaN   \n",
       "3  tested positive for covid; tested positive for...  NaN      NaN      NaN   \n",
       "4  blood sugar has been out of control ranging fr...  NaN      NaN      NaN   \n",
       "\n",
       "   ... symptomversion4 symptom5  symptomversion5 vax_type         vax_manu  \\\n",
       "0  ...             NaN      NaN              NaN  COVID19  PFIZER\\BIONTECH   \n",
       "1  ...             NaN      NaN              NaN  COVID19  PFIZER\\BIONTECH   \n",
       "2  ...             NaN      NaN              NaN  COVID19  PFIZER\\BIONTECH   \n",
       "3  ...             NaN      NaN              NaN  COVID19  PFIZER\\BIONTECH   \n",
       "4  ...             NaN      NaN              NaN  COVID19  PFIZER\\BIONTECH   \n",
       "\n",
       "  vax_lot vax_dose_series vax_route  vax_site  \\\n",
       "0     NaN               1       NaN       NaN   \n",
       "1     NaN               1       NaN       NaN   \n",
       "2  EJ1685               1        OT        LA   \n",
       "3     NaN               1       NaN       NaN   \n",
       "4     NaN               1       NaN        RA   \n",
       "\n",
       "                              vax_name  \n",
       "0  COVID19 (COVID19 (PFIZER-BIONTECH))  \n",
       "1  COVID19 (COVID19 (PFIZER-BIONTECH))  \n",
       "2  COVID19 (COVID19 (PFIZER-BIONTECH))  \n",
       "3  COVID19 (COVID19 (PFIZER-BIONTECH))  \n",
       "4  COVID19 (COVID19 (PFIZER-BIONTECH))  \n",
       "\n",
       "[5 rows x 49 columns]"
      ]
     },
     "execution_count": 2,
     "metadata": {},
     "output_type": "execute_result"
    }
   ],
   "source": [
    "# Import cleaned VAERS dataset\n",
    "vaers_df = pd.read_csv('../vaers_data_cleaned.csv', low_memory=False)\n",
    "print(vaers_df.shape)\n",
    "vaers_df.head()"
   ]
  },
  {
   "cell_type": "code",
   "execution_count": 3,
   "metadata": {},
   "outputs": [
    {
     "name": "stdout",
     "output_type": "stream",
     "text": [
      "(40209, 49)\n"
     ]
    },
    {
     "data": {
      "text/html": [
       "<div>\n",
       "<style scoped>\n",
       "    .dataframe tbody tr th:only-of-type {\n",
       "        vertical-align: middle;\n",
       "    }\n",
       "\n",
       "    .dataframe tbody tr th {\n",
       "        vertical-align: top;\n",
       "    }\n",
       "\n",
       "    .dataframe thead th {\n",
       "        text-align: right;\n",
       "    }\n",
       "</style>\n",
       "<table border=\"1\" class=\"dataframe\">\n",
       "  <thead>\n",
       "    <tr style=\"text-align: right;\">\n",
       "      <th></th>\n",
       "      <th>vaers_id</th>\n",
       "      <th>recvdate</th>\n",
       "      <th>state_</th>\n",
       "      <th>age_yrs</th>\n",
       "      <th>cage_yr</th>\n",
       "      <th>sex</th>\n",
       "      <th>symptom_text</th>\n",
       "      <th>died</th>\n",
       "      <th>datedied</th>\n",
       "      <th>l_threat</th>\n",
       "      <th>...</th>\n",
       "      <th>symptomversion4</th>\n",
       "      <th>symptom5</th>\n",
       "      <th>symptomversion5</th>\n",
       "      <th>vax_type</th>\n",
       "      <th>vax_manu</th>\n",
       "      <th>vax_lot</th>\n",
       "      <th>vax_dose_series</th>\n",
       "      <th>vax_route</th>\n",
       "      <th>vax_site</th>\n",
       "      <th>vax_name</th>\n",
       "    </tr>\n",
       "  </thead>\n",
       "  <tbody>\n",
       "    <tr>\n",
       "      <th>0</th>\n",
       "      <td>1000000</td>\n",
       "      <td>02/04/2021</td>\n",
       "      <td>CA</td>\n",
       "      <td>NaN</td>\n",
       "      <td>NaN</td>\n",
       "      <td>M</td>\n",
       "      <td>tested positive; tested positive; This is a sp...</td>\n",
       "      <td>NaN</td>\n",
       "      <td>NaN</td>\n",
       "      <td>NaN</td>\n",
       "      <td>...</td>\n",
       "      <td>NaN</td>\n",
       "      <td>NaN</td>\n",
       "      <td>NaN</td>\n",
       "      <td>COVID19</td>\n",
       "      <td>PFIZER\\BIONTECH</td>\n",
       "      <td>NaN</td>\n",
       "      <td>1</td>\n",
       "      <td>NaN</td>\n",
       "      <td>NaN</td>\n",
       "      <td>COVID19 (COVID19 (PFIZER-BIONTECH))</td>\n",
       "    </tr>\n",
       "    <tr>\n",
       "      <th>1</th>\n",
       "      <td>1000001</td>\n",
       "      <td>02/04/2021</td>\n",
       "      <td>WI</td>\n",
       "      <td>NaN</td>\n",
       "      <td>NaN</td>\n",
       "      <td>F</td>\n",
       "      <td>covid symptoms the 28th and tested positive; c...</td>\n",
       "      <td>NaN</td>\n",
       "      <td>NaN</td>\n",
       "      <td>NaN</td>\n",
       "      <td>...</td>\n",
       "      <td>NaN</td>\n",
       "      <td>NaN</td>\n",
       "      <td>NaN</td>\n",
       "      <td>COVID19</td>\n",
       "      <td>PFIZER\\BIONTECH</td>\n",
       "      <td>NaN</td>\n",
       "      <td>1</td>\n",
       "      <td>NaN</td>\n",
       "      <td>NaN</td>\n",
       "      <td>COVID19 (COVID19 (PFIZER-BIONTECH))</td>\n",
       "    </tr>\n",
       "    <tr>\n",
       "      <th>2</th>\n",
       "      <td>1000003</td>\n",
       "      <td>02/04/2021</td>\n",
       "      <td>PA</td>\n",
       "      <td>29.0</td>\n",
       "      <td>NaN</td>\n",
       "      <td>F</td>\n",
       "      <td>rash and hives all over body; rash and hives a...</td>\n",
       "      <td>NaN</td>\n",
       "      <td>NaN</td>\n",
       "      <td>NaN</td>\n",
       "      <td>...</td>\n",
       "      <td>NaN</td>\n",
       "      <td>NaN</td>\n",
       "      <td>NaN</td>\n",
       "      <td>COVID19</td>\n",
       "      <td>PFIZER\\BIONTECH</td>\n",
       "      <td>EJ1685</td>\n",
       "      <td>1</td>\n",
       "      <td>OT</td>\n",
       "      <td>LA</td>\n",
       "      <td>COVID19 (COVID19 (PFIZER-BIONTECH))</td>\n",
       "    </tr>\n",
       "    <tr>\n",
       "      <th>3</th>\n",
       "      <td>1000006</td>\n",
       "      <td>02/04/2021</td>\n",
       "      <td>NaN</td>\n",
       "      <td>NaN</td>\n",
       "      <td>NaN</td>\n",
       "      <td>F</td>\n",
       "      <td>tested positive for covid; tested positive for...</td>\n",
       "      <td>NaN</td>\n",
       "      <td>NaN</td>\n",
       "      <td>NaN</td>\n",
       "      <td>...</td>\n",
       "      <td>NaN</td>\n",
       "      <td>NaN</td>\n",
       "      <td>NaN</td>\n",
       "      <td>COVID19</td>\n",
       "      <td>PFIZER\\BIONTECH</td>\n",
       "      <td>NaN</td>\n",
       "      <td>1</td>\n",
       "      <td>NaN</td>\n",
       "      <td>NaN</td>\n",
       "      <td>COVID19 (COVID19 (PFIZER-BIONTECH))</td>\n",
       "    </tr>\n",
       "    <tr>\n",
       "      <th>4</th>\n",
       "      <td>1000007</td>\n",
       "      <td>02/04/2021</td>\n",
       "      <td>WI</td>\n",
       "      <td>53.0</td>\n",
       "      <td>NaN</td>\n",
       "      <td>M</td>\n",
       "      <td>blood sugar has been out of control ranging fr...</td>\n",
       "      <td>NaN</td>\n",
       "      <td>NaN</td>\n",
       "      <td>NaN</td>\n",
       "      <td>...</td>\n",
       "      <td>NaN</td>\n",
       "      <td>NaN</td>\n",
       "      <td>NaN</td>\n",
       "      <td>COVID19</td>\n",
       "      <td>PFIZER\\BIONTECH</td>\n",
       "      <td>NaN</td>\n",
       "      <td>1</td>\n",
       "      <td>NaN</td>\n",
       "      <td>RA</td>\n",
       "      <td>COVID19 (COVID19 (PFIZER-BIONTECH))</td>\n",
       "    </tr>\n",
       "  </tbody>\n",
       "</table>\n",
       "<p>5 rows × 49 columns</p>\n",
       "</div>"
      ],
      "text/plain": [
       "   vaers_id    recvdate state_  age_yrs  cage_yr sex  \\\n",
       "0   1000000  02/04/2021     CA      NaN      NaN   M   \n",
       "1   1000001  02/04/2021     WI      NaN      NaN   F   \n",
       "2   1000003  02/04/2021     PA     29.0      NaN   F   \n",
       "3   1000006  02/04/2021    NaN      NaN      NaN   F   \n",
       "4   1000007  02/04/2021     WI     53.0      NaN   M   \n",
       "\n",
       "                                        symptom_text died datedied l_threat  \\\n",
       "0  tested positive; tested positive; This is a sp...  NaN      NaN      NaN   \n",
       "1  covid symptoms the 28th and tested positive; c...  NaN      NaN      NaN   \n",
       "2  rash and hives all over body; rash and hives a...  NaN      NaN      NaN   \n",
       "3  tested positive for covid; tested positive for...  NaN      NaN      NaN   \n",
       "4  blood sugar has been out of control ranging fr...  NaN      NaN      NaN   \n",
       "\n",
       "   ... symptomversion4 symptom5  symptomversion5 vax_type         vax_manu  \\\n",
       "0  ...             NaN      NaN              NaN  COVID19  PFIZER\\BIONTECH   \n",
       "1  ...             NaN      NaN              NaN  COVID19  PFIZER\\BIONTECH   \n",
       "2  ...             NaN      NaN              NaN  COVID19  PFIZER\\BIONTECH   \n",
       "3  ...             NaN      NaN              NaN  COVID19  PFIZER\\BIONTECH   \n",
       "4  ...             NaN      NaN              NaN  COVID19  PFIZER\\BIONTECH   \n",
       "\n",
       "  vax_lot vax_dose_series vax_route  vax_site  \\\n",
       "0     NaN               1       NaN       NaN   \n",
       "1     NaN               1       NaN       NaN   \n",
       "2  EJ1685               1        OT        LA   \n",
       "3     NaN               1       NaN       NaN   \n",
       "4     NaN               1       NaN        RA   \n",
       "\n",
       "                              vax_name  \n",
       "0  COVID19 (COVID19 (PFIZER-BIONTECH))  \n",
       "1  COVID19 (COVID19 (PFIZER-BIONTECH))  \n",
       "2  COVID19 (COVID19 (PFIZER-BIONTECH))  \n",
       "3  COVID19 (COVID19 (PFIZER-BIONTECH))  \n",
       "4  COVID19 (COVID19 (PFIZER-BIONTECH))  \n",
       "\n",
       "[5 rows x 49 columns]"
      ]
     },
     "execution_count": 3,
     "metadata": {},
     "output_type": "execute_result"
    }
   ],
   "source": [
    "# Drop duplicates in the dataframe\n",
    "vaers_df.drop_duplicates(inplace=True)\n",
    "print(vaers_df.shape)\n",
    "vaers_df.head()"
   ]
  },
  {
   "cell_type": "code",
   "execution_count": 4,
   "metadata": {},
   "outputs": [
    {
     "data": {
      "text/plain": [
       "vaers_id             int64\n",
       "recvdate            object\n",
       "state_              object\n",
       "age_yrs            float64\n",
       "cage_yr            float64\n",
       "sex                 object\n",
       "symptom_text        object\n",
       "died                object\n",
       "datedied            object\n",
       "l_threat            object\n",
       "er_visit            object\n",
       "hospital            object\n",
       "hospdays           float64\n",
       "x_stay              object\n",
       "disable_            object\n",
       "recovd              object\n",
       "vax_date            object\n",
       "onset_date          object\n",
       "numdays            float64\n",
       "lab_data            object\n",
       "v_adminby           object\n",
       "v_fundby            object\n",
       "other_meds          object\n",
       "cur_ill             object\n",
       "history             object\n",
       "splttype            object\n",
       "form_vers            int64\n",
       "todays_date         object\n",
       "birth_defect        object\n",
       "ofc_visit           object\n",
       "er_ed_visit         object\n",
       "allergies           object\n",
       "symptom1            object\n",
       "symptomversion1    float64\n",
       "symptom2            object\n",
       "symptomversion2    float64\n",
       "symptom3            object\n",
       "symptomversion3    float64\n",
       "symptom4            object\n",
       "symptomversion4    float64\n",
       "symptom5            object\n",
       "symptomversion5    float64\n",
       "vax_type            object\n",
       "vax_manu            object\n",
       "vax_lot             object\n",
       "vax_dose_series     object\n",
       "vax_route           object\n",
       "vax_site            object\n",
       "vax_name            object\n",
       "dtype: object"
      ]
     },
     "execution_count": 4,
     "metadata": {},
     "output_type": "execute_result"
    }
   ],
   "source": [
    "# Check vaers_df column types\n",
    "vaers_df.dtypes"
   ]
  },
  {
   "cell_type": "code",
   "execution_count": 5,
   "metadata": {},
   "outputs": [
    {
     "data": {
      "text/plain": [
       "['recvdate',\n",
       " 'state_',\n",
       " 'sex',\n",
       " 'symptom_text',\n",
       " 'died',\n",
       " 'datedied',\n",
       " 'l_threat',\n",
       " 'er_visit',\n",
       " 'hospital',\n",
       " 'x_stay',\n",
       " 'disable_',\n",
       " 'recovd',\n",
       " 'vax_date',\n",
       " 'onset_date',\n",
       " 'lab_data',\n",
       " 'v_adminby',\n",
       " 'v_fundby',\n",
       " 'other_meds',\n",
       " 'cur_ill',\n",
       " 'history',\n",
       " 'splttype',\n",
       " 'todays_date',\n",
       " 'birth_defect',\n",
       " 'ofc_visit',\n",
       " 'er_ed_visit',\n",
       " 'allergies',\n",
       " 'symptom1',\n",
       " 'symptom2',\n",
       " 'symptom3',\n",
       " 'symptom4',\n",
       " 'symptom5',\n",
       " 'vax_type',\n",
       " 'vax_manu',\n",
       " 'vax_lot',\n",
       " 'vax_dose_series',\n",
       " 'vax_route',\n",
       " 'vax_site',\n",
       " 'vax_name']"
      ]
     },
     "execution_count": 5,
     "metadata": {},
     "output_type": "execute_result"
    }
   ],
   "source": [
    "# Categorical variable list\n",
    "vaers_cat = vaers_df.dtypes[vaers_df.dtypes == 'object'].index.tolist()\n",
    "vaers_cat"
   ]
  },
  {
   "cell_type": "code",
   "execution_count": 6,
   "metadata": {},
   "outputs": [
    {
     "data": {
      "text/plain": [
       "recvdate              70\n",
       "state_                60\n",
       "sex                    3\n",
       "symptom_text       27184\n",
       "died                   1\n",
       "datedied              95\n",
       "l_threat               1\n",
       "er_visit               1\n",
       "hospital               1\n",
       "x_stay                 1\n",
       "disable_               1\n",
       "recovd                 3\n",
       "vax_date             278\n",
       "onset_date           206\n",
       "lab_data            7721\n",
       "v_adminby              9\n",
       "v_fundby               4\n",
       "other_meds         11809\n",
       "cur_ill             3516\n",
       "history             9512\n",
       "splttype            5892\n",
       "todays_date          104\n",
       "birth_defect           1\n",
       "ofc_visit              1\n",
       "er_ed_visit            1\n",
       "allergies           6239\n",
       "symptom1            2301\n",
       "symptom2            2220\n",
       "symptom3            2017\n",
       "symptom4            1833\n",
       "symptom5            1617\n",
       "vax_type              40\n",
       "vax_manu              14\n",
       "vax_lot             1886\n",
       "vax_dose_series        8\n",
       "vax_route              7\n",
       "vax_site               9\n",
       "vax_name              63\n",
       "dtype: int64"
      ]
     },
     "execution_count": 6,
     "metadata": {},
     "output_type": "execute_result"
    }
   ],
   "source": [
    "# Unique values in each column\n",
    "vaers_df[vaers_cat].nunique()"
   ]
  },
  {
   "cell_type": "code",
   "execution_count": 7,
   "metadata": {},
   "outputs": [
    {
     "data": {
      "text/plain": [
       "Y    2569\n",
       "Name: died, dtype: int64"
      ]
     },
     "execution_count": 7,
     "metadata": {},
     "output_type": "execute_result"
    }
   ],
   "source": [
    "# DIED value counts\n",
    "counts = vaers_df.died.value_counts()\n",
    "counts"
   ]
  },
  {
   "cell_type": "code",
   "execution_count": 8,
   "metadata": {},
   "outputs": [
    {
     "data": {
      "text/plain": [
       "None                                                                                                                                    2682\n",
       "none                                                                                                                                    1557\n",
       "no                                                                                                                                       222\n",
       "NONE                                                                                                                                     192\n",
       "None.                                                                                                                                    171\n",
       "                                                                                                                                        ... \n",
       "EKG  and basic metabolic panel - normal.                                                                                                   1\n",
       "None. I consulted with my doctor twice who said not to touch it.                                                                           1\n",
       "lipase>4000. MRCP negative for cause, does not drink. She did have pancreatitis in 2018 and the cause was also unknown at that time.       1\n",
       "Test Date: 20201227; Test Name: COVID test; Test Result: Positive                                                                          1\n",
       "CTA with PE 1/23/2021 Elevated PTT 1/23/2021                                                                                               1\n",
       "Name: lab_data, Length: 7721, dtype: int64"
      ]
     },
     "execution_count": 8,
     "metadata": {},
     "output_type": "execute_result"
    }
   ],
   "source": [
    "# LAB DATA value counts\n",
    "counts = vaers_df.lab_data.value_counts()\n",
    "counts"
   ]
  },
  {
   "cell_type": "code",
   "execution_count": 9,
   "metadata": {},
   "outputs": [
    {
     "data": {
      "text/plain": [
       "None                                                                                                                                                                                                                      1866\n",
       "none                                                                                                                                                                                                                       871\n",
       "unknown                                                                                                                                                                                                                    359\n",
       "Unknown                                                                                                                                                                                                                    359\n",
       "No                                                                                                                                                                                                                         131\n",
       "                                                                                                                                                                                                                          ... \n",
       "Amlodipine 10MG Atorvastatin 40MG Calcium Carbonate 600MG Cholecalfiferol (Vitamin D3) Clopidogrel 75MG Mirtazapine 7.5 MG tablet Multivitamin Oxbutynin 5 MG Xarelto 20 MG                                                  1\n",
       "IWI Algae pills - Omega three Super Beets                                                                                                                                                                                    1\n",
       "Percocet 5/325 mg, Vitamin B12, Ventolin HFA, Amiodarone, Apixaban, Atorvastatin, Carvedilol, Iron sulfate, Lasix, Gabapentin, Insulin Glargine, Insulin Lispro, Levothyroxine, Lidocaine patch, Protonix, Sertraline,       1\n",
       "Lorazepam, Lisinopril, baby aspirin, calcium, fish oil.                                                                                                                                                                      1\n",
       "OTEZLA                                                                                                                                                                                                                       1\n",
       "Name: other_meds, Length: 11809, dtype: int64"
      ]
     },
     "execution_count": 9,
     "metadata": {},
     "output_type": "execute_result"
    }
   ],
   "source": [
    "# OTHER MEDS value counts\n",
    "counts = vaers_df.other_meds.value_counts()\n",
    "counts"
   ]
  },
  {
   "cell_type": "code",
   "execution_count": 10,
   "metadata": {},
   "outputs": [
    {
     "data": {
      "text/plain": [
       "None                                                                                                                            6316\n",
       "none                                                                                                                            3451\n",
       "No                                                                                                                               654\n",
       "no                                                                                                                               522\n",
       "NONE                                                                                                                             365\n",
       "                                                                                                                                ... \n",
       "Preliminary diagnosis of POTS                                                                                                      1\n",
       "Anemia, cardiac murmur, atrial fibrillation, osteoporosis, dysphagia, hyperlipidemia, muscle weakness, aortic valve stenosis       1\n",
       "NoneAl                                                                                                                             1\n",
       "No illnesses mentioned                                                                                                             1\n",
       "Hypertension on medication for it.                                                                                                 1\n",
       "Name: cur_ill, Length: 3516, dtype: int64"
      ]
     },
     "execution_count": 10,
     "metadata": {},
     "output_type": "execute_result"
    }
   ],
   "source": [
    "# CUR_ILL value counts\n",
    "counts = vaers_df.cur_ill.value_counts()\n",
    "counts"
   ]
  },
  {
   "cell_type": "code",
   "execution_count": 11,
   "metadata": {},
   "outputs": [
    {
     "data": {
      "text/plain": [
       "None                                                                                              3151\n",
       "none                                                                                              1521\n",
       "Comments: List of non-encoded Patient Relevant History: Patient Other Relevant History 1: None     675\n",
       "Medical History/Concurrent Conditions: No adverse event (No reported medical history)              372\n",
       "No                                                                                                 339\n",
       "                                                                                                  ... \n",
       "HRB, depression                                                                                      1\n",
       "Chronic sinus problems  and allergic rinithis                                                        1\n",
       "Polycystic Ovary Syndrome  Type II Diabetes  Hypertension  PTSD                                      1\n",
       "Psoriasis sleep apnea on cpap                                                                        1\n",
       "STATES NONE (ALTHOUGH IS ON MEDICATION)                                                              1\n",
       "Name: history, Length: 9512, dtype: int64"
      ]
     },
     "execution_count": 11,
     "metadata": {},
     "output_type": "execute_result"
    }
   ],
   "source": [
    "# HISTORY value counts\n",
    "counts = vaers_df.history.value_counts()\n",
    "counts"
   ]
  },
  {
   "cell_type": "code",
   "execution_count": 12,
   "metadata": {},
   "outputs": [
    {
     "data": {
      "text/plain": [
       "USMODERNATX, INC.MOD20210    1286\n",
       "vsafe                         514\n",
       "VSAFE                          69\n",
       "USMODERNATX, INC.MOD20200      47\n",
       "USGLAXOSMITHKLINEUS2020GS      27\n",
       "                             ... \n",
       "USPFIZER INC2021105932          1\n",
       "USPFIZER INC2021081013          1\n",
       "USPFIZER INC2020514614          1\n",
       "USPFIZER INC2021120907          1\n",
       "USPFIZER INC2021185570          1\n",
       "Name: splttype, Length: 5892, dtype: int64"
      ]
     },
     "execution_count": 12,
     "metadata": {},
     "output_type": "execute_result"
    }
   ],
   "source": [
    "#SPLTTYPE value counts\n",
    "counts = vaers_df.splttype.value_counts()\n",
    "counts"
   ]
  },
  {
   "cell_type": "code",
   "execution_count": 13,
   "metadata": {},
   "outputs": [
    {
     "data": {
      "text/plain": [
       "None             3365\n",
       "none             1615\n",
       "NKA               803\n",
       "NKDA              767\n",
       "No                401\n",
       "                 ... \n",
       "Ceftin, Zomig       1\n",
       "NKDA/ NKA           1\n",
       "Raglan              1\n",
       "Sal.eterol          1\n",
       "yes-latex           1\n",
       "Name: allergies, Length: 6239, dtype: int64"
      ]
     },
     "execution_count": 13,
     "metadata": {},
     "output_type": "execute_result"
    }
   ],
   "source": [
    "#ALLERGIES value counts\n",
    "counts = vaers_df.allergies.value_counts()\n",
    "counts"
   ]
  },
  {
   "cell_type": "code",
   "execution_count": 14,
   "metadata": {},
   "outputs": [
    {
     "data": {
      "text/plain": [
       "Chills                          2357\n",
       "Arthralgia                      1515\n",
       "Headache                        1194\n",
       "Injection site erythema         1176\n",
       "Dizziness                       1175\n",
       "                                ... \n",
       "Alveolar lung disease              1\n",
       "Vaccine positive rechallenge       1\n",
       "Muscle atrophy                     1\n",
       "Myocardial strain                  1\n",
       "Pericoronitis                      1\n",
       "Name: symptom1, Length: 2301, dtype: int64"
      ]
     },
     "execution_count": 14,
     "metadata": {},
     "output_type": "execute_result"
    }
   ],
   "source": [
    "#SYMPTOM1 value counts\n",
    "counts = vaers_df.symptom1.value_counts()\n",
    "counts"
   ]
  },
  {
   "cell_type": "code",
   "execution_count": 15,
   "metadata": {},
   "outputs": [
    {
     "data": {
      "text/plain": [
       "Headache                           1682\n",
       "Fatigue                            1301\n",
       "Chills                             1118\n",
       "Dizziness                           835\n",
       "Pyrexia                             824\n",
       "                                   ... \n",
       "Myocardial strain                     1\n",
       "Hyperkalaemia                         1\n",
       "Drug hypersensitivity                 1\n",
       "Platelet function test abnormal       1\n",
       "Sports injury                         1\n",
       "Name: symptom2, Length: 2220, dtype: int64"
      ]
     },
     "execution_count": 15,
     "metadata": {},
     "output_type": "execute_result"
    }
   ],
   "source": [
    "#SYMPTOM2 value counts\n",
    "counts = vaers_df.symptom2.value_counts()\n",
    "counts"
   ]
  },
  {
   "cell_type": "code",
   "execution_count": 16,
   "metadata": {},
   "outputs": [
    {
     "data": {
      "text/plain": [
       "039K20A       1375\n",
       "011J20A       1256\n",
       "EK9231        1132\n",
       "EK5730        1072\n",
       "EH9899        1047\n",
       "              ... \n",
       "042220A          1\n",
       "EH4899           1\n",
       "025.120-2A       1\n",
       "T022294          1\n",
       "043220A          1\n",
       "Name: vax_lot, Length: 1886, dtype: int64"
      ]
     },
     "execution_count": 16,
     "metadata": {},
     "output_type": "execute_result"
    }
   ],
   "source": [
    "#VAX_LOT value counts\n",
    "counts = vaers_df.vax_lot.value_counts()\n",
    "counts"
   ]
  },
  {
   "cell_type": "code",
   "execution_count": 17,
   "metadata": {},
   "outputs": [],
   "source": [
    "# Drop LAB_DATA, OTHER MEDS, CUR_ILL, HISTORY, PRIOR_VAX, ALLERGIES - unless we use NLP, those columns can't be hot encoded\n",
    "vaers_drop = vaers_df.drop(columns = ['lab_data', 'other_meds', 'cur_ill', 'history', 'allergies'])"
   ]
  },
  {
   "cell_type": "code",
   "execution_count": 18,
   "metadata": {},
   "outputs": [],
   "source": [
    "# Drop Unamed: 0 because it is the same as the index and VAERS_ID\n",
    "vaers_clean = vaers_drop.drop(columns = ['vaers_id'])"
   ]
  },
  {
   "cell_type": "code",
   "execution_count": 19,
   "metadata": {},
   "outputs": [],
   "source": [
    "# Drop date columns to help the logistic regression model\n",
    "vaers_dates = [col for col in vaers_clean.columns if 'date' in col]\n",
    "vaers_log_clean =vaers_clean.drop(columns=vaers_dates)"
   ]
  },
  {
   "cell_type": "code",
   "execution_count": 20,
   "metadata": {},
   "outputs": [
    {
     "data": {
      "text/plain": [
       "['recvdate', 'datedied', 'vax_date', 'onset_date', 'todays_date']"
      ]
     },
     "execution_count": 20,
     "metadata": {},
     "output_type": "execute_result"
    }
   ],
   "source": [
    "vaers_dates"
   ]
  },
  {
   "cell_type": "code",
   "execution_count": 21,
   "metadata": {},
   "outputs": [
    {
     "data": {
      "text/plain": [
       "Index(['state_', 'age_yrs', 'cage_yr', 'sex', 'symptom_text', 'died',\n",
       "       'l_threat', 'er_visit', 'hospital', 'hospdays', 'x_stay', 'disable_',\n",
       "       'recovd', 'numdays', 'v_adminby', 'v_fundby', 'splttype', 'form_vers',\n",
       "       'birth_defect', 'ofc_visit', 'er_ed_visit', 'symptom1',\n",
       "       'symptomversion1', 'symptom2', 'symptomversion2', 'symptom3',\n",
       "       'symptomversion3', 'symptom4', 'symptomversion4', 'symptom5',\n",
       "       'symptomversion5', 'vax_type', 'vax_manu', 'vax_lot', 'vax_dose_series',\n",
       "       'vax_route', 'vax_site', 'vax_name'],\n",
       "      dtype='object')"
      ]
     },
     "execution_count": 21,
     "metadata": {},
     "output_type": "execute_result"
    }
   ],
   "source": [
    "vaers_log_clean.columns"
   ]
  },
  {
   "cell_type": "code",
   "execution_count": 22,
   "metadata": {},
   "outputs": [],
   "source": [
    "# Drop symptoms columns\n",
    "vaers_symptoms = [col for col in vaers_log_clean.columns if \"symptom\" in col]\n",
    "vaers_log_clean = vaers_log_clean.drop(columns = vaers_symptoms)"
   ]
  },
  {
   "cell_type": "code",
   "execution_count": 23,
   "metadata": {},
   "outputs": [
    {
     "data": {
      "text/plain": [
       "state_               60\n",
       "age_yrs             118\n",
       "cage_yr             105\n",
       "sex                   3\n",
       "died                  1\n",
       "l_threat              1\n",
       "er_visit              1\n",
       "hospital              1\n",
       "hospdays             33\n",
       "x_stay                1\n",
       "disable_              1\n",
       "recovd                3\n",
       "numdays             115\n",
       "v_adminby             9\n",
       "v_fundby              4\n",
       "splttype           5892\n",
       "form_vers             2\n",
       "birth_defect          1\n",
       "ofc_visit             1\n",
       "er_ed_visit           1\n",
       "vax_type             40\n",
       "vax_manu             14\n",
       "vax_lot            1886\n",
       "vax_dose_series       8\n",
       "vax_route             7\n",
       "vax_site              9\n",
       "vax_name             63\n",
       "dtype: int64"
      ]
     },
     "execution_count": 23,
     "metadata": {},
     "output_type": "execute_result"
    }
   ],
   "source": [
    "# re-count Unique values in each column in new cleaned df\n",
    "vaers_log_clean.nunique()"
   ]
  },
  {
   "cell_type": "code",
   "execution_count": 24,
   "metadata": {},
   "outputs": [
    {
     "name": "stdout",
     "output_type": "stream",
     "text": [
      "(27740, 27)\n"
     ]
    },
    {
     "data": {
      "text/html": [
       "<div>\n",
       "<style scoped>\n",
       "    .dataframe tbody tr th:only-of-type {\n",
       "        vertical-align: middle;\n",
       "    }\n",
       "\n",
       "    .dataframe tbody tr th {\n",
       "        vertical-align: top;\n",
       "    }\n",
       "\n",
       "    .dataframe thead th {\n",
       "        text-align: right;\n",
       "    }\n",
       "</style>\n",
       "<table border=\"1\" class=\"dataframe\">\n",
       "  <thead>\n",
       "    <tr style=\"text-align: right;\">\n",
       "      <th></th>\n",
       "      <th>state_</th>\n",
       "      <th>age_yrs</th>\n",
       "      <th>cage_yr</th>\n",
       "      <th>sex</th>\n",
       "      <th>died</th>\n",
       "      <th>l_threat</th>\n",
       "      <th>er_visit</th>\n",
       "      <th>hospital</th>\n",
       "      <th>hospdays</th>\n",
       "      <th>x_stay</th>\n",
       "      <th>...</th>\n",
       "      <th>birth_defect</th>\n",
       "      <th>ofc_visit</th>\n",
       "      <th>er_ed_visit</th>\n",
       "      <th>vax_type</th>\n",
       "      <th>vax_manu</th>\n",
       "      <th>vax_lot</th>\n",
       "      <th>vax_dose_series</th>\n",
       "      <th>vax_route</th>\n",
       "      <th>vax_site</th>\n",
       "      <th>vax_name</th>\n",
       "    </tr>\n",
       "  </thead>\n",
       "  <tbody>\n",
       "    <tr>\n",
       "      <th>0</th>\n",
       "      <td>CA</td>\n",
       "      <td>NaN</td>\n",
       "      <td>NaN</td>\n",
       "      <td>M</td>\n",
       "      <td>NaN</td>\n",
       "      <td>NaN</td>\n",
       "      <td>NaN</td>\n",
       "      <td>NaN</td>\n",
       "      <td>NaN</td>\n",
       "      <td>NaN</td>\n",
       "      <td>...</td>\n",
       "      <td>NaN</td>\n",
       "      <td>NaN</td>\n",
       "      <td>NaN</td>\n",
       "      <td>COVID19</td>\n",
       "      <td>PFIZER\\BIONTECH</td>\n",
       "      <td>NaN</td>\n",
       "      <td>1</td>\n",
       "      <td>NaN</td>\n",
       "      <td>NaN</td>\n",
       "      <td>COVID19 (COVID19 (PFIZER-BIONTECH))</td>\n",
       "    </tr>\n",
       "    <tr>\n",
       "      <th>1</th>\n",
       "      <td>WI</td>\n",
       "      <td>NaN</td>\n",
       "      <td>NaN</td>\n",
       "      <td>F</td>\n",
       "      <td>NaN</td>\n",
       "      <td>NaN</td>\n",
       "      <td>NaN</td>\n",
       "      <td>NaN</td>\n",
       "      <td>NaN</td>\n",
       "      <td>NaN</td>\n",
       "      <td>...</td>\n",
       "      <td>NaN</td>\n",
       "      <td>NaN</td>\n",
       "      <td>NaN</td>\n",
       "      <td>COVID19</td>\n",
       "      <td>PFIZER\\BIONTECH</td>\n",
       "      <td>NaN</td>\n",
       "      <td>1</td>\n",
       "      <td>NaN</td>\n",
       "      <td>NaN</td>\n",
       "      <td>COVID19 (COVID19 (PFIZER-BIONTECH))</td>\n",
       "    </tr>\n",
       "    <tr>\n",
       "      <th>2</th>\n",
       "      <td>PA</td>\n",
       "      <td>29.0</td>\n",
       "      <td>NaN</td>\n",
       "      <td>F</td>\n",
       "      <td>NaN</td>\n",
       "      <td>NaN</td>\n",
       "      <td>NaN</td>\n",
       "      <td>NaN</td>\n",
       "      <td>NaN</td>\n",
       "      <td>NaN</td>\n",
       "      <td>...</td>\n",
       "      <td>NaN</td>\n",
       "      <td>Y</td>\n",
       "      <td>NaN</td>\n",
       "      <td>COVID19</td>\n",
       "      <td>PFIZER\\BIONTECH</td>\n",
       "      <td>EJ1685</td>\n",
       "      <td>1</td>\n",
       "      <td>OT</td>\n",
       "      <td>LA</td>\n",
       "      <td>COVID19 (COVID19 (PFIZER-BIONTECH))</td>\n",
       "    </tr>\n",
       "    <tr>\n",
       "      <th>3</th>\n",
       "      <td>NaN</td>\n",
       "      <td>NaN</td>\n",
       "      <td>NaN</td>\n",
       "      <td>F</td>\n",
       "      <td>NaN</td>\n",
       "      <td>NaN</td>\n",
       "      <td>NaN</td>\n",
       "      <td>NaN</td>\n",
       "      <td>NaN</td>\n",
       "      <td>NaN</td>\n",
       "      <td>...</td>\n",
       "      <td>NaN</td>\n",
       "      <td>NaN</td>\n",
       "      <td>NaN</td>\n",
       "      <td>COVID19</td>\n",
       "      <td>PFIZER\\BIONTECH</td>\n",
       "      <td>NaN</td>\n",
       "      <td>1</td>\n",
       "      <td>NaN</td>\n",
       "      <td>NaN</td>\n",
       "      <td>COVID19 (COVID19 (PFIZER-BIONTECH))</td>\n",
       "    </tr>\n",
       "    <tr>\n",
       "      <th>4</th>\n",
       "      <td>WI</td>\n",
       "      <td>53.0</td>\n",
       "      <td>NaN</td>\n",
       "      <td>M</td>\n",
       "      <td>NaN</td>\n",
       "      <td>NaN</td>\n",
       "      <td>NaN</td>\n",
       "      <td>NaN</td>\n",
       "      <td>NaN</td>\n",
       "      <td>NaN</td>\n",
       "      <td>...</td>\n",
       "      <td>NaN</td>\n",
       "      <td>NaN</td>\n",
       "      <td>NaN</td>\n",
       "      <td>COVID19</td>\n",
       "      <td>PFIZER\\BIONTECH</td>\n",
       "      <td>NaN</td>\n",
       "      <td>1</td>\n",
       "      <td>NaN</td>\n",
       "      <td>RA</td>\n",
       "      <td>COVID19 (COVID19 (PFIZER-BIONTECH))</td>\n",
       "    </tr>\n",
       "  </tbody>\n",
       "</table>\n",
       "<p>5 rows × 27 columns</p>\n",
       "</div>"
      ],
      "text/plain": [
       "  state_  age_yrs  cage_yr sex died l_threat er_visit hospital  hospdays  \\\n",
       "0     CA      NaN      NaN   M  NaN      NaN      NaN      NaN       NaN   \n",
       "1     WI      NaN      NaN   F  NaN      NaN      NaN      NaN       NaN   \n",
       "2     PA     29.0      NaN   F  NaN      NaN      NaN      NaN       NaN   \n",
       "3    NaN      NaN      NaN   F  NaN      NaN      NaN      NaN       NaN   \n",
       "4     WI     53.0      NaN   M  NaN      NaN      NaN      NaN       NaN   \n",
       "\n",
       "  x_stay  ... birth_defect ofc_visit  er_ed_visit vax_type         vax_manu  \\\n",
       "0    NaN  ...          NaN       NaN          NaN  COVID19  PFIZER\\BIONTECH   \n",
       "1    NaN  ...          NaN       NaN          NaN  COVID19  PFIZER\\BIONTECH   \n",
       "2    NaN  ...          NaN         Y          NaN  COVID19  PFIZER\\BIONTECH   \n",
       "3    NaN  ...          NaN       NaN          NaN  COVID19  PFIZER\\BIONTECH   \n",
       "4    NaN  ...          NaN       NaN          NaN  COVID19  PFIZER\\BIONTECH   \n",
       "\n",
       "  vax_lot  vax_dose_series vax_route vax_site  \\\n",
       "0     NaN                1       NaN      NaN   \n",
       "1     NaN                1       NaN      NaN   \n",
       "2  EJ1685                1        OT       LA   \n",
       "3     NaN                1       NaN      NaN   \n",
       "4     NaN                1       NaN       RA   \n",
       "\n",
       "                              vax_name  \n",
       "0  COVID19 (COVID19 (PFIZER-BIONTECH))  \n",
       "1  COVID19 (COVID19 (PFIZER-BIONTECH))  \n",
       "2  COVID19 (COVID19 (PFIZER-BIONTECH))  \n",
       "3  COVID19 (COVID19 (PFIZER-BIONTECH))  \n",
       "4  COVID19 (COVID19 (PFIZER-BIONTECH))  \n",
       "\n",
       "[5 rows x 27 columns]"
      ]
     },
     "execution_count": 24,
     "metadata": {},
     "output_type": "execute_result"
    }
   ],
   "source": [
    "# Drop Duplicates after Sypmtoms columns are out\n",
    "vaers_log_clean.drop_duplicates(inplace=True)\n",
    "print(vaers_log_clean.shape)\n",
    "vaers_log_clean.head()"
   ]
  },
  {
   "cell_type": "code",
   "execution_count": 25,
   "metadata": {},
   "outputs": [
    {
     "data": {
      "text/plain": [
       "['died']"
      ]
     },
     "execution_count": 25,
     "metadata": {},
     "output_type": "execute_result"
    }
   ],
   "source": [
    "#Search for columns with DIED in name to find the target column (y)\n",
    "died_cols = [col for col in vaers_log_clean.columns if 'died' in col]\n",
    "died_cols"
   ]
  },
  {
   "cell_type": "code",
   "execution_count": 26,
   "metadata": {},
   "outputs": [
    {
     "data": {
      "text/plain": [
       "0        N\n",
       "1        N\n",
       "2        N\n",
       "3        N\n",
       "4        N\n",
       "        ..\n",
       "40242    N\n",
       "40243    N\n",
       "40244    N\n",
       "40245    N\n",
       "40246    N\n",
       "Name: died, Length: 27740, dtype: object"
      ]
     },
     "execution_count": 26,
     "metadata": {},
     "output_type": "execute_result"
    }
   ],
   "source": [
    "# preapre target column (y)\n",
    "vaers_log_clean['died'].fillna(value='N', inplace=True)\n",
    "vaers_log_clean.died"
   ]
  },
  {
   "cell_type": "markdown",
   "metadata": {},
   "source": [
    "# One Hot Encoder"
   ]
  },
  {
   "cell_type": "code",
   "execution_count": 27,
   "metadata": {},
   "outputs": [
    {
     "data": {
      "text/plain": [
       "['state_',\n",
       " 'sex',\n",
       " 'died',\n",
       " 'l_threat',\n",
       " 'er_visit',\n",
       " 'hospital',\n",
       " 'x_stay',\n",
       " 'disable_',\n",
       " 'recovd',\n",
       " 'v_adminby',\n",
       " 'v_fundby',\n",
       " 'splttype',\n",
       " 'birth_defect',\n",
       " 'ofc_visit',\n",
       " 'er_ed_visit',\n",
       " 'vax_type',\n",
       " 'vax_manu',\n",
       " 'vax_lot',\n",
       " 'vax_dose_series',\n",
       " 'vax_route',\n",
       " 'vax_site',\n",
       " 'vax_name']"
      ]
     },
     "execution_count": 27,
     "metadata": {},
     "output_type": "execute_result"
    }
   ],
   "source": [
    "# Recriate the vares_clean categorical list\n",
    "vaers_cat = vaers_log_clean.dtypes[vaers_log_clean.dtypes == 'object'].index.tolist()\n",
    "vaers_cat\n"
   ]
  },
  {
   "cell_type": "code",
   "execution_count": 28,
   "metadata": {},
   "outputs": [
    {
     "data": {
      "text/html": [
       "<div>\n",
       "<style scoped>\n",
       "    .dataframe tbody tr th:only-of-type {\n",
       "        vertical-align: middle;\n",
       "    }\n",
       "\n",
       "    .dataframe tbody tr th {\n",
       "        vertical-align: top;\n",
       "    }\n",
       "\n",
       "    .dataframe thead th {\n",
       "        text-align: right;\n",
       "    }\n",
       "</style>\n",
       "<table border=\"1\" class=\"dataframe\">\n",
       "  <thead>\n",
       "    <tr style=\"text-align: right;\">\n",
       "      <th></th>\n",
       "      <th>state__AK</th>\n",
       "      <th>state__AL</th>\n",
       "      <th>state__AR</th>\n",
       "      <th>state__AS</th>\n",
       "      <th>state__AZ</th>\n",
       "      <th>state__CA</th>\n",
       "      <th>state__CO</th>\n",
       "      <th>state__CT</th>\n",
       "      <th>state__Ca</th>\n",
       "      <th>state__DC</th>\n",
       "      <th>...</th>\n",
       "      <th>vax_name_TDAP (NO BRAND NAME)</th>\n",
       "      <th>vax_name_TETANUS TOXOID (NO BRAND NAME)</th>\n",
       "      <th>vax_name_TYPHOID LIVE ORAL TY21A (VIVOTIF)</th>\n",
       "      <th>vax_name_VACCINE NOT SPECIFIED (NO BRAND NAME)</th>\n",
       "      <th>vax_name_VACCINE NOT SPECIFIED (OTHER)</th>\n",
       "      <th>vax_name_VARICELLA (VARIVAX)</th>\n",
       "      <th>vax_name_YELLOW FEVER (YF-VAX)</th>\n",
       "      <th>vax_name_ZOSTER (NO BRAND NAME)</th>\n",
       "      <th>vax_name_ZOSTER (SHINGRIX)</th>\n",
       "      <th>vax_name_ZOSTER LIVE (ZOSTAVAX)</th>\n",
       "    </tr>\n",
       "  </thead>\n",
       "  <tbody>\n",
       "    <tr>\n",
       "      <th>0</th>\n",
       "      <td>0.0</td>\n",
       "      <td>0.0</td>\n",
       "      <td>0.0</td>\n",
       "      <td>0.0</td>\n",
       "      <td>0.0</td>\n",
       "      <td>1.0</td>\n",
       "      <td>0.0</td>\n",
       "      <td>0.0</td>\n",
       "      <td>0.0</td>\n",
       "      <td>0.0</td>\n",
       "      <td>...</td>\n",
       "      <td>0.0</td>\n",
       "      <td>0.0</td>\n",
       "      <td>0.0</td>\n",
       "      <td>0.0</td>\n",
       "      <td>0.0</td>\n",
       "      <td>0.0</td>\n",
       "      <td>0.0</td>\n",
       "      <td>0.0</td>\n",
       "      <td>0.0</td>\n",
       "      <td>0.0</td>\n",
       "    </tr>\n",
       "    <tr>\n",
       "      <th>1</th>\n",
       "      <td>0.0</td>\n",
       "      <td>0.0</td>\n",
       "      <td>0.0</td>\n",
       "      <td>0.0</td>\n",
       "      <td>0.0</td>\n",
       "      <td>0.0</td>\n",
       "      <td>0.0</td>\n",
       "      <td>0.0</td>\n",
       "      <td>0.0</td>\n",
       "      <td>0.0</td>\n",
       "      <td>...</td>\n",
       "      <td>0.0</td>\n",
       "      <td>0.0</td>\n",
       "      <td>0.0</td>\n",
       "      <td>0.0</td>\n",
       "      <td>0.0</td>\n",
       "      <td>0.0</td>\n",
       "      <td>0.0</td>\n",
       "      <td>0.0</td>\n",
       "      <td>0.0</td>\n",
       "      <td>0.0</td>\n",
       "    </tr>\n",
       "    <tr>\n",
       "      <th>2</th>\n",
       "      <td>0.0</td>\n",
       "      <td>0.0</td>\n",
       "      <td>0.0</td>\n",
       "      <td>0.0</td>\n",
       "      <td>0.0</td>\n",
       "      <td>0.0</td>\n",
       "      <td>0.0</td>\n",
       "      <td>0.0</td>\n",
       "      <td>0.0</td>\n",
       "      <td>0.0</td>\n",
       "      <td>...</td>\n",
       "      <td>0.0</td>\n",
       "      <td>0.0</td>\n",
       "      <td>0.0</td>\n",
       "      <td>0.0</td>\n",
       "      <td>0.0</td>\n",
       "      <td>0.0</td>\n",
       "      <td>0.0</td>\n",
       "      <td>0.0</td>\n",
       "      <td>0.0</td>\n",
       "      <td>0.0</td>\n",
       "    </tr>\n",
       "    <tr>\n",
       "      <th>3</th>\n",
       "      <td>0.0</td>\n",
       "      <td>0.0</td>\n",
       "      <td>0.0</td>\n",
       "      <td>0.0</td>\n",
       "      <td>0.0</td>\n",
       "      <td>0.0</td>\n",
       "      <td>0.0</td>\n",
       "      <td>0.0</td>\n",
       "      <td>0.0</td>\n",
       "      <td>0.0</td>\n",
       "      <td>...</td>\n",
       "      <td>0.0</td>\n",
       "      <td>0.0</td>\n",
       "      <td>0.0</td>\n",
       "      <td>0.0</td>\n",
       "      <td>0.0</td>\n",
       "      <td>0.0</td>\n",
       "      <td>0.0</td>\n",
       "      <td>0.0</td>\n",
       "      <td>0.0</td>\n",
       "      <td>0.0</td>\n",
       "    </tr>\n",
       "    <tr>\n",
       "      <th>4</th>\n",
       "      <td>0.0</td>\n",
       "      <td>0.0</td>\n",
       "      <td>0.0</td>\n",
       "      <td>0.0</td>\n",
       "      <td>0.0</td>\n",
       "      <td>0.0</td>\n",
       "      <td>0.0</td>\n",
       "      <td>0.0</td>\n",
       "      <td>0.0</td>\n",
       "      <td>0.0</td>\n",
       "      <td>...</td>\n",
       "      <td>0.0</td>\n",
       "      <td>0.0</td>\n",
       "      <td>0.0</td>\n",
       "      <td>0.0</td>\n",
       "      <td>0.0</td>\n",
       "      <td>0.0</td>\n",
       "      <td>0.0</td>\n",
       "      <td>0.0</td>\n",
       "      <td>0.0</td>\n",
       "      <td>0.0</td>\n",
       "    </tr>\n",
       "  </tbody>\n",
       "</table>\n",
       "<p>5 rows × 8024 columns</p>\n",
       "</div>"
      ],
      "text/plain": [
       "   state__AK  state__AL  state__AR  state__AS  state__AZ  state__CA  \\\n",
       "0        0.0        0.0        0.0        0.0        0.0        1.0   \n",
       "1        0.0        0.0        0.0        0.0        0.0        0.0   \n",
       "2        0.0        0.0        0.0        0.0        0.0        0.0   \n",
       "3        0.0        0.0        0.0        0.0        0.0        0.0   \n",
       "4        0.0        0.0        0.0        0.0        0.0        0.0   \n",
       "\n",
       "   state__CO  state__CT  state__Ca  state__DC  ...  \\\n",
       "0        0.0        0.0        0.0        0.0  ...   \n",
       "1        0.0        0.0        0.0        0.0  ...   \n",
       "2        0.0        0.0        0.0        0.0  ...   \n",
       "3        0.0        0.0        0.0        0.0  ...   \n",
       "4        0.0        0.0        0.0        0.0  ...   \n",
       "\n",
       "   vax_name_TDAP (NO BRAND NAME)  vax_name_TETANUS TOXOID (NO BRAND NAME)  \\\n",
       "0                            0.0                                      0.0   \n",
       "1                            0.0                                      0.0   \n",
       "2                            0.0                                      0.0   \n",
       "3                            0.0                                      0.0   \n",
       "4                            0.0                                      0.0   \n",
       "\n",
       "   vax_name_TYPHOID LIVE ORAL TY21A (VIVOTIF)  \\\n",
       "0                                         0.0   \n",
       "1                                         0.0   \n",
       "2                                         0.0   \n",
       "3                                         0.0   \n",
       "4                                         0.0   \n",
       "\n",
       "   vax_name_VACCINE NOT SPECIFIED (NO BRAND NAME)  \\\n",
       "0                                             0.0   \n",
       "1                                             0.0   \n",
       "2                                             0.0   \n",
       "3                                             0.0   \n",
       "4                                             0.0   \n",
       "\n",
       "   vax_name_VACCINE NOT SPECIFIED (OTHER)  vax_name_VARICELLA (VARIVAX)  \\\n",
       "0                                     0.0                           0.0   \n",
       "1                                     0.0                           0.0   \n",
       "2                                     0.0                           0.0   \n",
       "3                                     0.0                           0.0   \n",
       "4                                     0.0                           0.0   \n",
       "\n",
       "   vax_name_YELLOW FEVER (YF-VAX)  vax_name_ZOSTER (NO BRAND NAME)  \\\n",
       "0                             0.0                              0.0   \n",
       "1                             0.0                              0.0   \n",
       "2                             0.0                              0.0   \n",
       "3                             0.0                              0.0   \n",
       "4                             0.0                              0.0   \n",
       "\n",
       "   vax_name_ZOSTER (SHINGRIX)  vax_name_ZOSTER LIVE (ZOSTAVAX)  \n",
       "0                         0.0                              0.0  \n",
       "1                         0.0                              0.0  \n",
       "2                         0.0                              0.0  \n",
       "3                         0.0                              0.0  \n",
       "4                         0.0                              0.0  \n",
       "\n",
       "[5 rows x 8024 columns]"
      ]
     },
     "execution_count": 28,
     "metadata": {},
     "output_type": "execute_result"
    }
   ],
   "source": [
    "# OneHotEncoder instance\n",
    "enc = OneHotEncoder(sparse=False)\n",
    "\n",
    "#Fit and transform the OneHotEncoder\n",
    "vaers_enc_df = pd.DataFrame(enc.fit_transform(vaers_log_clean[vaers_cat]))\n",
    "\n",
    "#Add the encoded variable names to the DF\n",
    "vaers_enc_df.columns = enc.get_feature_names(vaers_cat)\n",
    "vaers_enc_df.head()"
   ]
  },
  {
   "cell_type": "code",
   "execution_count": 29,
   "metadata": {},
   "outputs": [],
   "source": [
    "# Merge with vaers_clean and drop original cat. list\n",
    "vaers_df_clean = vaers_log_clean.merge(vaers_enc_df, left_index=True, right_index=True)\n",
    "vaers_df_final = vaers_df_clean.drop(vaers_cat,1)"
   ]
  },
  {
   "cell_type": "markdown",
   "metadata": {},
   "source": [
    "# Split and Scale Data"
   ]
  },
  {
   "cell_type": "code",
   "execution_count": 30,
   "metadata": {},
   "outputs": [
    {
     "data": {
      "text/plain": [
       "['died_N', 'died_Y']"
      ]
     },
     "execution_count": 30,
     "metadata": {},
     "output_type": "execute_result"
    }
   ],
   "source": [
    "#Search for columns with DIED in name to find the target column (y)\n",
    "died_cols = [col for col in vaers_df_final.columns if 'died' in col]\n",
    "died_cols"
   ]
  },
  {
   "cell_type": "code",
   "execution_count": 31,
   "metadata": {},
   "outputs": [
    {
     "data": {
      "text/plain": [
       "0.0    18079\n",
       "1.0     1134\n",
       "Name: died_Y, dtype: int64"
      ]
     },
     "execution_count": 31,
     "metadata": {},
     "output_type": "execute_result"
    }
   ],
   "source": [
    "# Counting values in died_y\n",
    "counts = vaers_df_final.died_Y.value_counts()\n",
    "counts"
   ]
  },
  {
   "cell_type": "code",
   "execution_count": 32,
   "metadata": {},
   "outputs": [],
   "source": [
    "# Split data into features and targets\n",
    "y = vaers_df_final['died_Y']\n",
    "X = vaers_df_final.drop(columns = ['died_Y', 'died_N'])"
   ]
  },
  {
   "cell_type": "code",
   "execution_count": 33,
   "metadata": {},
   "outputs": [
    {
     "data": {
      "text/html": [
       "<div>\n",
       "<style scoped>\n",
       "    .dataframe tbody tr th:only-of-type {\n",
       "        vertical-align: middle;\n",
       "    }\n",
       "\n",
       "    .dataframe tbody tr th {\n",
       "        vertical-align: top;\n",
       "    }\n",
       "\n",
       "    .dataframe thead th {\n",
       "        text-align: right;\n",
       "    }\n",
       "</style>\n",
       "<table border=\"1\" class=\"dataframe\">\n",
       "  <thead>\n",
       "    <tr style=\"text-align: right;\">\n",
       "      <th></th>\n",
       "      <th>age_yrs</th>\n",
       "      <th>cage_yr</th>\n",
       "      <th>hospdays</th>\n",
       "      <th>numdays</th>\n",
       "      <th>form_vers</th>\n",
       "      <th>state__AK</th>\n",
       "      <th>state__AL</th>\n",
       "      <th>state__AR</th>\n",
       "      <th>state__AS</th>\n",
       "      <th>state__AZ</th>\n",
       "      <th>...</th>\n",
       "      <th>vax_name_TDAP (NO BRAND NAME)</th>\n",
       "      <th>vax_name_TETANUS TOXOID (NO BRAND NAME)</th>\n",
       "      <th>vax_name_TYPHOID LIVE ORAL TY21A (VIVOTIF)</th>\n",
       "      <th>vax_name_VACCINE NOT SPECIFIED (NO BRAND NAME)</th>\n",
       "      <th>vax_name_VACCINE NOT SPECIFIED (OTHER)</th>\n",
       "      <th>vax_name_VARICELLA (VARIVAX)</th>\n",
       "      <th>vax_name_YELLOW FEVER (YF-VAX)</th>\n",
       "      <th>vax_name_ZOSTER (NO BRAND NAME)</th>\n",
       "      <th>vax_name_ZOSTER (SHINGRIX)</th>\n",
       "      <th>vax_name_ZOSTER LIVE (ZOSTAVAX)</th>\n",
       "    </tr>\n",
       "  </thead>\n",
       "  <tbody>\n",
       "    <tr>\n",
       "      <th>0</th>\n",
       "      <td>0.0</td>\n",
       "      <td>0.0</td>\n",
       "      <td>0.0</td>\n",
       "      <td>0.0</td>\n",
       "      <td>2</td>\n",
       "      <td>0.0</td>\n",
       "      <td>0.0</td>\n",
       "      <td>0.0</td>\n",
       "      <td>0.0</td>\n",
       "      <td>0.0</td>\n",
       "      <td>...</td>\n",
       "      <td>0.0</td>\n",
       "      <td>0.0</td>\n",
       "      <td>0.0</td>\n",
       "      <td>0.0</td>\n",
       "      <td>0.0</td>\n",
       "      <td>0.0</td>\n",
       "      <td>0.0</td>\n",
       "      <td>0.0</td>\n",
       "      <td>0.0</td>\n",
       "      <td>0.0</td>\n",
       "    </tr>\n",
       "    <tr>\n",
       "      <th>1</th>\n",
       "      <td>0.0</td>\n",
       "      <td>0.0</td>\n",
       "      <td>0.0</td>\n",
       "      <td>0.0</td>\n",
       "      <td>2</td>\n",
       "      <td>0.0</td>\n",
       "      <td>0.0</td>\n",
       "      <td>0.0</td>\n",
       "      <td>0.0</td>\n",
       "      <td>0.0</td>\n",
       "      <td>...</td>\n",
       "      <td>0.0</td>\n",
       "      <td>0.0</td>\n",
       "      <td>0.0</td>\n",
       "      <td>0.0</td>\n",
       "      <td>0.0</td>\n",
       "      <td>0.0</td>\n",
       "      <td>0.0</td>\n",
       "      <td>0.0</td>\n",
       "      <td>0.0</td>\n",
       "      <td>0.0</td>\n",
       "    </tr>\n",
       "    <tr>\n",
       "      <th>2</th>\n",
       "      <td>29.0</td>\n",
       "      <td>0.0</td>\n",
       "      <td>0.0</td>\n",
       "      <td>1.0</td>\n",
       "      <td>2</td>\n",
       "      <td>0.0</td>\n",
       "      <td>0.0</td>\n",
       "      <td>0.0</td>\n",
       "      <td>0.0</td>\n",
       "      <td>0.0</td>\n",
       "      <td>...</td>\n",
       "      <td>0.0</td>\n",
       "      <td>0.0</td>\n",
       "      <td>0.0</td>\n",
       "      <td>0.0</td>\n",
       "      <td>0.0</td>\n",
       "      <td>0.0</td>\n",
       "      <td>0.0</td>\n",
       "      <td>0.0</td>\n",
       "      <td>0.0</td>\n",
       "      <td>0.0</td>\n",
       "    </tr>\n",
       "    <tr>\n",
       "      <th>3</th>\n",
       "      <td>0.0</td>\n",
       "      <td>0.0</td>\n",
       "      <td>0.0</td>\n",
       "      <td>7.0</td>\n",
       "      <td>2</td>\n",
       "      <td>0.0</td>\n",
       "      <td>0.0</td>\n",
       "      <td>0.0</td>\n",
       "      <td>0.0</td>\n",
       "      <td>0.0</td>\n",
       "      <td>...</td>\n",
       "      <td>0.0</td>\n",
       "      <td>0.0</td>\n",
       "      <td>0.0</td>\n",
       "      <td>0.0</td>\n",
       "      <td>0.0</td>\n",
       "      <td>0.0</td>\n",
       "      <td>0.0</td>\n",
       "      <td>0.0</td>\n",
       "      <td>0.0</td>\n",
       "      <td>0.0</td>\n",
       "    </tr>\n",
       "    <tr>\n",
       "      <th>4</th>\n",
       "      <td>53.0</td>\n",
       "      <td>0.0</td>\n",
       "      <td>0.0</td>\n",
       "      <td>0.0</td>\n",
       "      <td>2</td>\n",
       "      <td>0.0</td>\n",
       "      <td>0.0</td>\n",
       "      <td>0.0</td>\n",
       "      <td>0.0</td>\n",
       "      <td>0.0</td>\n",
       "      <td>...</td>\n",
       "      <td>0.0</td>\n",
       "      <td>0.0</td>\n",
       "      <td>0.0</td>\n",
       "      <td>0.0</td>\n",
       "      <td>0.0</td>\n",
       "      <td>0.0</td>\n",
       "      <td>0.0</td>\n",
       "      <td>0.0</td>\n",
       "      <td>0.0</td>\n",
       "      <td>0.0</td>\n",
       "    </tr>\n",
       "    <tr>\n",
       "      <th>...</th>\n",
       "      <td>...</td>\n",
       "      <td>...</td>\n",
       "      <td>...</td>\n",
       "      <td>...</td>\n",
       "      <td>...</td>\n",
       "      <td>...</td>\n",
       "      <td>...</td>\n",
       "      <td>...</td>\n",
       "      <td>...</td>\n",
       "      <td>...</td>\n",
       "      <td>...</td>\n",
       "      <td>...</td>\n",
       "      <td>...</td>\n",
       "      <td>...</td>\n",
       "      <td>...</td>\n",
       "      <td>...</td>\n",
       "      <td>...</td>\n",
       "      <td>...</td>\n",
       "      <td>...</td>\n",
       "      <td>...</td>\n",
       "      <td>...</td>\n",
       "    </tr>\n",
       "    <tr>\n",
       "      <th>27732</th>\n",
       "      <td>25.0</td>\n",
       "      <td>25.0</td>\n",
       "      <td>0.0</td>\n",
       "      <td>1.0</td>\n",
       "      <td>2</td>\n",
       "      <td>0.0</td>\n",
       "      <td>0.0</td>\n",
       "      <td>0.0</td>\n",
       "      <td>0.0</td>\n",
       "      <td>1.0</td>\n",
       "      <td>...</td>\n",
       "      <td>0.0</td>\n",
       "      <td>0.0</td>\n",
       "      <td>0.0</td>\n",
       "      <td>0.0</td>\n",
       "      <td>0.0</td>\n",
       "      <td>0.0</td>\n",
       "      <td>0.0</td>\n",
       "      <td>0.0</td>\n",
       "      <td>0.0</td>\n",
       "      <td>0.0</td>\n",
       "    </tr>\n",
       "    <tr>\n",
       "      <th>27733</th>\n",
       "      <td>32.0</td>\n",
       "      <td>32.0</td>\n",
       "      <td>0.0</td>\n",
       "      <td>6.0</td>\n",
       "      <td>2</td>\n",
       "      <td>0.0</td>\n",
       "      <td>0.0</td>\n",
       "      <td>0.0</td>\n",
       "      <td>0.0</td>\n",
       "      <td>0.0</td>\n",
       "      <td>...</td>\n",
       "      <td>0.0</td>\n",
       "      <td>0.0</td>\n",
       "      <td>0.0</td>\n",
       "      <td>0.0</td>\n",
       "      <td>0.0</td>\n",
       "      <td>0.0</td>\n",
       "      <td>0.0</td>\n",
       "      <td>0.0</td>\n",
       "      <td>0.0</td>\n",
       "      <td>0.0</td>\n",
       "    </tr>\n",
       "    <tr>\n",
       "      <th>27734</th>\n",
       "      <td>25.0</td>\n",
       "      <td>25.0</td>\n",
       "      <td>0.0</td>\n",
       "      <td>4.0</td>\n",
       "      <td>2</td>\n",
       "      <td>0.0</td>\n",
       "      <td>0.0</td>\n",
       "      <td>0.0</td>\n",
       "      <td>0.0</td>\n",
       "      <td>0.0</td>\n",
       "      <td>...</td>\n",
       "      <td>0.0</td>\n",
       "      <td>0.0</td>\n",
       "      <td>0.0</td>\n",
       "      <td>0.0</td>\n",
       "      <td>0.0</td>\n",
       "      <td>0.0</td>\n",
       "      <td>0.0</td>\n",
       "      <td>0.0</td>\n",
       "      <td>0.0</td>\n",
       "      <td>0.0</td>\n",
       "    </tr>\n",
       "    <tr>\n",
       "      <th>27737</th>\n",
       "      <td>60.0</td>\n",
       "      <td>60.0</td>\n",
       "      <td>0.0</td>\n",
       "      <td>0.0</td>\n",
       "      <td>2</td>\n",
       "      <td>0.0</td>\n",
       "      <td>0.0</td>\n",
       "      <td>0.0</td>\n",
       "      <td>0.0</td>\n",
       "      <td>0.0</td>\n",
       "      <td>...</td>\n",
       "      <td>0.0</td>\n",
       "      <td>0.0</td>\n",
       "      <td>0.0</td>\n",
       "      <td>0.0</td>\n",
       "      <td>0.0</td>\n",
       "      <td>0.0</td>\n",
       "      <td>0.0</td>\n",
       "      <td>0.0</td>\n",
       "      <td>0.0</td>\n",
       "      <td>0.0</td>\n",
       "    </tr>\n",
       "    <tr>\n",
       "      <th>27739</th>\n",
       "      <td>59.0</td>\n",
       "      <td>59.0</td>\n",
       "      <td>0.0</td>\n",
       "      <td>7.0</td>\n",
       "      <td>2</td>\n",
       "      <td>0.0</td>\n",
       "      <td>0.0</td>\n",
       "      <td>0.0</td>\n",
       "      <td>0.0</td>\n",
       "      <td>0.0</td>\n",
       "      <td>...</td>\n",
       "      <td>0.0</td>\n",
       "      <td>0.0</td>\n",
       "      <td>0.0</td>\n",
       "      <td>0.0</td>\n",
       "      <td>0.0</td>\n",
       "      <td>0.0</td>\n",
       "      <td>0.0</td>\n",
       "      <td>0.0</td>\n",
       "      <td>0.0</td>\n",
       "      <td>0.0</td>\n",
       "    </tr>\n",
       "  </tbody>\n",
       "</table>\n",
       "<p>19213 rows × 8027 columns</p>\n",
       "</div>"
      ],
      "text/plain": [
       "       age_yrs  cage_yr  hospdays  numdays  form_vers  state__AK  state__AL  \\\n",
       "0          0.0      0.0       0.0      0.0          2        0.0        0.0   \n",
       "1          0.0      0.0       0.0      0.0          2        0.0        0.0   \n",
       "2         29.0      0.0       0.0      1.0          2        0.0        0.0   \n",
       "3          0.0      0.0       0.0      7.0          2        0.0        0.0   \n",
       "4         53.0      0.0       0.0      0.0          2        0.0        0.0   \n",
       "...        ...      ...       ...      ...        ...        ...        ...   \n",
       "27732     25.0     25.0       0.0      1.0          2        0.0        0.0   \n",
       "27733     32.0     32.0       0.0      6.0          2        0.0        0.0   \n",
       "27734     25.0     25.0       0.0      4.0          2        0.0        0.0   \n",
       "27737     60.0     60.0       0.0      0.0          2        0.0        0.0   \n",
       "27739     59.0     59.0       0.0      7.0          2        0.0        0.0   \n",
       "\n",
       "       state__AR  state__AS  state__AZ  ...  vax_name_TDAP (NO BRAND NAME)  \\\n",
       "0            0.0        0.0        0.0  ...                            0.0   \n",
       "1            0.0        0.0        0.0  ...                            0.0   \n",
       "2            0.0        0.0        0.0  ...                            0.0   \n",
       "3            0.0        0.0        0.0  ...                            0.0   \n",
       "4            0.0        0.0        0.0  ...                            0.0   \n",
       "...          ...        ...        ...  ...                            ...   \n",
       "27732        0.0        0.0        1.0  ...                            0.0   \n",
       "27733        0.0        0.0        0.0  ...                            0.0   \n",
       "27734        0.0        0.0        0.0  ...                            0.0   \n",
       "27737        0.0        0.0        0.0  ...                            0.0   \n",
       "27739        0.0        0.0        0.0  ...                            0.0   \n",
       "\n",
       "       vax_name_TETANUS TOXOID (NO BRAND NAME)  \\\n",
       "0                                          0.0   \n",
       "1                                          0.0   \n",
       "2                                          0.0   \n",
       "3                                          0.0   \n",
       "4                                          0.0   \n",
       "...                                        ...   \n",
       "27732                                      0.0   \n",
       "27733                                      0.0   \n",
       "27734                                      0.0   \n",
       "27737                                      0.0   \n",
       "27739                                      0.0   \n",
       "\n",
       "       vax_name_TYPHOID LIVE ORAL TY21A (VIVOTIF)  \\\n",
       "0                                             0.0   \n",
       "1                                             0.0   \n",
       "2                                             0.0   \n",
       "3                                             0.0   \n",
       "4                                             0.0   \n",
       "...                                           ...   \n",
       "27732                                         0.0   \n",
       "27733                                         0.0   \n",
       "27734                                         0.0   \n",
       "27737                                         0.0   \n",
       "27739                                         0.0   \n",
       "\n",
       "       vax_name_VACCINE NOT SPECIFIED (NO BRAND NAME)  \\\n",
       "0                                                 0.0   \n",
       "1                                                 0.0   \n",
       "2                                                 0.0   \n",
       "3                                                 0.0   \n",
       "4                                                 0.0   \n",
       "...                                               ...   \n",
       "27732                                             0.0   \n",
       "27733                                             0.0   \n",
       "27734                                             0.0   \n",
       "27737                                             0.0   \n",
       "27739                                             0.0   \n",
       "\n",
       "       vax_name_VACCINE NOT SPECIFIED (OTHER)  vax_name_VARICELLA (VARIVAX)  \\\n",
       "0                                         0.0                           0.0   \n",
       "1                                         0.0                           0.0   \n",
       "2                                         0.0                           0.0   \n",
       "3                                         0.0                           0.0   \n",
       "4                                         0.0                           0.0   \n",
       "...                                       ...                           ...   \n",
       "27732                                     0.0                           0.0   \n",
       "27733                                     0.0                           0.0   \n",
       "27734                                     0.0                           0.0   \n",
       "27737                                     0.0                           0.0   \n",
       "27739                                     0.0                           0.0   \n",
       "\n",
       "       vax_name_YELLOW FEVER (YF-VAX)  vax_name_ZOSTER (NO BRAND NAME)  \\\n",
       "0                                 0.0                              0.0   \n",
       "1                                 0.0                              0.0   \n",
       "2                                 0.0                              0.0   \n",
       "3                                 0.0                              0.0   \n",
       "4                                 0.0                              0.0   \n",
       "...                               ...                              ...   \n",
       "27732                             0.0                              0.0   \n",
       "27733                             0.0                              0.0   \n",
       "27734                             0.0                              0.0   \n",
       "27737                             0.0                              0.0   \n",
       "27739                             0.0                              0.0   \n",
       "\n",
       "       vax_name_ZOSTER (SHINGRIX)  vax_name_ZOSTER LIVE (ZOSTAVAX)  \n",
       "0                             0.0                              0.0  \n",
       "1                             0.0                              0.0  \n",
       "2                             0.0                              0.0  \n",
       "3                             0.0                              0.0  \n",
       "4                             0.0                              0.0  \n",
       "...                           ...                              ...  \n",
       "27732                         0.0                              0.0  \n",
       "27733                         0.0                              0.0  \n",
       "27734                         0.0                              0.0  \n",
       "27737                         0.0                              0.0  \n",
       "27739                         0.0                              0.0  \n",
       "\n",
       "[19213 rows x 8027 columns]"
      ]
     },
     "execution_count": 33,
     "metadata": {},
     "output_type": "execute_result"
    }
   ],
   "source": [
    "# treat X Nan Values\n",
    "X=X.fillna(value=0)\n",
    "X"
   ]
  },
  {
   "cell_type": "code",
   "execution_count": 34,
   "metadata": {},
   "outputs": [
    {
     "data": {
      "text/plain": [
       "0.0    18079\n",
       "1.0     1134\n",
       "Name: died_Y, dtype: int64"
      ]
     },
     "execution_count": 34,
     "metadata": {},
     "output_type": "execute_result"
    }
   ],
   "source": [
    "# Counting values on y\n",
    "y.value_counts()"
   ]
  },
  {
   "cell_type": "code",
   "execution_count": 35,
   "metadata": {},
   "outputs": [
    {
     "data": {
      "text/plain": [
       "25314    1.0\n",
       "3338     0.0\n",
       "9246     0.0\n",
       "12671    0.0\n",
       "6923     1.0\n",
       "        ... \n",
       "9719     0.0\n",
       "6597     0.0\n",
       "9162     0.0\n",
       "24573    0.0\n",
       "10263    0.0\n",
       "Name: died_Y, Length: 14409, dtype: float64"
      ]
     },
     "execution_count": 35,
     "metadata": {},
     "output_type": "execute_result"
    }
   ],
   "source": [
    "# Split into test and training\n",
    "X_train, X_test, y_train, y_test = train_test_split(X, y, random_state=78)\n",
    "y_train"
   ]
  },
  {
   "cell_type": "code",
   "execution_count": 36,
   "metadata": {},
   "outputs": [
    {
     "data": {
      "text/plain": [
       "0.0    13564\n",
       "1.0      845\n",
       "Name: died_Y, dtype: int64"
      ]
     },
     "execution_count": 36,
     "metadata": {},
     "output_type": "execute_result"
    }
   ],
   "source": [
    "# Check y_train\n",
    "y_train.value_counts()"
   ]
  },
  {
   "cell_type": "markdown",
   "metadata": {},
   "source": [
    "# Logistic Regression"
   ]
  },
  {
   "cell_type": "code",
   "execution_count": 37,
   "metadata": {},
   "outputs": [
    {
     "data": {
      "text/plain": [
       "LogisticRegression(max_iter=200, random_state=78, solver='liblinear')"
      ]
     },
     "execution_count": 37,
     "metadata": {},
     "output_type": "execute_result"
    }
   ],
   "source": [
    "#Create a Logistic Regression Model\n",
    "classifier = LogisticRegression(solver='liblinear', max_iter=200, random_state=78)\n",
    "classifier"
   ]
  },
  {
   "cell_type": "code",
   "execution_count": 38,
   "metadata": {},
   "outputs": [
    {
     "data": {
      "text/plain": [
       "LogisticRegression(max_iter=200, random_state=78, solver='liblinear')"
      ]
     },
     "execution_count": 38,
     "metadata": {},
     "output_type": "execute_result"
    }
   ],
   "source": [
    "# Train the data\n",
    "classifier.fit(X_train, y_train)"
   ]
  },
  {
   "cell_type": "code",
   "execution_count": 39,
   "metadata": {},
   "outputs": [
    {
     "name": "stdout",
     "output_type": "stream",
     "text": [
      " Logistic regression model accuracy: 0.954\n"
     ]
    }
   ],
   "source": [
    "# Evaluate\n",
    "y_pred = classifier.predict(X_test)\n",
    "print(f' Logistic regression model accuracy: {accuracy_score(y_test, y_pred):.3f}')"
   ]
  },
  {
   "cell_type": "code",
   "execution_count": 40,
   "metadata": {},
   "outputs": [
    {
     "data": {
      "text/plain": [
       "array([[4467,   48],\n",
       "       [ 172,  117]])"
      ]
     },
     "execution_count": 40,
     "metadata": {},
     "output_type": "execute_result"
    }
   ],
   "source": [
    "# Display the confusion matrix\n",
    "from sklearn.metrics import confusion_matrix\n",
    "\n",
    "y_pred = classifier.predict(X_test)\n",
    "confusion_matrix(y_test, y_pred)"
   ]
  },
  {
   "cell_type": "code",
   "execution_count": 41,
   "metadata": {},
   "outputs": [
    {
     "data": {
      "text/plain": [
       "0.6971065307107795"
      ]
     },
     "execution_count": 41,
     "metadata": {},
     "output_type": "execute_result"
    }
   ],
   "source": [
    "from sklearn.metrics import balanced_accuracy_score\n",
    "\n",
    "balanced_accuracy_score(y_test, y_pred)"
   ]
  },
  {
   "cell_type": "code",
   "execution_count": 42,
   "metadata": {},
   "outputs": [
    {
     "name": "stdout",
     "output_type": "stream",
     "text": [
      "              precision    recall  f1-score   support\n",
      "\n",
      "         0.0       0.96      0.99      0.98      4515\n",
      "         1.0       0.71      0.40      0.52       289\n",
      "\n",
      "    accuracy                           0.95      4804\n",
      "   macro avg       0.84      0.70      0.75      4804\n",
      "weighted avg       0.95      0.95      0.95      4804\n",
      "\n"
     ]
    }
   ],
   "source": [
    "from sklearn.metrics import classification_report\n",
    "report = classification_report(y_test, y_pred)\n",
    "print(report)"
   ]
  },
  {
   "cell_type": "code",
   "execution_count": 43,
   "metadata": {},
   "outputs": [
    {
     "name": "stdout",
     "output_type": "stream",
     "text": [
      "                   pre       rec       spe        f1       geo       iba       sup\n",
      "\n",
      "        0.0       0.96      0.99      0.40      0.98      0.63      0.42      4515\n",
      "        1.0       0.71      0.40      0.99      0.52      0.63      0.38       289\n",
      "\n",
      "avg / total       0.95      0.95      0.44      0.95      0.63      0.42      4804\n",
      "\n"
     ]
    }
   ],
   "source": [
    "# Print the imbalanced classification report\n",
    "from imblearn.metrics import classification_report_imbalanced\n",
    "print(classification_report_imbalanced(y_test, y_pred))"
   ]
  },
  {
   "cell_type": "markdown",
   "metadata": {},
   "source": [
    "# Resampling the training data"
   ]
  },
  {
   "cell_type": "markdown",
   "metadata": {},
   "source": [
    "## Oversampling"
   ]
  },
  {
   "cell_type": "code",
   "execution_count": 44,
   "metadata": {},
   "outputs": [
    {
     "data": {
      "text/plain": [
       "Counter({1.0: 13564, 0.0: 13564})"
      ]
     },
     "execution_count": 44,
     "metadata": {},
     "output_type": "execute_result"
    }
   ],
   "source": [
    "# Resample the training data with the RandomOversampler\n",
    "from imblearn.over_sampling import RandomOverSampler\n",
    "ros = RandomOverSampler(random_state=1)\n",
    "X_resampled, y_resampled = ros.fit_resample(X_train, y_train)\n",
    "\n",
    "Counter(y_resampled)"
   ]
  },
  {
   "cell_type": "code",
   "execution_count": 45,
   "metadata": {},
   "outputs": [
    {
     "data": {
      "text/plain": [
       "array([[3986,  529],\n",
       "       [  42,  247]])"
      ]
     },
     "execution_count": 45,
     "metadata": {},
     "output_type": "execute_result"
    }
   ],
   "source": [
    "# Logistic regression using random oversampled data\n",
    "classover = LogisticRegression(solver='liblinear', max_iter=200, random_state=78)\n",
    "classover.fit(X_resampled, y_resampled)\n",
    "y_pred = classover.predict(X_test)\n",
    "confusion_matrix(y_test, y_pred)"
   ]
  },
  {
   "cell_type": "code",
   "execution_count": 46,
   "metadata": {},
   "outputs": [
    {
     "name": "stdout",
     "output_type": "stream",
     "text": [
      "                   pre       rec       spe        f1       geo       iba       sup\n",
      "\n",
      "        0.0       0.99      0.88      0.85      0.93      0.87      0.76      4515\n",
      "        1.0       0.32      0.85      0.88      0.46      0.87      0.75       289\n",
      "\n",
      "avg / total       0.95      0.88      0.86      0.90      0.87      0.76      4804\n",
      "\n"
     ]
    }
   ],
   "source": [
    "# Print the imbalanced classification report\n",
    "print(classification_report_imbalanced(y_test, y_pred))"
   ]
  },
  {
   "cell_type": "markdown",
   "metadata": {},
   "source": [
    "## SMOTEENN"
   ]
  },
  {
   "cell_type": "code",
   "execution_count": 47,
   "metadata": {},
   "outputs": [
    {
     "data": {
      "text/plain": [
       "Counter({0.0: 8473, 1.0: 13489})"
      ]
     },
     "execution_count": 47,
     "metadata": {},
     "output_type": "execute_result"
    }
   ],
   "source": [
    "# Count the resampled classes\n",
    "from imblearn.combine import SMOTEENN\n",
    "\n",
    "smote_enn = SMOTEENN(random_state=78)\n",
    "X_resampled, y_resampled = smote_enn.fit_resample(X_train, y_train)\n",
    "Counter(y_resampled)"
   ]
  },
  {
   "cell_type": "code",
   "execution_count": 48,
   "metadata": {},
   "outputs": [
    {
     "data": {
      "text/plain": [
       "array([[3810,  705],\n",
       "       [  20,  269]])"
      ]
     },
     "execution_count": 48,
     "metadata": {},
     "output_type": "execute_result"
    }
   ],
   "source": [
    "# Logistic regression using SMOTEENN data\n",
    "smot = LogisticRegression(solver='liblinear', max_iter=200, random_state=78)\n",
    "smot.fit(X_resampled, y_resampled)\n",
    "y_pred = smot.predict(X_test)\n",
    "confusion_matrix(y_test, y_pred)"
   ]
  },
  {
   "cell_type": "code",
   "execution_count": 49,
   "metadata": {},
   "outputs": [
    {
     "name": "stdout",
     "output_type": "stream",
     "text": [
      "                   pre       rec       spe        f1       geo       iba       sup\n",
      "\n",
      "        0.0       0.99      0.84      0.93      0.91      0.89      0.78      4515\n",
      "        1.0       0.28      0.93      0.84      0.43      0.89      0.79       289\n",
      "\n",
      "avg / total       0.95      0.85      0.93      0.88      0.89      0.78      4804\n",
      "\n"
     ]
    }
   ],
   "source": [
    "# Print the imbalanced classification report\n",
    "print(classification_report_imbalanced(y_test, y_pred))"
   ]
  },
  {
   "cell_type": "markdown",
   "metadata": {},
   "source": [
    "# Neural Network"
   ]
  },
  {
   "cell_type": "code",
   "execution_count": 50,
   "metadata": {},
   "outputs": [],
   "source": [
    "# Preprocess numerical data for NN\n",
    "# Create a StandardScaler instance\n",
    "scaler=StandardScaler()\n",
    "\n",
    "#Fit the Scaler\n",
    "X_scaler = scaler.fit(X_train)\n",
    "\n",
    "# Scale the data\n",
    "X_train_scaled = X_scaler.transform(X_train)\n",
    "X_test_scaled = X_scaler.transform(X_test)"
   ]
  },
  {
   "cell_type": "code",
   "execution_count": 51,
   "metadata": {},
   "outputs": [
    {
     "data": {
      "text/plain": [
       "array([[-0.69800181, -0.33832109, -0.21929652, ..., -0.01178225,\n",
       "        -0.04084611, -0.04490757],\n",
       "       [-0.11820969,  0.16164346,  3.93839228, ..., -0.01178225,\n",
       "        -0.04084611, -0.04490757],\n",
       "       [ 1.62116666, -1.44538544, -0.21929652, ..., -0.01178225,\n",
       "        -0.04084611, -0.04490757],\n",
       "       ...,\n",
       "       [ 0.91713338,  1.05443729, -0.21929652, ..., -0.01178225,\n",
       "        -0.04084611, -0.04490757],\n",
       "       [-0.4909332 , -1.44538544, -0.21929652, ..., -0.01178225,\n",
       "        -0.04084611, -0.04490757],\n",
       "       [-0.94648415, -0.55259161, -0.21929652, ..., -0.01178225,\n",
       "        -0.04084611, -0.04490757]])"
      ]
     },
     "execution_count": 51,
     "metadata": {},
     "output_type": "execute_result"
    }
   ],
   "source": [
    "X_train_scaled "
   ]
  },
  {
   "cell_type": "code",
   "execution_count": 52,
   "metadata": {},
   "outputs": [],
   "source": [
    "#NN Features\n",
    "number_input_features = len(X_train_scaled[0])\n",
    "hidden_nodes_layer1 = 4000\n",
    "hidden_nodes_layer2 = 1000\n",
    "hidden_nodes_layer3 = 100"
   ]
  },
  {
   "cell_type": "code",
   "execution_count": 53,
   "metadata": {},
   "outputs": [
    {
     "name": "stdout",
     "output_type": "stream",
     "text": [
      "Model: \"sequential\"\n",
      "_________________________________________________________________\n",
      "Layer (type)                 Output Shape              Param #   \n",
      "=================================================================\n",
      "dense (Dense)                (None, 4000)              32112000  \n",
      "_________________________________________________________________\n",
      "dense_1 (Dense)              (None, 1)                 4001      \n",
      "=================================================================\n",
      "Total params: 32,116,001\n",
      "Trainable params: 32,116,001\n",
      "Non-trainable params: 0\n",
      "_________________________________________________________________\n"
     ]
    }
   ],
   "source": [
    "from tensorflow.keras import layers\n",
    "from tensorflow.keras import regularizers\n",
    "\n",
    "#NN Model\n",
    "nn_model= tf.keras.models.Sequential()\n",
    "#Layer 1\n",
    "nn_model.add(tf.keras.layers.Dense(units = hidden_nodes_layer1, activation='relu', input_dim=number_input_features,\n",
    "                                  kernel_initializer='ones',\n",
    "                                  kernel_regularizer=tf.keras.regularizers.L1(0.01),\n",
    "                                  activity_regularizer=tf.keras.regularizers.L2(0.01),\n",
    "                                  bias_regularizer=regularizers.L2(0.01)))\n",
    "#Layer 2\n",
    "nn_model.add(tf.keras.layers.Dense(units = hidden_nodes_layer2, activation='relu'))\n",
    "#Layer 3\n",
    "nn_model.add(tf.keras.layers.Dense(units = hidden_nodes_layer3, activation='relu'))\n",
    "# Output Layer\n",
    "nn_model.add(tf.keras.layers.Dense(1, activation='sigmoid'))\n",
    "# Check the structure of the model\n",
    "nn_model.summary()"
   ]
  },
  {
   "cell_type": "code",
   "execution_count": 54,
   "metadata": {},
   "outputs": [],
   "source": [
    "#Compile Sequential and customize metrics\n",
    "nn_model.compile(loss=\"binary_crossentropy\", optimizer='adam', metrics=['accuracy'])"
   ]
  },
  {
   "cell_type": "code",
   "execution_count": 55,
   "metadata": {},
   "outputs": [],
   "source": [
    "# import checkpoint dependencies\n",
    "import os\n",
    "from tensorflow.keras.callbacks import ModelCheckpoint\n",
    "\n",
    "#Define the checkpoint path and filenames\n",
    "os.makedirs('checkpoints/optmization/', exist_ok=True)\n",
    "checkpoint_path = 'checkpoints/optmization/weights.{epoch:02d}.hdf5'\n",
    "# Create a callback that saves the model's weights\n",
    "cp_callback = ModelCheckpoint(\n",
    "    filepath=checkpoint_path,\n",
    "    verbose=1,\n",
    "    save_weights_only=True,\n",
    "    save_freq=1000\n",
    ")"
   ]
  },
  {
   "cell_type": "code",
   "execution_count": 56,
   "metadata": {
    "scrolled": true
   },
   "outputs": [
    {
     "name": "stdout",
     "output_type": "stream",
     "text": [
      "Epoch 1/20\n",
      "451/451 [==============================] - 106s 233ms/step - loss: 361712.5570 - accuracy: 0.9277 - val_loss: 223934.3438 - val_accuracy: 0.9380\n",
      "Epoch 2/20\n",
      "451/451 [==============================] - 106s 234ms/step - loss: 250540.9919 - accuracy: 0.9331 - val_loss: 154886.9062 - val_accuracy: 0.9382\n",
      "Epoch 3/20\n",
      " 98/451 [=====>........................] - ETA: 1:17 - loss: 184533.8895 - accuracy: 0.9414\n",
      "Epoch 00003: saving model to checkpoints/optmization/weights.03.hdf5\n",
      "451/451 [==============================] - 104s 232ms/step - loss: 178413.3511 - accuracy: 0.9320 - val_loss: 134018.0469 - val_accuracy: 0.9205\n",
      "Epoch 4/20\n",
      "451/451 [==============================] - 104s 230ms/step - loss: 162311.1974 - accuracy: 0.9205 - val_loss: 126111.5469 - val_accuracy: 0.9296\n",
      "Epoch 5/20\n",
      "196/451 [============>.................] - ETA: 54s - loss: 152393.7707 - accuracy: 0.9273\n",
      "Epoch 00005: saving model to checkpoints/optmization/weights.05.hdf5\n",
      "451/451 [==============================] - 104s 232ms/step - loss: 149910.7347 - accuracy: 0.9257 - val_loss: 117446.8359 - val_accuracy: 0.9367\n",
      "Epoch 6/20\n",
      "451/451 [==============================] - 104s 231ms/step - loss: 136791.5740 - accuracy: 0.9258 - val_loss: 107949.4531 - val_accuracy: 0.9394\n",
      "Epoch 7/20\n",
      "294/451 [==================>...........] - ETA: 33s - loss: 123513.1639 - accuracy: 0.9305\n",
      "Epoch 00007: saving model to checkpoints/optmization/weights.07.hdf5\n",
      "451/451 [==============================] - 103s 229ms/step - loss: 122677.6401 - accuracy: 0.9281 - val_loss: 97953.0625 - val_accuracy: 0.9394\n",
      "Epoch 8/20\n",
      "451/451 [==============================] - 103s 229ms/step - loss: 110184.8156 - accuracy: 0.9277 - val_loss: 87999.2969 - val_accuracy: 0.9230\n",
      "Epoch 9/20\n",
      "392/451 [=========================>....] - ETA: 12s - loss: 99149.1578 - accuracy: 0.9239\n",
      "Epoch 00009: saving model to checkpoints/optmization/weights.09.hdf5\n",
      "451/451 [==============================] - 103s 229ms/step - loss: 98717.2216 - accuracy: 0.9237 - val_loss: 78241.2891 - val_accuracy: 0.9236\n",
      "Epoch 10/20\n",
      "451/451 [==============================] - 103s 227ms/step - loss: 87660.4728 - accuracy: 0.9238 - val_loss: 68815.9531 - val_accuracy: 0.9390\n",
      "Epoch 11/20\n",
      "451/451 [==============================] - 103s 229ms/step - loss: 75642.6500 - accuracy: 0.9211 - val_loss: 59765.9219 - val_accuracy: 0.9396\n",
      "Epoch 12/20\n",
      " 39/451 [=>............................] - ETA: 1:28 - loss: 71094.4745 - accuracy: 0.8866\n",
      "Epoch 00012: saving model to checkpoints/optmization/weights.12.hdf5\n",
      "451/451 [==============================] - 103s 229ms/step - loss: 65935.9769 - accuracy: 0.9205 - val_loss: 51269.2070 - val_accuracy: 0.9398\n",
      "Epoch 13/20\n",
      "451/451 [==============================] - 103s 229ms/step - loss: 56288.6518 - accuracy: 0.9226 - val_loss: 43371.0117 - val_accuracy: 0.7059\n",
      "Epoch 14/20\n",
      "137/451 [========>.....................] - ETA: 1:07 - loss: 48660.9294 - accuracy: 0.9111\n",
      "Epoch 00014: saving model to checkpoints/optmization/weights.14.hdf5\n",
      "451/451 [==============================] - 104s 230ms/step - loss: 47044.0925 - accuracy: 0.9187 - val_loss: 36141.2773 - val_accuracy: 0.9398\n",
      "Epoch 15/20\n",
      "451/451 [==============================] - 96s 213ms/step - loss: 38849.8473 - accuracy: 0.9310 - val_loss: 29557.3398 - val_accuracy: 0.9398\n",
      "Epoch 16/20\n",
      "235/451 [==============>...............] - ETA: 42s - loss: 32023.1534 - accuracy: 0.9263\n",
      "Epoch 00016: saving model to checkpoints/optmization/weights.16.hdf5\n",
      "451/451 [==============================] - 95s 210ms/step - loss: 31389.1559 - accuracy: 0.9268 - val_loss: 23705.7676 - val_accuracy: 0.9400\n",
      "Epoch 17/20\n",
      "451/451 [==============================] - 95s 211ms/step - loss: 25452.4547 - accuracy: 0.9277 - val_loss: 18743.4004 - val_accuracy: 0.9396\n",
      "Epoch 18/20\n",
      "333/451 [=====================>........] - ETA: 23s - loss: 20763.4659 - accuracy: 0.9303\n",
      "Epoch 00018: saving model to checkpoints/optmization/weights.18.hdf5\n",
      "451/451 [==============================] - 95s 211ms/step - loss: 20381.3425 - accuracy: 0.9303 - val_loss: 14646.4561 - val_accuracy: 0.9398\n",
      "Epoch 19/20\n",
      "451/451 [==============================] - 96s 213ms/step - loss: 15950.5875 - accuracy: 0.9331 - val_loss: 11239.6055 - val_accuracy: 0.9396\n",
      "Epoch 20/20\n",
      "431/451 [===========================>..] - ETA: 3s - loss: 12007.5175 - accuracy: 0.9364\n",
      "Epoch 00020: saving model to checkpoints/optmization/weights.20.hdf5\n",
      "451/451 [==============================] - 94s 208ms/step - loss: 11981.4782 - accuracy: 0.9362 - val_loss: 8623.9121 - val_accuracy: 0.9398\n"
     ]
    }
   ],
   "source": [
    "# Train\n",
    "fit_model = nn_model.fit(X_train_scaled, y_train, epochs=20, callbacks=[cp_callback], validation_data=(X_test_scaled, y_test))"
   ]
  },
  {
   "cell_type": "code",
   "execution_count": 57,
   "metadata": {},
   "outputs": [
    {
     "name": "stdout",
     "output_type": "stream",
     "text": [
      "151/151 - 6s - loss: 8623.9121 - accuracy: 0.9398\n",
      "Loss: 8623.912109375, Accuracy: 0.9398418068885803\n"
     ]
    }
   ],
   "source": [
    "#Evaluate\n",
    "model_loss, model_accuracy = nn_model.evaluate(X_test_scaled, y_test, verbose=2)\n",
    "print(f'Loss: {model_loss}, Accuracy: {model_accuracy}')"
   ]
  },
  {
   "cell_type": "code",
   "execution_count": 58,
   "metadata": {},
   "outputs": [
    {
     "name": "stdout",
     "output_type": "stream",
     "text": [
      "151/151 - 7s - loss: 8623.9121 - accuracy: 0.9398\n",
      "[8623.912109375, 0.9398418068885803]\n"
     ]
    }
   ],
   "source": [
    "print(nn_model.evaluate(X_test_scaled, y_test, verbose=2))"
   ]
  },
  {
   "cell_type": "code",
   "execution_count": 59,
   "metadata": {},
   "outputs": [
    {
     "data": {
      "image/png": "[encoded data removed]",
      "text/plain": [
       "<Figure size 432x288 with 1 Axes>"
      ]
     },
     "metadata": {
      "needs_background": "light"
     },
     "output_type": "display_data"
    }
   ],
   "source": [
    "# Plot Accuracy (Train vs Test)\n",
    "import matplotlib.pyplot as plt\n",
    "plt.plot(fit_model.history['accuracy'])\n",
    "plt.plot(fit_model.history['val_accuracy'])\n",
    "plt.title('Model accuracy')\n",
    "plt.ylabel('Accuracy')\n",
    "plt.xlabel('Epoch')\n",
    "plt.legend(['Train', 'Test'], loc='upper left')\n",
    "plt.show()"
   ]
  },
  {
   "cell_type": "code",
   "execution_count": 60,
   "metadata": {},
   "outputs": [
    {
     "data": {
      "image/png": "[encoded data removed]",
      "text/plain": [
       "<Figure size 432x288 with 1 Axes>"
      ]
     },
     "metadata": {
      "needs_background": "light"
     },
     "output_type": "display_data"
    }
   ],
   "source": [
    "# Plot Loss (Train vs Test)\n",
    "plt.plot(fit_model.history['loss']) \n",
    "plt.plot(fit_model.history['val_loss']) \n",
    "plt.title('Model loss') \n",
    "plt.ylabel('Loss') \n",
    "plt.xlabel('Epoch') \n",
    "plt.legend(['Train', 'Test'], loc='upper left') \n",
    "plt.show()"
   ]
  }
 ],
 "metadata": {
  "kernelspec": {
   "display_name": "PythonData",
   "language": "python",
   "name": "pythondata"
  },
  "language_info": {
   "codemirror_mode": {
    "name": "ipython",
    "version": 3
   },
   "file_extension": ".py",
   "mimetype": "text/x-python",
   "name": "python",
   "nbconvert_exporter": "python",
   "pygments_lexer": "ipython3",
   "version": "3.8.3"
  }
 },
 "nbformat": 4,
 "nbformat_minor": 5
}
