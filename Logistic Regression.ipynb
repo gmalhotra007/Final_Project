{
 "cells": [
  {
   "cell_type": "code",
   "execution_count": 1,
   "metadata": {},
   "outputs": [],
   "source": [
    "# Import dependencies\n",
    "from sklearn.model_selection import train_test_split\n",
    "from sklearn.preprocessing import StandardScaler, OneHotEncoder\n",
    "from sklearn.linear_model import LogisticRegression\n",
    "from sklearn.metrics import accuracy_score\n",
    "from sklearn.impute import SimpleImputer\n",
    "import pandas as pd\n",
    "import tensorflow as tf\n"
   ]
  },
  {
   "cell_type": "markdown",
   "metadata": {},
   "source": [
    "# Import and clean df"
   ]
  },
  {
   "cell_type": "code",
   "execution_count": 2,
   "metadata": {},
   "outputs": [
    {
     "data": {
      "text/html": [
       "<div>\n",
       "<style scoped>\n",
       "    .dataframe tbody tr th:only-of-type {\n",
       "        vertical-align: middle;\n",
       "    }\n",
       "\n",
       "    .dataframe tbody tr th {\n",
       "        vertical-align: top;\n",
       "    }\n",
       "\n",
       "    .dataframe thead th {\n",
       "        text-align: right;\n",
       "    }\n",
       "</style>\n",
       "<table border=\"1\" class=\"dataframe\">\n",
       "  <thead>\n",
       "    <tr style=\"text-align: right;\">\n",
       "      <th></th>\n",
       "      <th>Unnamed: 0</th>\n",
       "      <th>VAERS_ID</th>\n",
       "      <th>RECVDATE</th>\n",
       "      <th>STATE</th>\n",
       "      <th>AGE_YRS</th>\n",
       "      <th>CAGE_YR</th>\n",
       "      <th>CAGE_MO</th>\n",
       "      <th>SEX</th>\n",
       "      <th>RPT_DATE</th>\n",
       "      <th>SYMPTOM_TEXT</th>\n",
       "      <th>...</th>\n",
       "      <th>SYMPTOMVERSION4</th>\n",
       "      <th>SYMPTOM5</th>\n",
       "      <th>SYMPTOMVERSION5</th>\n",
       "      <th>VAX_TYPE</th>\n",
       "      <th>VAX_MANU</th>\n",
       "      <th>VAX_LOT</th>\n",
       "      <th>VAX_DOSE_SERIES</th>\n",
       "      <th>VAX_ROUTE</th>\n",
       "      <th>VAX_SITE</th>\n",
       "      <th>VAX_NAME</th>\n",
       "    </tr>\n",
       "  </thead>\n",
       "  <tbody>\n",
       "    <tr>\n",
       "      <th>0</th>\n",
       "      <td>0</td>\n",
       "      <td>916600</td>\n",
       "      <td>01/01/2021</td>\n",
       "      <td>TX</td>\n",
       "      <td>33.0</td>\n",
       "      <td>33.0</td>\n",
       "      <td>NaN</td>\n",
       "      <td>F</td>\n",
       "      <td>NaN</td>\n",
       "      <td>Right side of epiglottis swelled up and hinder...</td>\n",
       "      <td>...</td>\n",
       "      <td>NaN</td>\n",
       "      <td>NaN</td>\n",
       "      <td>NaN</td>\n",
       "      <td>COVID19</td>\n",
       "      <td>MODERNA</td>\n",
       "      <td>037K20A</td>\n",
       "      <td>1</td>\n",
       "      <td>IM</td>\n",
       "      <td>LA</td>\n",
       "      <td>COVID19 (COVID19 (MODERNA))</td>\n",
       "    </tr>\n",
       "    <tr>\n",
       "      <th>1</th>\n",
       "      <td>1</td>\n",
       "      <td>916601</td>\n",
       "      <td>01/01/2021</td>\n",
       "      <td>CA</td>\n",
       "      <td>73.0</td>\n",
       "      <td>73.0</td>\n",
       "      <td>NaN</td>\n",
       "      <td>F</td>\n",
       "      <td>NaN</td>\n",
       "      <td>Approximately 30 min post vaccination administ...</td>\n",
       "      <td>...</td>\n",
       "      <td>NaN</td>\n",
       "      <td>NaN</td>\n",
       "      <td>NaN</td>\n",
       "      <td>COVID19</td>\n",
       "      <td>MODERNA</td>\n",
       "      <td>025L20A</td>\n",
       "      <td>1</td>\n",
       "      <td>IM</td>\n",
       "      <td>RA</td>\n",
       "      <td>COVID19 (COVID19 (MODERNA))</td>\n",
       "    </tr>\n",
       "    <tr>\n",
       "      <th>2</th>\n",
       "      <td>2</td>\n",
       "      <td>916602</td>\n",
       "      <td>01/01/2021</td>\n",
       "      <td>WA</td>\n",
       "      <td>23.0</td>\n",
       "      <td>23.0</td>\n",
       "      <td>NaN</td>\n",
       "      <td>F</td>\n",
       "      <td>NaN</td>\n",
       "      <td>About 15 minutes after receiving the vaccine, ...</td>\n",
       "      <td>...</td>\n",
       "      <td>23.1</td>\n",
       "      <td>NaN</td>\n",
       "      <td>NaN</td>\n",
       "      <td>COVID19</td>\n",
       "      <td>PFIZER\\BIONTECH</td>\n",
       "      <td>EL1284</td>\n",
       "      <td>1</td>\n",
       "      <td>IM</td>\n",
       "      <td>LA</td>\n",
       "      <td>COVID19 (COVID19 (PFIZER-BIONTECH))</td>\n",
       "    </tr>\n",
       "    <tr>\n",
       "      <th>3</th>\n",
       "      <td>3</td>\n",
       "      <td>916603</td>\n",
       "      <td>01/01/2021</td>\n",
       "      <td>WA</td>\n",
       "      <td>58.0</td>\n",
       "      <td>58.0</td>\n",
       "      <td>NaN</td>\n",
       "      <td>F</td>\n",
       "      <td>NaN</td>\n",
       "      <td>extreme fatigue, dizziness,. could not lift my...</td>\n",
       "      <td>...</td>\n",
       "      <td>NaN</td>\n",
       "      <td>NaN</td>\n",
       "      <td>NaN</td>\n",
       "      <td>COVID19</td>\n",
       "      <td>MODERNA</td>\n",
       "      <td>unknown</td>\n",
       "      <td>UNK</td>\n",
       "      <td>NaN</td>\n",
       "      <td>NaN</td>\n",
       "      <td>COVID19 (COVID19 (MODERNA))</td>\n",
       "    </tr>\n",
       "    <tr>\n",
       "      <th>4</th>\n",
       "      <td>4</td>\n",
       "      <td>916604</td>\n",
       "      <td>01/01/2021</td>\n",
       "      <td>TX</td>\n",
       "      <td>47.0</td>\n",
       "      <td>47.0</td>\n",
       "      <td>NaN</td>\n",
       "      <td>F</td>\n",
       "      <td>NaN</td>\n",
       "      <td>Injection site swelling, redness, warm to the ...</td>\n",
       "      <td>...</td>\n",
       "      <td>23.1</td>\n",
       "      <td>NaN</td>\n",
       "      <td>NaN</td>\n",
       "      <td>COVID19</td>\n",
       "      <td>MODERNA</td>\n",
       "      <td>NaN</td>\n",
       "      <td>1</td>\n",
       "      <td>IM</td>\n",
       "      <td>LA</td>\n",
       "      <td>COVID19 (COVID19 (MODERNA))</td>\n",
       "    </tr>\n",
       "  </tbody>\n",
       "</table>\n",
       "<p>5 rows × 53 columns</p>\n",
       "</div>"
      ],
      "text/plain": [
       "   Unnamed: 0  VAERS_ID    RECVDATE STATE  AGE_YRS  CAGE_YR  CAGE_MO SEX  \\\n",
       "0           0    916600  01/01/2021    TX     33.0     33.0      NaN   F   \n",
       "1           1    916601  01/01/2021    CA     73.0     73.0      NaN   F   \n",
       "2           2    916602  01/01/2021    WA     23.0     23.0      NaN   F   \n",
       "3           3    916603  01/01/2021    WA     58.0     58.0      NaN   F   \n",
       "4           4    916604  01/01/2021    TX     47.0     47.0      NaN   F   \n",
       "\n",
       "  RPT_DATE                                       SYMPTOM_TEXT  ...  \\\n",
       "0      NaN  Right side of epiglottis swelled up and hinder...  ...   \n",
       "1      NaN  Approximately 30 min post vaccination administ...  ...   \n",
       "2      NaN  About 15 minutes after receiving the vaccine, ...  ...   \n",
       "3      NaN  extreme fatigue, dizziness,. could not lift my...  ...   \n",
       "4      NaN  Injection site swelling, redness, warm to the ...  ...   \n",
       "\n",
       "  SYMPTOMVERSION4 SYMPTOM5 SYMPTOMVERSION5 VAX_TYPE         VAX_MANU  VAX_LOT  \\\n",
       "0             NaN      NaN             NaN  COVID19          MODERNA  037K20A   \n",
       "1             NaN      NaN             NaN  COVID19          MODERNA  025L20A   \n",
       "2            23.1      NaN             NaN  COVID19  PFIZER\\BIONTECH   EL1284   \n",
       "3             NaN      NaN             NaN  COVID19          MODERNA  unknown   \n",
       "4            23.1      NaN             NaN  COVID19          MODERNA      NaN   \n",
       "\n",
       "  VAX_DOSE_SERIES VAX_ROUTE VAX_SITE                             VAX_NAME  \n",
       "0               1        IM       LA          COVID19 (COVID19 (MODERNA))  \n",
       "1               1        IM       RA          COVID19 (COVID19 (MODERNA))  \n",
       "2               1        IM       LA  COVID19 (COVID19 (PFIZER-BIONTECH))  \n",
       "3             UNK       NaN      NaN          COVID19 (COVID19 (MODERNA))  \n",
       "4               1        IM       LA          COVID19 (COVID19 (MODERNA))  \n",
       "\n",
       "[5 rows x 53 columns]"
      ]
     },
     "execution_count": 2,
     "metadata": {},
     "output_type": "execute_result"
    }
   ],
   "source": [
    "# Import cleaned VAERS dataset\n",
    "vaers_df = pd.read_csv('VAERSDATA.csv', low_memory=False)\n",
    "vaers_df.head()"
   ]
  },
  {
   "cell_type": "code",
   "execution_count": 3,
   "metadata": {},
   "outputs": [
    {
     "data": {
      "text/plain": [
       "Unnamed: 0           int64\n",
       "VAERS_ID             int64\n",
       "RECVDATE            object\n",
       "STATE               object\n",
       "AGE_YRS            float64\n",
       "CAGE_YR            float64\n",
       "CAGE_MO            float64\n",
       "SEX                 object\n",
       "RPT_DATE            object\n",
       "SYMPTOM_TEXT        object\n",
       "DIED                object\n",
       "DATEDIED            object\n",
       "L_THREAT            object\n",
       "ER_VISIT            object\n",
       "HOSPITAL            object\n",
       "HOSPDAYS           float64\n",
       "X_STAY              object\n",
       "DISABLE             object\n",
       "RECOVD              object\n",
       "VAX_DATE            object\n",
       "ONSET_DATE          object\n",
       "NUMDAYS            float64\n",
       "LAB_DATA            object\n",
       "V_ADMINBY           object\n",
       "V_FUNDBY            object\n",
       "OTHER_MEDS          object\n",
       "CUR_ILL             object\n",
       "HISTORY             object\n",
       "PRIOR_VAX           object\n",
       "SPLTTYPE            object\n",
       "FORM_VERS            int64\n",
       "TODAYS_DATE         object\n",
       "BIRTH_DEFECT        object\n",
       "OFC_VISIT           object\n",
       "ER_ED_VISIT         object\n",
       "ALLERGIES           object\n",
       "SYMPTOM1            object\n",
       "SYMPTOMVERSION1    float64\n",
       "SYMPTOM2            object\n",
       "SYMPTOMVERSION2    float64\n",
       "SYMPTOM3            object\n",
       "SYMPTOMVERSION3    float64\n",
       "SYMPTOM4            object\n",
       "SYMPTOMVERSION4    float64\n",
       "SYMPTOM5            object\n",
       "SYMPTOMVERSION5    float64\n",
       "VAX_TYPE            object\n",
       "VAX_MANU            object\n",
       "VAX_LOT             object\n",
       "VAX_DOSE_SERIES     object\n",
       "VAX_ROUTE           object\n",
       "VAX_SITE            object\n",
       "VAX_NAME            object\n",
       "dtype: object"
      ]
     },
     "execution_count": 3,
     "metadata": {},
     "output_type": "execute_result"
    }
   ],
   "source": [
    "# Check vaers_df column types\n",
    "vaers_df.dtypes"
   ]
  },
  {
   "cell_type": "code",
   "execution_count": 4,
   "metadata": {},
   "outputs": [],
   "source": [
    "# change dates(objects)columns to datetime\n",
    "#vaers_df['RECVDATE'] = pd.to_datetime(vaers_df['RECVDATE'])\n",
    "#vaers_df['RPT_DATE'] = pd.to_datetime(vaers_df['RPT_DATE'])\n",
    "#vaers_df['DATEDIED'] = pd.to_datetime(vaers_df['DATEDIED'])\n",
    "#vaers_df['VAX_DATE'] = pd.to_datetime(vaers_df['VAX_DATE'])\n",
    "#vaers_df['ONSET_DATE'] = pd.to_datetime(vaers_df['ONSET_DATE'])\n",
    "#vaers_df['TODAYS_DATE'] = pd.to_datetime(vaers_df['TODAYS_DATE'])\n",
    "\n",
    "#vaers_df.dtypes"
   ]
  },
  {
   "cell_type": "code",
   "execution_count": 5,
   "metadata": {},
   "outputs": [
    {
     "data": {
      "text/plain": [
       "['RECVDATE',\n",
       " 'STATE',\n",
       " 'SEX',\n",
       " 'RPT_DATE',\n",
       " 'SYMPTOM_TEXT',\n",
       " 'DIED',\n",
       " 'DATEDIED',\n",
       " 'L_THREAT',\n",
       " 'ER_VISIT',\n",
       " 'HOSPITAL',\n",
       " 'X_STAY',\n",
       " 'DISABLE',\n",
       " 'RECOVD',\n",
       " 'VAX_DATE',\n",
       " 'ONSET_DATE',\n",
       " 'LAB_DATA',\n",
       " 'V_ADMINBY',\n",
       " 'V_FUNDBY',\n",
       " 'OTHER_MEDS',\n",
       " 'CUR_ILL',\n",
       " 'HISTORY',\n",
       " 'PRIOR_VAX',\n",
       " 'SPLTTYPE',\n",
       " 'TODAYS_DATE',\n",
       " 'BIRTH_DEFECT',\n",
       " 'OFC_VISIT',\n",
       " 'ER_ED_VISIT',\n",
       " 'ALLERGIES',\n",
       " 'SYMPTOM1',\n",
       " 'SYMPTOM2',\n",
       " 'SYMPTOM3',\n",
       " 'SYMPTOM4',\n",
       " 'SYMPTOM5',\n",
       " 'VAX_TYPE',\n",
       " 'VAX_MANU',\n",
       " 'VAX_LOT',\n",
       " 'VAX_DOSE_SERIES',\n",
       " 'VAX_ROUTE',\n",
       " 'VAX_SITE',\n",
       " 'VAX_NAME']"
      ]
     },
     "execution_count": 5,
     "metadata": {},
     "output_type": "execute_result"
    }
   ],
   "source": [
    "# Categorical variable list\n",
    "vaers_cat = vaers_df.dtypes[vaers_df.dtypes == 'object'].index.tolist()\n",
    "vaers_cat"
   ]
  },
  {
   "cell_type": "code",
   "execution_count": 6,
   "metadata": {},
   "outputs": [
    {
     "data": {
      "text/plain": [
       "RECVDATE              70\n",
       "STATE                 60\n",
       "SEX                    3\n",
       "RPT_DATE              20\n",
       "SYMPTOM_TEXT       27195\n",
       "DIED                   1\n",
       "DATEDIED              95\n",
       "L_THREAT               1\n",
       "ER_VISIT               1\n",
       "HOSPITAL               1\n",
       "X_STAY                 1\n",
       "DISABLE                1\n",
       "RECOVD                 3\n",
       "VAX_DATE             278\n",
       "ONSET_DATE           206\n",
       "LAB_DATA            7726\n",
       "V_ADMINBY              9\n",
       "V_FUNDBY               4\n",
       "OTHER_MEDS         11816\n",
       "CUR_ILL             3518\n",
       "HISTORY             9515\n",
       "PRIOR_VAX           1033\n",
       "SPLTTYPE            5895\n",
       "TODAYS_DATE          104\n",
       "BIRTH_DEFECT           1\n",
       "OFC_VISIT              1\n",
       "ER_ED_VISIT            1\n",
       "ALLERGIES           6245\n",
       "SYMPTOM1            2301\n",
       "SYMPTOM2            2220\n",
       "SYMPTOM3            2017\n",
       "SYMPTOM4            1833\n",
       "SYMPTOM5            1617\n",
       "VAX_TYPE              40\n",
       "VAX_MANU              14\n",
       "VAX_LOT             1887\n",
       "VAX_DOSE_SERIES        8\n",
       "VAX_ROUTE              7\n",
       "VAX_SITE               9\n",
       "VAX_NAME              63\n",
       "dtype: int64"
      ]
     },
     "execution_count": 6,
     "metadata": {},
     "output_type": "execute_result"
    }
   ],
   "source": [
    "# Unique values in each column\n",
    "vaers_df[vaers_cat].nunique()"
   ]
  },
  {
   "cell_type": "code",
   "execution_count": 7,
   "metadata": {},
   "outputs": [
    {
     "data": {
      "text/plain": [
       "Y    2575\n",
       "Name: DIED, dtype: int64"
      ]
     },
     "execution_count": 7,
     "metadata": {},
     "output_type": "execute_result"
    }
   ],
   "source": [
    "# DIED value counts\n",
    "counts = vaers_df.DIED.value_counts()\n",
    "counts"
   ]
  },
  {
   "cell_type": "code",
   "execution_count": 8,
   "metadata": {},
   "outputs": [
    {
     "data": {
      "text/plain": [
       "None                                                                           2684\n",
       "none                                                                           1557\n",
       "no                                                                              222\n",
       "NONE                                                                            192\n",
       "None.                                                                           171\n",
       "                                                                               ... \n",
       "Claritin  10mg PO QD x 48 hours                                                   1\n",
       "Test Date: 20210121; Test Name: positive for Covid19; Test Result: Positive       1\n",
       "My doctor was not consulted                                                       1\n",
       "COVID 19 positive 01/04/2021                                                      1\n",
       "Multiple CT Scans & MRI Scans                                                     1\n",
       "Name: LAB_DATA, Length: 7726, dtype: int64"
      ]
     },
     "execution_count": 8,
     "metadata": {},
     "output_type": "execute_result"
    }
   ],
   "source": [
    "# LAB DATA value counts\n",
    "counts = vaers_df.LAB_DATA.value_counts()\n",
    "counts"
   ]
  },
  {
   "cell_type": "code",
   "execution_count": 9,
   "metadata": {},
   "outputs": [
    {
     "data": {
      "text/plain": [
       "None                                                   1866\n",
       "none                                                    875\n",
       "unknown                                                 360\n",
       "Unknown                                                 359\n",
       "No                                                      131\n",
       "                                                       ... \n",
       "Colestipol                                                1\n",
       "high blood pressure meds Tylenol Ibuprofen                1\n",
       "Vitamin d, c, multivitamin                                1\n",
       "Pregabalin, 0xycodone & Prevacid                          1\n",
       "Multivitamins, Vitamin D3, Gingko Biloba, Magnesium       1\n",
       "Name: OTHER_MEDS, Length: 11816, dtype: int64"
      ]
     },
     "execution_count": 9,
     "metadata": {},
     "output_type": "execute_result"
    }
   ],
   "source": [
    "# OTHER MEDS value counts\n",
    "counts = vaers_df.OTHER_MEDS.value_counts()\n",
    "counts"
   ]
  },
  {
   "cell_type": "code",
   "execution_count": 10,
   "metadata": {},
   "outputs": [
    {
     "data": {
      "text/plain": [
       "None                                             6322\n",
       "none                                             3455\n",
       "No                                                654\n",
       "no                                                522\n",
       "NONE                                              365\n",
       "                                                 ... \n",
       "12/2020- COVID positive                             1\n",
       "Currently on holter monitor for SVT                 1\n",
       "Esofagitis, hipoglicemia                            1\n",
       "had first dose of Shingrix vaccine on 1/21/21       1\n",
       "COPD HTN Lung Cancer                                1\n",
       "Name: CUR_ILL, Length: 3518, dtype: int64"
      ]
     },
     "execution_count": 10,
     "metadata": {},
     "output_type": "execute_result"
    }
   ],
   "source": [
    "# CUR_ILL value counts\n",
    "counts = vaers_df.CUR_ILL.value_counts()\n",
    "counts"
   ]
  },
  {
   "cell_type": "code",
   "execution_count": 11,
   "metadata": {},
   "outputs": [
    {
     "data": {
      "text/plain": [
       "None                                                                                                                      3153\n",
       "none                                                                                                                      1525\n",
       "Comments: List of non-encoded Patient Relevant History: Patient Other Relevant History 1: None                             676\n",
       "Medical History/Concurrent Conditions: No adverse event (No reported medical history)                                      375\n",
       "No                                                                                                                         339\n",
       "                                                                                                                          ... \n",
       "Cardia dysrhythmia                                                                                                           1\n",
       "Post prostate CA                                                                                                             1\n",
       "Asthma,seasonal allergies, anxiety                                                                                           1\n",
       "16 items Headache ADHD (attention deficit hyperactivity disorder) (*) Post herpetic neuralgia (*) Herpes zoster Anxiet       1\n",
       "Known epilepsy and diabetes, previous seizure history >1month prior.                                                         1\n",
       "Name: HISTORY, Length: 9515, dtype: int64"
      ]
     },
     "execution_count": 11,
     "metadata": {},
     "output_type": "execute_result"
    }
   ],
   "source": [
    "# HISTORY value counts\n",
    "counts = vaers_df.HISTORY.value_counts()\n",
    "counts"
   ]
  },
  {
   "cell_type": "code",
   "execution_count": 12,
   "metadata": {},
   "outputs": [
    {
     "data": {
      "text/plain": [
       "Flu                                                                       18\n",
       "unknown                                                                   13\n",
       "Flu Vaccine                                                               10\n",
       "COVID19 (Moderna) on 1/26/2021                                             9\n",
       "yes                                                                        8\n",
       "                                                                          ..\n",
       "Flu like symptoms following flu shot                                       1\n",
       "Penicillin, had trouble breathing went to ER  and received shot of epi     1\n",
       "Flu Vaccination October 2020, Tachycardia                                  1\n",
       "yes Tdap.                                                                  1\n",
       "FLU, SORE ARM 1-2 WEEK AFTER                                               1\n",
       "Name: PRIOR_VAX, Length: 1033, dtype: int64"
      ]
     },
     "execution_count": 12,
     "metadata": {},
     "output_type": "execute_result"
    }
   ],
   "source": [
    "# PRIOR_VAX value counts\n",
    "counts = vaers_df.PRIOR_VAX.value_counts()\n",
    "counts"
   ]
  },
  {
   "cell_type": "code",
   "execution_count": 13,
   "metadata": {},
   "outputs": [
    {
     "data": {
      "text/plain": [
       "USMODERNATX, INC.MOD20210    1291\n",
       "vsafe                         514\n",
       "VSAFE                          73\n",
       "USMODERNATX, INC.MOD20200      49\n",
       "USGLAXOSMITHKLINEUS2020GS      29\n",
       "                             ... \n",
       "USPFIZER INC2021185868          1\n",
       "USPFIZER INC2021034884          1\n",
       "USPFIZER INC2021105933          1\n",
       "USPFIZER INC2021153878          1\n",
       "USPFIZER INC2021000651          1\n",
       "Name: SPLTTYPE, Length: 5895, dtype: int64"
      ]
     },
     "execution_count": 13,
     "metadata": {},
     "output_type": "execute_result"
    }
   ],
   "source": [
    "#SPLTTYPE value counts\n",
    "counts = vaers_df.SPLTTYPE.value_counts()\n",
    "counts"
   ]
  },
  {
   "cell_type": "code",
   "execution_count": 14,
   "metadata": {},
   "outputs": [
    {
     "data": {
      "text/plain": [
       "None                                                  3369\n",
       "none                                                  1619\n",
       "NKA                                                    804\n",
       "NKDA                                                   769\n",
       "No                                                     401\n",
       "                                                      ... \n",
       "Adhesive Tape (intolerance) Procaine (intolerance)       1\n",
       "SULFA , IODINE, SHELL FISH                               1\n",
       "Hydromorphone, adhesive                                  1\n",
       "Epinephrin for dental work                               1\n",
       "IVP dye Latex Bananas  Pineapple                         1\n",
       "Name: ALLERGIES, Length: 6245, dtype: int64"
      ]
     },
     "execution_count": 14,
     "metadata": {},
     "output_type": "execute_result"
    }
   ],
   "source": [
    "#ALLERGIES value counts\n",
    "counts = vaers_df.ALLERGIES.value_counts()\n",
    "counts"
   ]
  },
  {
   "cell_type": "code",
   "execution_count": 15,
   "metadata": {},
   "outputs": [
    {
     "data": {
      "text/plain": [
       "Chills                                  2358\n",
       "Arthralgia                              1516\n",
       "Headache                                1197\n",
       "Injection site erythema                 1176\n",
       "Dizziness                               1175\n",
       "                                        ... \n",
       "Electrocardiogram QRS complex normal       1\n",
       "Lid sulcus deepened                        1\n",
       "Factor II mutation                         1\n",
       "Gastrointestinal pain                      1\n",
       "Granulocyte count decreased                1\n",
       "Name: SYMPTOM1, Length: 2301, dtype: int64"
      ]
     },
     "execution_count": 15,
     "metadata": {},
     "output_type": "execute_result"
    }
   ],
   "source": [
    "#SYMPTOM1 value counts\n",
    "counts = vaers_df.SYMPTOM1.value_counts()\n",
    "counts"
   ]
  },
  {
   "cell_type": "code",
   "execution_count": 16,
   "metadata": {},
   "outputs": [
    {
     "data": {
      "text/plain": [
       "Headache                                             1683\n",
       "Fatigue                                              1301\n",
       "Chills                                               1118\n",
       "Dizziness                                             835\n",
       "Pyrexia                                               825\n",
       "                                                     ... \n",
       "Premature baby                                          1\n",
       "Chlamydia test negative                                 1\n",
       "Shoulder injury related to vaccine administration       1\n",
       "Nipple pain                                             1\n",
       "Foot deformity                                          1\n",
       "Name: SYMPTOM2, Length: 2220, dtype: int64"
      ]
     },
     "execution_count": 16,
     "metadata": {},
     "output_type": "execute_result"
    }
   ],
   "source": [
    "#SYMPTOM2 value counts\n",
    "counts = vaers_df.SYMPTOM2.value_counts()\n",
    "counts"
   ]
  },
  {
   "cell_type": "code",
   "execution_count": 17,
   "metadata": {},
   "outputs": [
    {
     "data": {
      "text/plain": [
       "039K20A    1375\n",
       "011J20A    1260\n",
       "EK9231     1132\n",
       "EK5730     1072\n",
       "EH9899     1047\n",
       "           ... \n",
       "039620        1\n",
       "0112208       1\n",
       "012620A       1\n",
       "49TM3         1\n",
       "T016159       1\n",
       "Name: VAX_LOT, Length: 1887, dtype: int64"
      ]
     },
     "execution_count": 17,
     "metadata": {},
     "output_type": "execute_result"
    }
   ],
   "source": [
    "#VAX_LOT value counts\n",
    "counts = vaers_df.VAX_LOT.value_counts()\n",
    "counts"
   ]
  },
  {
   "cell_type": "code",
   "execution_count": 18,
   "metadata": {},
   "outputs": [],
   "source": [
    "# Drop LAB_DATA, OTHER MEDS, CUR_ILL, HISTORY, PRIOR_VAX, ALLERGIES - unless we use NLP, those columns can't be hot encoded\n",
    "vaers_clean = vaers_df.drop(columns = ['LAB_DATA', 'OTHER_MEDS', 'CUR_ILL', 'HISTORY', 'PRIOR_VAX', 'ALLERGIES'])"
   ]
  },
  {
   "cell_type": "code",
   "execution_count": 19,
   "metadata": {},
   "outputs": [
    {
     "data": {
      "text/plain": [
       "Unnamed: 0         40261\n",
       "VAERS_ID           27955\n",
       "RECVDATE              70\n",
       "STATE                 60\n",
       "AGE_YRS              118\n",
       "CAGE_YR              105\n",
       "CAGE_MO                7\n",
       "SEX                    3\n",
       "RPT_DATE              20\n",
       "SYMPTOM_TEXT       27195\n",
       "DIED                   1\n",
       "DATEDIED              95\n",
       "L_THREAT               1\n",
       "ER_VISIT               1\n",
       "HOSPITAL               1\n",
       "HOSPDAYS              33\n",
       "X_STAY                 1\n",
       "DISABLE                1\n",
       "RECOVD                 3\n",
       "VAX_DATE             278\n",
       "ONSET_DATE           206\n",
       "NUMDAYS              115\n",
       "V_ADMINBY              9\n",
       "V_FUNDBY               4\n",
       "SPLTTYPE            5895\n",
       "FORM_VERS              2\n",
       "TODAYS_DATE          104\n",
       "BIRTH_DEFECT           1\n",
       "OFC_VISIT              1\n",
       "ER_ED_VISIT            1\n",
       "SYMPTOM1            2301\n",
       "SYMPTOMVERSION1        2\n",
       "SYMPTOM2            2220\n",
       "SYMPTOMVERSION2        2\n",
       "SYMPTOM3            2017\n",
       "SYMPTOMVERSION3        2\n",
       "SYMPTOM4            1833\n",
       "SYMPTOMVERSION4        2\n",
       "SYMPTOM5            1617\n",
       "SYMPTOMVERSION5        2\n",
       "VAX_TYPE              40\n",
       "VAX_MANU              14\n",
       "VAX_LOT             1887\n",
       "VAX_DOSE_SERIES        8\n",
       "VAX_ROUTE              7\n",
       "VAX_SITE               9\n",
       "VAX_NAME              63\n",
       "dtype: int64"
      ]
     },
     "execution_count": 19,
     "metadata": {},
     "output_type": "execute_result"
    }
   ],
   "source": [
    "# re-count Unique values in each column in new cleaned df\n",
    "vaers_clean.nunique()"
   ]
  },
  {
   "cell_type": "markdown",
   "metadata": {},
   "source": [
    "# One Hot Encoder"
   ]
  },
  {
   "cell_type": "code",
   "execution_count": 20,
   "metadata": {},
   "outputs": [],
   "source": [
    "# replace missing data\n",
    "vaers_clean.fillna('None', inplace=True)"
   ]
  },
  {
   "cell_type": "code",
   "execution_count": 21,
   "metadata": {},
   "outputs": [
    {
     "data": {
      "text/plain": [
       "['RECVDATE',\n",
       " 'STATE',\n",
       " 'SEX',\n",
       " 'RPT_DATE',\n",
       " 'SYMPTOM_TEXT',\n",
       " 'DIED',\n",
       " 'DATEDIED',\n",
       " 'L_THREAT',\n",
       " 'ER_VISIT',\n",
       " 'HOSPITAL',\n",
       " 'X_STAY',\n",
       " 'DISABLE',\n",
       " 'RECOVD',\n",
       " 'VAX_DATE',\n",
       " 'ONSET_DATE',\n",
       " 'V_ADMINBY',\n",
       " 'V_FUNDBY',\n",
       " 'SPLTTYPE',\n",
       " 'TODAYS_DATE',\n",
       " 'BIRTH_DEFECT',\n",
       " 'OFC_VISIT',\n",
       " 'ER_ED_VISIT',\n",
       " 'SYMPTOM1',\n",
       " 'SYMPTOM2',\n",
       " 'SYMPTOM3',\n",
       " 'SYMPTOM4',\n",
       " 'SYMPTOM5',\n",
       " 'VAX_TYPE',\n",
       " 'VAX_MANU',\n",
       " 'VAX_LOT',\n",
       " 'VAX_DOSE_SERIES',\n",
       " 'VAX_ROUTE',\n",
       " 'VAX_SITE',\n",
       " 'VAX_NAME']"
      ]
     },
     "execution_count": 21,
     "metadata": {},
     "output_type": "execute_result"
    }
   ],
   "source": [
    "# Recriate the vares_clean categorical list\n",
    "vaers_cat = vaers_clean.dtypes[vaers_df.dtypes == 'object'].index.tolist()\n",
    "vaers_cat"
   ]
  },
  {
   "cell_type": "code",
   "execution_count": 22,
   "metadata": {},
   "outputs": [
    {
     "data": {
      "text/html": [
       "<div>\n",
       "<style scoped>\n",
       "    .dataframe tbody tr th:only-of-type {\n",
       "        vertical-align: middle;\n",
       "    }\n",
       "\n",
       "    .dataframe tbody tr th {\n",
       "        vertical-align: top;\n",
       "    }\n",
       "\n",
       "    .dataframe thead th {\n",
       "        text-align: right;\n",
       "    }\n",
       "</style>\n",
       "<table border=\"1\" class=\"dataframe\">\n",
       "  <thead>\n",
       "    <tr style=\"text-align: right;\">\n",
       "      <th></th>\n",
       "      <th>RECVDATE_01/01/2021</th>\n",
       "      <th>RECVDATE_01/02/2021</th>\n",
       "      <th>RECVDATE_01/03/2021</th>\n",
       "      <th>RECVDATE_01/04/2021</th>\n",
       "      <th>RECVDATE_01/05/2021</th>\n",
       "      <th>RECVDATE_01/06/2021</th>\n",
       "      <th>RECVDATE_01/07/2021</th>\n",
       "      <th>RECVDATE_01/08/2021</th>\n",
       "      <th>RECVDATE_01/09/2021</th>\n",
       "      <th>RECVDATE_01/10/2021</th>\n",
       "      <th>...</th>\n",
       "      <th>VAX_NAME_TDAP (NO BRAND NAME)</th>\n",
       "      <th>VAX_NAME_TETANUS TOXOID (NO BRAND NAME)</th>\n",
       "      <th>VAX_NAME_TYPHOID LIVE ORAL TY21A (VIVOTIF)</th>\n",
       "      <th>VAX_NAME_VACCINE NOT SPECIFIED (NO BRAND NAME)</th>\n",
       "      <th>VAX_NAME_VACCINE NOT SPECIFIED (OTHER)</th>\n",
       "      <th>VAX_NAME_VARICELLA (VARIVAX)</th>\n",
       "      <th>VAX_NAME_YELLOW FEVER (YF-VAX)</th>\n",
       "      <th>VAX_NAME_ZOSTER (NO BRAND NAME)</th>\n",
       "      <th>VAX_NAME_ZOSTER (SHINGRIX)</th>\n",
       "      <th>VAX_NAME_ZOSTER LIVE (ZOSTAVAX)</th>\n",
       "    </tr>\n",
       "  </thead>\n",
       "  <tbody>\n",
       "    <tr>\n",
       "      <th>0</th>\n",
       "      <td>1.0</td>\n",
       "      <td>0.0</td>\n",
       "      <td>0.0</td>\n",
       "      <td>0.0</td>\n",
       "      <td>0.0</td>\n",
       "      <td>0.0</td>\n",
       "      <td>0.0</td>\n",
       "      <td>0.0</td>\n",
       "      <td>0.0</td>\n",
       "      <td>0.0</td>\n",
       "      <td>...</td>\n",
       "      <td>0.0</td>\n",
       "      <td>0.0</td>\n",
       "      <td>0.0</td>\n",
       "      <td>0.0</td>\n",
       "      <td>0.0</td>\n",
       "      <td>0.0</td>\n",
       "      <td>0.0</td>\n",
       "      <td>0.0</td>\n",
       "      <td>0.0</td>\n",
       "      <td>0.0</td>\n",
       "    </tr>\n",
       "    <tr>\n",
       "      <th>1</th>\n",
       "      <td>1.0</td>\n",
       "      <td>0.0</td>\n",
       "      <td>0.0</td>\n",
       "      <td>0.0</td>\n",
       "      <td>0.0</td>\n",
       "      <td>0.0</td>\n",
       "      <td>0.0</td>\n",
       "      <td>0.0</td>\n",
       "      <td>0.0</td>\n",
       "      <td>0.0</td>\n",
       "      <td>...</td>\n",
       "      <td>0.0</td>\n",
       "      <td>0.0</td>\n",
       "      <td>0.0</td>\n",
       "      <td>0.0</td>\n",
       "      <td>0.0</td>\n",
       "      <td>0.0</td>\n",
       "      <td>0.0</td>\n",
       "      <td>0.0</td>\n",
       "      <td>0.0</td>\n",
       "      <td>0.0</td>\n",
       "    </tr>\n",
       "    <tr>\n",
       "      <th>2</th>\n",
       "      <td>1.0</td>\n",
       "      <td>0.0</td>\n",
       "      <td>0.0</td>\n",
       "      <td>0.0</td>\n",
       "      <td>0.0</td>\n",
       "      <td>0.0</td>\n",
       "      <td>0.0</td>\n",
       "      <td>0.0</td>\n",
       "      <td>0.0</td>\n",
       "      <td>0.0</td>\n",
       "      <td>...</td>\n",
       "      <td>0.0</td>\n",
       "      <td>0.0</td>\n",
       "      <td>0.0</td>\n",
       "      <td>0.0</td>\n",
       "      <td>0.0</td>\n",
       "      <td>0.0</td>\n",
       "      <td>0.0</td>\n",
       "      <td>0.0</td>\n",
       "      <td>0.0</td>\n",
       "      <td>0.0</td>\n",
       "    </tr>\n",
       "    <tr>\n",
       "      <th>3</th>\n",
       "      <td>1.0</td>\n",
       "      <td>0.0</td>\n",
       "      <td>0.0</td>\n",
       "      <td>0.0</td>\n",
       "      <td>0.0</td>\n",
       "      <td>0.0</td>\n",
       "      <td>0.0</td>\n",
       "      <td>0.0</td>\n",
       "      <td>0.0</td>\n",
       "      <td>0.0</td>\n",
       "      <td>...</td>\n",
       "      <td>0.0</td>\n",
       "      <td>0.0</td>\n",
       "      <td>0.0</td>\n",
       "      <td>0.0</td>\n",
       "      <td>0.0</td>\n",
       "      <td>0.0</td>\n",
       "      <td>0.0</td>\n",
       "      <td>0.0</td>\n",
       "      <td>0.0</td>\n",
       "      <td>0.0</td>\n",
       "    </tr>\n",
       "    <tr>\n",
       "      <th>4</th>\n",
       "      <td>1.0</td>\n",
       "      <td>0.0</td>\n",
       "      <td>0.0</td>\n",
       "      <td>0.0</td>\n",
       "      <td>0.0</td>\n",
       "      <td>0.0</td>\n",
       "      <td>0.0</td>\n",
       "      <td>0.0</td>\n",
       "      <td>0.0</td>\n",
       "      <td>0.0</td>\n",
       "      <td>...</td>\n",
       "      <td>0.0</td>\n",
       "      <td>0.0</td>\n",
       "      <td>0.0</td>\n",
       "      <td>0.0</td>\n",
       "      <td>0.0</td>\n",
       "      <td>0.0</td>\n",
       "      <td>0.0</td>\n",
       "      <td>0.0</td>\n",
       "      <td>0.0</td>\n",
       "      <td>0.0</td>\n",
       "    </tr>\n",
       "  </tbody>\n",
       "</table>\n",
       "<p>5 rows × 45993 columns</p>\n",
       "</div>"
      ],
      "text/plain": [
       "   RECVDATE_01/01/2021  RECVDATE_01/02/2021  RECVDATE_01/03/2021  \\\n",
       "0                  1.0                  0.0                  0.0   \n",
       "1                  1.0                  0.0                  0.0   \n",
       "2                  1.0                  0.0                  0.0   \n",
       "3                  1.0                  0.0                  0.0   \n",
       "4                  1.0                  0.0                  0.0   \n",
       "\n",
       "   RECVDATE_01/04/2021  RECVDATE_01/05/2021  RECVDATE_01/06/2021  \\\n",
       "0                  0.0                  0.0                  0.0   \n",
       "1                  0.0                  0.0                  0.0   \n",
       "2                  0.0                  0.0                  0.0   \n",
       "3                  0.0                  0.0                  0.0   \n",
       "4                  0.0                  0.0                  0.0   \n",
       "\n",
       "   RECVDATE_01/07/2021  RECVDATE_01/08/2021  RECVDATE_01/09/2021  \\\n",
       "0                  0.0                  0.0                  0.0   \n",
       "1                  0.0                  0.0                  0.0   \n",
       "2                  0.0                  0.0                  0.0   \n",
       "3                  0.0                  0.0                  0.0   \n",
       "4                  0.0                  0.0                  0.0   \n",
       "\n",
       "   RECVDATE_01/10/2021  ...  VAX_NAME_TDAP (NO BRAND NAME)  \\\n",
       "0                  0.0  ...                            0.0   \n",
       "1                  0.0  ...                            0.0   \n",
       "2                  0.0  ...                            0.0   \n",
       "3                  0.0  ...                            0.0   \n",
       "4                  0.0  ...                            0.0   \n",
       "\n",
       "   VAX_NAME_TETANUS TOXOID (NO BRAND NAME)  \\\n",
       "0                                      0.0   \n",
       "1                                      0.0   \n",
       "2                                      0.0   \n",
       "3                                      0.0   \n",
       "4                                      0.0   \n",
       "\n",
       "   VAX_NAME_TYPHOID LIVE ORAL TY21A (VIVOTIF)  \\\n",
       "0                                         0.0   \n",
       "1                                         0.0   \n",
       "2                                         0.0   \n",
       "3                                         0.0   \n",
       "4                                         0.0   \n",
       "\n",
       "   VAX_NAME_VACCINE NOT SPECIFIED (NO BRAND NAME)  \\\n",
       "0                                             0.0   \n",
       "1                                             0.0   \n",
       "2                                             0.0   \n",
       "3                                             0.0   \n",
       "4                                             0.0   \n",
       "\n",
       "   VAX_NAME_VACCINE NOT SPECIFIED (OTHER)  VAX_NAME_VARICELLA (VARIVAX)  \\\n",
       "0                                     0.0                           0.0   \n",
       "1                                     0.0                           0.0   \n",
       "2                                     0.0                           0.0   \n",
       "3                                     0.0                           0.0   \n",
       "4                                     0.0                           0.0   \n",
       "\n",
       "   VAX_NAME_YELLOW FEVER (YF-VAX)  VAX_NAME_ZOSTER (NO BRAND NAME)  \\\n",
       "0                             0.0                              0.0   \n",
       "1                             0.0                              0.0   \n",
       "2                             0.0                              0.0   \n",
       "3                             0.0                              0.0   \n",
       "4                             0.0                              0.0   \n",
       "\n",
       "   VAX_NAME_ZOSTER (SHINGRIX)  VAX_NAME_ZOSTER LIVE (ZOSTAVAX)  \n",
       "0                         0.0                              0.0  \n",
       "1                         0.0                              0.0  \n",
       "2                         0.0                              0.0  \n",
       "3                         0.0                              0.0  \n",
       "4                         0.0                              0.0  \n",
       "\n",
       "[5 rows x 45993 columns]"
      ]
     },
     "execution_count": 22,
     "metadata": {},
     "output_type": "execute_result"
    }
   ],
   "source": [
    "# OneHotEncoder instance\n",
    "enc = OneHotEncoder(sparse=False)\n",
    "\n",
    "#Fit and transform the OneHotEncoder\n",
    "vaers_enc_df = pd.DataFrame(enc.fit_transform(vaers_clean[vaers_cat]))\n",
    "\n",
    "#Add the encoded variable names to the DF\n",
    "vaers_enc_df.columns = enc.get_feature_names(vaers_cat)\n",
    "vaers_enc_df.head()"
   ]
  },
  {
   "cell_type": "code",
   "execution_count": null,
   "metadata": {},
   "outputs": [],
   "source": [
    "# Merge with vaers_clean and drop original cat. list\n",
    "vaers_df = vaers_clean.merge(vaers_enc_df, left_index=True, right_index=True)\n",
    "vaers_df = vaers_df.drop(vaers_cat,1)\n"
   ]
  },
  {
   "cell_type": "code",
   "execution_count": null,
   "metadata": {},
   "outputs": [],
   "source": [
    "# clean vaers_df dropping Unamed first columns (= index) and DIED_None\n",
    "vaers_df = vaers_df.drop(columns = 'Unnamed: 0')\n"
   ]
  },
  {
   "cell_type": "markdown",
   "metadata": {},
   "source": [
    "# Split Data"
   ]
  },
  {
   "cell_type": "code",
   "execution_count": null,
   "metadata": {},
   "outputs": [],
   "source": [
    "# Split data into features and targets\n",
    "y = vaers_df['DIED_Y']\n",
    "X = vaers_df.drop(columns = 'DIED_None')"
   ]
  },
  {
   "cell_type": "code",
   "execution_count": null,
   "metadata": {},
   "outputs": [],
   "source": [
    "X"
   ]
  },
  {
   "cell_type": "code",
   "execution_count": null,
   "metadata": {},
   "outputs": [],
   "source": [
    "# Split into test and training\n",
    "X_train, X_test, y_train, y_test = train_test_split(X, y, random_state=78)"
   ]
  },
  {
   "cell_type": "code",
   "execution_count": null,
   "metadata": {},
   "outputs": [],
   "source": [
    "# StandardScaler instance\n",
    "scaler = StandardScaler()\n",
    "\n",
    "# Fit the StandardScaler\n",
    "X_scaler = scaler.fit(X_train)\n",
    "\n",
    "# Scale the data\n",
    "X_train_scaled = X_scaler.transform(X_train)\n",
    "X_test_scaled = X_scaler.transform(X_test)"
   ]
  }
 ],
 "metadata": {
  "kernelspec": {
   "display_name": "PythonData",
   "language": "python",
   "name": "pythondata"
  },
  "language_info": {
   "codemirror_mode": {
    "name": "ipython",
    "version": 3
   },
   "file_extension": ".py",
   "mimetype": "text/x-python",
   "name": "python",
   "nbconvert_exporter": "python",
   "pygments_lexer": "ipython3",
   "version": "3.8.3"
  }
 },
 "nbformat": 4,
 "nbformat_minor": 5
}
