{
 "cells": [
  {
   "cell_type": "code",
   "execution_count": null,
   "id": "native-uniform",
   "metadata": {},
   "outputs": [],
   "source": [
    "# Import dependencies\n",
    "from sklearn.model_selection import train_test_split\n",
    "from sklearn.preprocessing import StandardScaler, OneHotEncoder\n",
    "from sklearn.linear_model import LogisticRegression\n",
    "from sklearn.metrics import accuracy_score\n",
    "from sklearn.impute import SimpleImputer\n",
    "import pandas as pd\n",
    "import tensorflow as tf\n"
   ]
  },
  {
   "cell_type": "markdown",
   "id": "arctic-engagement",
   "metadata": {},
   "source": [
    "# Import and clean df"
   ]
  },
  {
   "cell_type": "code",
   "execution_count": null,
   "id": "skilled-recycling",
   "metadata": {},
   "outputs": [],
   "source": [
    "# Import cleaned VAERS dataset\n",
    "vaers_df = pd.read_csv('VAERSDATA.csv', low_memory=False)\n",
    "vaers_df.head()"
   ]
  },
  {
   "cell_type": "code",
   "execution_count": null,
   "id": "addressed-simple",
   "metadata": {},
   "outputs": [],
   "source": [
    "# Check vaers_df column types\n",
    "vaers_df.dtypes"
   ]
  },
  {
   "cell_type": "code",
   "execution_count": null,
   "id": "trained-japanese",
   "metadata": {},
   "outputs": [],
   "source": [
    "# change dates(objects)columns to datetime\n",
    "#vaers_df['RECVDATE'] = pd.to_datetime(vaers_df['RECVDATE'])\n",
    "#vaers_df['RPT_DATE'] = pd.to_datetime(vaers_df['RPT_DATE'])\n",
    "#vaers_df['DATEDIED'] = pd.to_datetime(vaers_df['DATEDIED'])\n",
    "#vaers_df['VAX_DATE'] = pd.to_datetime(vaers_df['VAX_DATE'])\n",
    "#vaers_df['ONSET_DATE'] = pd.to_datetime(vaers_df['ONSET_DATE'])\n",
    "#vaers_df['TODAYS_DATE'] = pd.to_datetime(vaers_df['TODAYS_DATE'])\n",
    "\n",
    "#vaers_df.dtypes"
   ]
  },
  {
   "cell_type": "code",
   "execution_count": null,
   "id": "minor-diagram",
   "metadata": {},
   "outputs": [],
   "source": [
    "# Categorical variable list\n",
    "vaers_cat = vaers_df.dtypes[vaers_df.dtypes == 'object'].index.tolist()\n",
    "vaers_cat"
   ]
  },
  {
   "cell_type": "code",
   "execution_count": null,
   "id": "upset-closer",
   "metadata": {},
   "outputs": [],
   "source": [
    "# Unique values in each column\n",
    "vaers_df[vaers_cat].nunique()"
   ]
  },
  {
   "cell_type": "code",
   "execution_count": null,
   "id": "covered-spare",
   "metadata": {},
   "outputs": [],
   "source": [
    "# DIED value counts\n",
    "counts = vaers_df.DIED.value_counts()\n",
    "counts"
   ]
  },
  {
   "cell_type": "code",
   "execution_count": null,
   "id": "efficient-heating",
   "metadata": {},
   "outputs": [],
   "source": [
    "# LAB DATA value counts\n",
    "counts = vaers_df.LAB_DATA.value_counts()\n",
    "counts"
   ]
  },
  {
   "cell_type": "code",
   "execution_count": null,
   "id": "clean-myanmar",
   "metadata": {},
   "outputs": [],
   "source": [
    "# OTHER MEDS value counts\n",
    "counts = vaers_df.OTHER_MEDS.value_counts()\n",
    "counts"
   ]
  },
  {
   "cell_type": "code",
   "execution_count": null,
   "id": "sharing-greensboro",
   "metadata": {},
   "outputs": [],
   "source": [
    "# CUR_ILL value counts\n",
    "counts = vaers_df.CUR_ILL.value_counts()\n",
    "counts"
   ]
  },
  {
   "cell_type": "code",
   "execution_count": null,
   "id": "desirable-korean",
   "metadata": {},
   "outputs": [],
   "source": [
    "# HISTORY value counts\n",
    "counts = vaers_df.HISTORY.value_counts()\n",
    "counts"
   ]
  },
  {
   "cell_type": "code",
   "execution_count": null,
   "id": "iraqi-heart",
   "metadata": {},
   "outputs": [],
   "source": [
    "# PRIOR_VAX value counts\n",
    "counts = vaers_df.PRIOR_VAX.value_counts()\n",
    "counts"
   ]
  },
  {
   "cell_type": "code",
   "execution_count": null,
   "id": "phantom-badge",
   "metadata": {},
   "outputs": [],
   "source": [
    "#SPLTTYPE value counts\n",
    "counts = vaers_df.SPLTTYPE.value_counts()\n",
    "counts"
   ]
  },
  {
   "cell_type": "code",
   "execution_count": null,
   "id": "designed-twist",
   "metadata": {},
   "outputs": [],
   "source": [
    "#ALLERGIES value counts\n",
    "counts = vaers_df.ALLERGIES.value_counts()\n",
    "counts"
   ]
  },
  {
   "cell_type": "code",
   "execution_count": null,
   "id": "wireless-riding",
   "metadata": {},
   "outputs": [],
   "source": [
    "#SYMPTOM1 value counts\n",
    "counts = vaers_df.SYMPTOM1.value_counts()\n",
    "counts"
   ]
  },
  {
   "cell_type": "code",
   "execution_count": null,
   "id": "stylish-promotion",
   "metadata": {},
   "outputs": [],
   "source": [
    "#SYMPTOM2 value counts\n",
    "counts = vaers_df.SYMPTOM2.value_counts()\n",
    "counts"
   ]
  },
  {
   "cell_type": "code",
   "execution_count": null,
   "id": "bronze-oklahoma",
   "metadata": {},
   "outputs": [],
   "source": [
    "#VAX_LOT value counts\n",
    "counts = vaers_df.VAX_LOT.value_counts()\n",
    "counts"
   ]
  },
  {
   "cell_type": "code",
   "execution_count": null,
   "id": "second-temperature",
   "metadata": {},
   "outputs": [],
   "source": [
    "# Drop LAB_DATA, OTHER MEDS, CUR_ILL, HISTORY, PRIOR_VAX, ALLERGIES - unless we use NLP, those columns can't be hot encoded\n",
    "vaers_clean = vaers_df.drop(columns = ['LAB_DATA', 'OTHER_MEDS', 'CUR_ILL', 'HISTORY', 'PRIOR_VAX', 'ALLERGIES'])"
   ]
  },
  {
   "cell_type": "code",
   "execution_count": null,
   "id": "anticipated-exhaust",
   "metadata": {},
   "outputs": [],
   "source": [
    "# re-count Unique values in each column in new cleaned df\n",
    "vaers_clean.nunique()"
   ]
  },
  {
   "cell_type": "markdown",
   "id": "olive-confidence",
   "metadata": {},
   "source": [
    "# One Hot Encoder"
   ]
  },
  {
   "cell_type": "code",
   "execution_count": null,
   "id": "ignored-broadway",
   "metadata": {},
   "outputs": [],
   "source": [
    "# replace missing data\n",
    "vaers_clean.fillna('None', inplace=True)"
   ]
  },
  {
   "cell_type": "code",
   "execution_count": null,
   "id": "natural-zealand",
   "metadata": {},
   "outputs": [],
   "source": [
    "# Recriate the vares_clean categorical list\n",
    "vaers_cat = vaers_clean.dtypes[vaers_df.dtypes == 'object'].index.tolist()\n",
    "vaers_cat"
   ]
  },
  {
   "cell_type": "code",
   "execution_count": null,
   "id": "quality-syndication",
   "metadata": {},
   "outputs": [],
   "source": [
    "# OneHotEncoder instance\n",
    "enc = OneHotEncoder(sparse=False)\n",
    "\n",
    "#Fit and transform the OneHotEncoder\n",
    "vaers_enc_df = pd.DataFrame(enc.fit_transform(vaers_clean[vaers_cat]))\n",
    "\n",
    "#Add the encoded variable names to the DF\n",
    "vaers_enc_df.columns = enc.get_feature_names(vaers_cat)\n",
    "vaers_enc_df.head()"
   ]
  },
  {
   "cell_type": "code",
   "execution_count": null,
   "id": "essential-niger",
   "metadata": {},
   "outputs": [],
   "source": [
    "# Merge with vaers_clean and drop original cat. list\n",
    "vaers_df = vaers_clean.merge(vaers_enc_df, left_index=True, right_index=True)\n",
    "vaers_df = vaers_df.drop(vaers_cat,1)\n"
   ]
  },
  {
   "cell_type": "code",
   "execution_count": null,
   "id": "canadian-pearl",
   "metadata": {},
   "outputs": [],
   "source": [
    "# clean vaers_df dropping Unamed first columns (= index) and DIED_None\n",
    "vaers_df = vaers_df.drop(columns = 'Unnamed: 0')\n"
   ]
  },
  {
   "cell_type": "markdown",
   "id": "black-detroit",
   "metadata": {},
   "source": [
    "# Split Data"
   ]
  },
  {
   "cell_type": "code",
   "execution_count": null,
   "id": "unexpected-animation",
   "metadata": {},
   "outputs": [],
   "source": [
    "# Split data into features and targets\n",
    "y = vaers_df['DIED_Y'].values\n",
    "X = vaers_df.drop(columns = 'DIED_None').values"
   ]
  },
  {
   "cell_type": "code",
   "execution_count": null,
   "id": "entire-circulation",
   "metadata": {},
   "outputs": [],
   "source": [
    "X"
   ]
  },
  {
   "cell_type": "code",
   "execution_count": null,
   "id": "innovative-cleaning",
   "metadata": {},
   "outputs": [],
   "source": [
    "# Split into test and training\n",
    "X_train, X_test, y_train, y_test = train_test_split(X, y, random_state=78)"
   ]
  },
  {
   "cell_type": "code",
   "execution_count": null,
   "id": "entire-manitoba",
   "metadata": {},
   "outputs": [],
   "source": [
    "# StandardScaler instance\n",
    "scaler = StandardScaler()\n",
    "\n",
    "# Fit the StandardScaler\n",
    "X_scaler = scaler.fit(X_train)\n",
    "\n",
    "# Scale the data\n",
    "X_train_scaled = X_scaler.transform(X_train)\n",
    "X_test_scaled = X_scaler.transform(X_test)"
   ]
  }
 ],
 "metadata": {
  "kernelspec": {
   "display_name": "PythonData",
   "language": "python",
   "name": "pythondata"
  },
  "language_info": {
   "codemirror_mode": {
    "name": "ipython",
    "version": 3
   },
   "file_extension": ".py",
   "mimetype": "text/x-python",
   "name": "python",
   "nbconvert_exporter": "python",
   "pygments_lexer": "ipython3",
   "version": "3.8.3"
  }
 },
 "nbformat": 4,
 "nbformat_minor": 5
}
