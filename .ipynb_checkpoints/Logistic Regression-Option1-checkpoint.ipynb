{
 "cells": [
  {
   "cell_type": "code",
   "execution_count": 1,
   "metadata": {},
   "outputs": [],
   "source": [
    "# Import dependencies\n",
    "from sklearn.model_selection import train_test_split\n",
    "from sklearn.preprocessing import StandardScaler, OneHotEncoder\n",
    "from sklearn.linear_model import LogisticRegression\n",
    "from sklearn.metrics import accuracy_score\n",
    "from sklearn.impute import SimpleImputer\n",
    "from sklearn.base import TransformerMixin\n",
    "import pandas as pd\n",
    "import tensorflow as tf\n"
   ]
  },
  {
   "cell_type": "markdown",
   "metadata": {},
   "source": [
    "# Import and clean df"
   ]
  },
  {
   "cell_type": "code",
   "execution_count": 2,
   "metadata": {},
   "outputs": [
    {
     "data": {
      "text/html": [
       "<div>\n",
       "<style scoped>\n",
       "    .dataframe tbody tr th:only-of-type {\n",
       "        vertical-align: middle;\n",
       "    }\n",
       "\n",
       "    .dataframe tbody tr th {\n",
       "        vertical-align: top;\n",
       "    }\n",
       "\n",
       "    .dataframe thead th {\n",
       "        text-align: right;\n",
       "    }\n",
       "</style>\n",
       "<table border=\"1\" class=\"dataframe\">\n",
       "  <thead>\n",
       "    <tr style=\"text-align: right;\">\n",
       "      <th></th>\n",
       "      <th>Unnamed: 0</th>\n",
       "      <th>VAERS_ID</th>\n",
       "      <th>RECVDATE</th>\n",
       "      <th>STATE</th>\n",
       "      <th>AGE_YRS</th>\n",
       "      <th>CAGE_YR</th>\n",
       "      <th>CAGE_MO</th>\n",
       "      <th>SEX</th>\n",
       "      <th>RPT_DATE</th>\n",
       "      <th>SYMPTOM_TEXT</th>\n",
       "      <th>...</th>\n",
       "      <th>SYMPTOMVERSION4</th>\n",
       "      <th>SYMPTOM5</th>\n",
       "      <th>SYMPTOMVERSION5</th>\n",
       "      <th>VAX_TYPE</th>\n",
       "      <th>VAX_MANU</th>\n",
       "      <th>VAX_LOT</th>\n",
       "      <th>VAX_DOSE_SERIES</th>\n",
       "      <th>VAX_ROUTE</th>\n",
       "      <th>VAX_SITE</th>\n",
       "      <th>VAX_NAME</th>\n",
       "    </tr>\n",
       "  </thead>\n",
       "  <tbody>\n",
       "    <tr>\n",
       "      <th>0</th>\n",
       "      <td>0</td>\n",
       "      <td>916600</td>\n",
       "      <td>01/01/2021</td>\n",
       "      <td>TX</td>\n",
       "      <td>33.0</td>\n",
       "      <td>33.0</td>\n",
       "      <td>NaN</td>\n",
       "      <td>F</td>\n",
       "      <td>NaN</td>\n",
       "      <td>Right side of epiglottis swelled up and hinder...</td>\n",
       "      <td>...</td>\n",
       "      <td>NaN</td>\n",
       "      <td>NaN</td>\n",
       "      <td>NaN</td>\n",
       "      <td>COVID19</td>\n",
       "      <td>MODERNA</td>\n",
       "      <td>037K20A</td>\n",
       "      <td>1</td>\n",
       "      <td>IM</td>\n",
       "      <td>LA</td>\n",
       "      <td>COVID19 (COVID19 (MODERNA))</td>\n",
       "    </tr>\n",
       "    <tr>\n",
       "      <th>1</th>\n",
       "      <td>1</td>\n",
       "      <td>916601</td>\n",
       "      <td>01/01/2021</td>\n",
       "      <td>CA</td>\n",
       "      <td>73.0</td>\n",
       "      <td>73.0</td>\n",
       "      <td>NaN</td>\n",
       "      <td>F</td>\n",
       "      <td>NaN</td>\n",
       "      <td>Approximately 30 min post vaccination administ...</td>\n",
       "      <td>...</td>\n",
       "      <td>NaN</td>\n",
       "      <td>NaN</td>\n",
       "      <td>NaN</td>\n",
       "      <td>COVID19</td>\n",
       "      <td>MODERNA</td>\n",
       "      <td>025L20A</td>\n",
       "      <td>1</td>\n",
       "      <td>IM</td>\n",
       "      <td>RA</td>\n",
       "      <td>COVID19 (COVID19 (MODERNA))</td>\n",
       "    </tr>\n",
       "    <tr>\n",
       "      <th>2</th>\n",
       "      <td>2</td>\n",
       "      <td>916602</td>\n",
       "      <td>01/01/2021</td>\n",
       "      <td>WA</td>\n",
       "      <td>23.0</td>\n",
       "      <td>23.0</td>\n",
       "      <td>NaN</td>\n",
       "      <td>F</td>\n",
       "      <td>NaN</td>\n",
       "      <td>About 15 minutes after receiving the vaccine, ...</td>\n",
       "      <td>...</td>\n",
       "      <td>23.1</td>\n",
       "      <td>NaN</td>\n",
       "      <td>NaN</td>\n",
       "      <td>COVID19</td>\n",
       "      <td>PFIZER\\BIONTECH</td>\n",
       "      <td>EL1284</td>\n",
       "      <td>1</td>\n",
       "      <td>IM</td>\n",
       "      <td>LA</td>\n",
       "      <td>COVID19 (COVID19 (PFIZER-BIONTECH))</td>\n",
       "    </tr>\n",
       "    <tr>\n",
       "      <th>3</th>\n",
       "      <td>3</td>\n",
       "      <td>916603</td>\n",
       "      <td>01/01/2021</td>\n",
       "      <td>WA</td>\n",
       "      <td>58.0</td>\n",
       "      <td>58.0</td>\n",
       "      <td>NaN</td>\n",
       "      <td>F</td>\n",
       "      <td>NaN</td>\n",
       "      <td>extreme fatigue, dizziness,. could not lift my...</td>\n",
       "      <td>...</td>\n",
       "      <td>NaN</td>\n",
       "      <td>NaN</td>\n",
       "      <td>NaN</td>\n",
       "      <td>COVID19</td>\n",
       "      <td>MODERNA</td>\n",
       "      <td>unknown</td>\n",
       "      <td>UNK</td>\n",
       "      <td>NaN</td>\n",
       "      <td>NaN</td>\n",
       "      <td>COVID19 (COVID19 (MODERNA))</td>\n",
       "    </tr>\n",
       "    <tr>\n",
       "      <th>4</th>\n",
       "      <td>4</td>\n",
       "      <td>916604</td>\n",
       "      <td>01/01/2021</td>\n",
       "      <td>TX</td>\n",
       "      <td>47.0</td>\n",
       "      <td>47.0</td>\n",
       "      <td>NaN</td>\n",
       "      <td>F</td>\n",
       "      <td>NaN</td>\n",
       "      <td>Injection site swelling, redness, warm to the ...</td>\n",
       "      <td>...</td>\n",
       "      <td>23.1</td>\n",
       "      <td>NaN</td>\n",
       "      <td>NaN</td>\n",
       "      <td>COVID19</td>\n",
       "      <td>MODERNA</td>\n",
       "      <td>NaN</td>\n",
       "      <td>1</td>\n",
       "      <td>IM</td>\n",
       "      <td>LA</td>\n",
       "      <td>COVID19 (COVID19 (MODERNA))</td>\n",
       "    </tr>\n",
       "  </tbody>\n",
       "</table>\n",
       "<p>5 rows × 53 columns</p>\n",
       "</div>"
      ],
      "text/plain": [
       "   Unnamed: 0  VAERS_ID    RECVDATE STATE  AGE_YRS  CAGE_YR  CAGE_MO SEX  \\\n",
       "0           0    916600  01/01/2021    TX     33.0     33.0      NaN   F   \n",
       "1           1    916601  01/01/2021    CA     73.0     73.0      NaN   F   \n",
       "2           2    916602  01/01/2021    WA     23.0     23.0      NaN   F   \n",
       "3           3    916603  01/01/2021    WA     58.0     58.0      NaN   F   \n",
       "4           4    916604  01/01/2021    TX     47.0     47.0      NaN   F   \n",
       "\n",
       "  RPT_DATE                                       SYMPTOM_TEXT  ...  \\\n",
       "0      NaN  Right side of epiglottis swelled up and hinder...  ...   \n",
       "1      NaN  Approximately 30 min post vaccination administ...  ...   \n",
       "2      NaN  About 15 minutes after receiving the vaccine, ...  ...   \n",
       "3      NaN  extreme fatigue, dizziness,. could not lift my...  ...   \n",
       "4      NaN  Injection site swelling, redness, warm to the ...  ...   \n",
       "\n",
       "  SYMPTOMVERSION4 SYMPTOM5 SYMPTOMVERSION5 VAX_TYPE         VAX_MANU  VAX_LOT  \\\n",
       "0             NaN      NaN             NaN  COVID19          MODERNA  037K20A   \n",
       "1             NaN      NaN             NaN  COVID19          MODERNA  025L20A   \n",
       "2            23.1      NaN             NaN  COVID19  PFIZER\\BIONTECH   EL1284   \n",
       "3             NaN      NaN             NaN  COVID19          MODERNA  unknown   \n",
       "4            23.1      NaN             NaN  COVID19          MODERNA      NaN   \n",
       "\n",
       "  VAX_DOSE_SERIES VAX_ROUTE VAX_SITE                             VAX_NAME  \n",
       "0               1        IM       LA          COVID19 (COVID19 (MODERNA))  \n",
       "1               1        IM       RA          COVID19 (COVID19 (MODERNA))  \n",
       "2               1        IM       LA  COVID19 (COVID19 (PFIZER-BIONTECH))  \n",
       "3             UNK       NaN      NaN          COVID19 (COVID19 (MODERNA))  \n",
       "4               1        IM       LA          COVID19 (COVID19 (MODERNA))  \n",
       "\n",
       "[5 rows x 53 columns]"
      ]
     },
     "execution_count": 2,
     "metadata": {},
     "output_type": "execute_result"
    }
   ],
   "source": [
    "# Import cleaned VAERS dataset\n",
    "vaers_df = pd.read_csv('VAERSDATA.csv', low_memory=False)\n",
    "vaers_df.head()"
   ]
  },
  {
   "cell_type": "code",
   "execution_count": 3,
   "metadata": {},
   "outputs": [
    {
     "data": {
      "text/plain": [
       "Unnamed: 0           int64\n",
       "VAERS_ID             int64\n",
       "RECVDATE            object\n",
       "STATE               object\n",
       "AGE_YRS            float64\n",
       "CAGE_YR            float64\n",
       "CAGE_MO            float64\n",
       "SEX                 object\n",
       "RPT_DATE            object\n",
       "SYMPTOM_TEXT        object\n",
       "DIED                object\n",
       "DATEDIED            object\n",
       "L_THREAT            object\n",
       "ER_VISIT            object\n",
       "HOSPITAL            object\n",
       "HOSPDAYS           float64\n",
       "X_STAY              object\n",
       "DISABLE             object\n",
       "RECOVD              object\n",
       "VAX_DATE            object\n",
       "ONSET_DATE          object\n",
       "NUMDAYS            float64\n",
       "LAB_DATA            object\n",
       "V_ADMINBY           object\n",
       "V_FUNDBY            object\n",
       "OTHER_MEDS          object\n",
       "CUR_ILL             object\n",
       "HISTORY             object\n",
       "PRIOR_VAX           object\n",
       "SPLTTYPE            object\n",
       "FORM_VERS            int64\n",
       "TODAYS_DATE         object\n",
       "BIRTH_DEFECT        object\n",
       "OFC_VISIT           object\n",
       "ER_ED_VISIT         object\n",
       "ALLERGIES           object\n",
       "SYMPTOM1            object\n",
       "SYMPTOMVERSION1    float64\n",
       "SYMPTOM2            object\n",
       "SYMPTOMVERSION2    float64\n",
       "SYMPTOM3            object\n",
       "SYMPTOMVERSION3    float64\n",
       "SYMPTOM4            object\n",
       "SYMPTOMVERSION4    float64\n",
       "SYMPTOM5            object\n",
       "SYMPTOMVERSION5    float64\n",
       "VAX_TYPE            object\n",
       "VAX_MANU            object\n",
       "VAX_LOT             object\n",
       "VAX_DOSE_SERIES     object\n",
       "VAX_ROUTE           object\n",
       "VAX_SITE            object\n",
       "VAX_NAME            object\n",
       "dtype: object"
      ]
     },
     "execution_count": 3,
     "metadata": {},
     "output_type": "execute_result"
    }
   ],
   "source": [
    "# Check vaers_df column types\n",
    "vaers_df.dtypes"
   ]
  },
  {
   "cell_type": "code",
   "execution_count": 4,
   "metadata": {},
   "outputs": [],
   "source": [
    "# change dates(objects)columns to datetime\n",
    "#vaers_df['RECVDATE'] = pd.to_datetime(vaers_df['RECVDATE'])\n",
    "#vaers_df['RPT_DATE'] = pd.to_datetime(vaers_df['RPT_DATE'])\n",
    "#vaers_df['DATEDIED'] = pd.to_datetime(vaers_df['DATEDIED'])\n",
    "#vaers_df['VAX_DATE'] = pd.to_datetime(vaers_df['VAX_DATE'])\n",
    "#vaers_df['ONSET_DATE'] = pd.to_datetime(vaers_df['ONSET_DATE'])\n",
    "#vaers_df['TODAYS_DATE'] = pd.to_datetime(vaers_df['TODAYS_DATE'])\n",
    "\n",
    "#vaers_df.dtypes"
   ]
  },
  {
   "cell_type": "code",
   "execution_count": 5,
   "metadata": {},
   "outputs": [
    {
     "data": {
      "text/plain": [
       "['RECVDATE',\n",
       " 'STATE',\n",
       " 'SEX',\n",
       " 'RPT_DATE',\n",
       " 'SYMPTOM_TEXT',\n",
       " 'DIED',\n",
       " 'DATEDIED',\n",
       " 'L_THREAT',\n",
       " 'ER_VISIT',\n",
       " 'HOSPITAL',\n",
       " 'X_STAY',\n",
       " 'DISABLE',\n",
       " 'RECOVD',\n",
       " 'VAX_DATE',\n",
       " 'ONSET_DATE',\n",
       " 'LAB_DATA',\n",
       " 'V_ADMINBY',\n",
       " 'V_FUNDBY',\n",
       " 'OTHER_MEDS',\n",
       " 'CUR_ILL',\n",
       " 'HISTORY',\n",
       " 'PRIOR_VAX',\n",
       " 'SPLTTYPE',\n",
       " 'TODAYS_DATE',\n",
       " 'BIRTH_DEFECT',\n",
       " 'OFC_VISIT',\n",
       " 'ER_ED_VISIT',\n",
       " 'ALLERGIES',\n",
       " 'SYMPTOM1',\n",
       " 'SYMPTOM2',\n",
       " 'SYMPTOM3',\n",
       " 'SYMPTOM4',\n",
       " 'SYMPTOM5',\n",
       " 'VAX_TYPE',\n",
       " 'VAX_MANU',\n",
       " 'VAX_LOT',\n",
       " 'VAX_DOSE_SERIES',\n",
       " 'VAX_ROUTE',\n",
       " 'VAX_SITE',\n",
       " 'VAX_NAME']"
      ]
     },
     "execution_count": 5,
     "metadata": {},
     "output_type": "execute_result"
    }
   ],
   "source": [
    "# Categorical variable list\n",
    "vaers_cat = vaers_df.dtypes[vaers_df.dtypes == 'object'].index.tolist()\n",
    "vaers_cat"
   ]
  },
  {
   "cell_type": "code",
   "execution_count": 6,
   "metadata": {},
   "outputs": [
    {
     "data": {
      "text/plain": [
       "RECVDATE              70\n",
       "STATE                 60\n",
       "SEX                    3\n",
       "RPT_DATE              20\n",
       "SYMPTOM_TEXT       27195\n",
       "DIED                   1\n",
       "DATEDIED              95\n",
       "L_THREAT               1\n",
       "ER_VISIT               1\n",
       "HOSPITAL               1\n",
       "X_STAY                 1\n",
       "DISABLE                1\n",
       "RECOVD                 3\n",
       "VAX_DATE             278\n",
       "ONSET_DATE           206\n",
       "LAB_DATA            7726\n",
       "V_ADMINBY              9\n",
       "V_FUNDBY               4\n",
       "OTHER_MEDS         11816\n",
       "CUR_ILL             3518\n",
       "HISTORY             9515\n",
       "PRIOR_VAX           1033\n",
       "SPLTTYPE            5895\n",
       "TODAYS_DATE          104\n",
       "BIRTH_DEFECT           1\n",
       "OFC_VISIT              1\n",
       "ER_ED_VISIT            1\n",
       "ALLERGIES           6245\n",
       "SYMPTOM1            2301\n",
       "SYMPTOM2            2220\n",
       "SYMPTOM3            2017\n",
       "SYMPTOM4            1833\n",
       "SYMPTOM5            1617\n",
       "VAX_TYPE              40\n",
       "VAX_MANU              14\n",
       "VAX_LOT             1887\n",
       "VAX_DOSE_SERIES        8\n",
       "VAX_ROUTE              7\n",
       "VAX_SITE               9\n",
       "VAX_NAME              63\n",
       "dtype: int64"
      ]
     },
     "execution_count": 6,
     "metadata": {},
     "output_type": "execute_result"
    }
   ],
   "source": [
    "# Unique values in each column\n",
    "vaers_df[vaers_cat].nunique()"
   ]
  },
  {
   "cell_type": "code",
   "execution_count": 7,
   "metadata": {},
   "outputs": [
    {
     "data": {
      "text/plain": [
       "Y    2575\n",
       "Name: DIED, dtype: int64"
      ]
     },
     "execution_count": 7,
     "metadata": {},
     "output_type": "execute_result"
    }
   ],
   "source": [
    "# DIED value counts\n",
    "counts = vaers_df.DIED.value_counts()\n",
    "counts"
   ]
  },
  {
   "cell_type": "code",
   "execution_count": 8,
   "metadata": {},
   "outputs": [
    {
     "data": {
      "text/plain": [
       "None                                                                                                                                                                                                                                                                                                                                                                                                                                                                                                                                                                                                                2684\n",
       "none                                                                                                                                                                                                                                                                                                                                                                                                                                                                                                                                                                                                                1557\n",
       "no                                                                                                                                                                                                                                                                                                                                                                                                                                                                                                                                                                                                                   222\n",
       "NONE                                                                                                                                                                                                                                                                                                                                                                                                                                                                                                                                                                                                                 192\n",
       "None.                                                                                                                                                                                                                                                                                                                                                                                                                                                                                                                                                                                                                171\n",
       "                                                                                                                                                                                                                                                                                                                                                                                                                                                                                                                                                                                                                    ... \n",
       "01/07/2021 Serological Test Positive for antibodies IgG                                                                                                                                                                                                                                                                                                                                                                                                                                                                                                                                                                1\n",
       "Test Date: 20201227; Test Name: Covid 19 virus; Result Unstructured Data: Test Result:positive                                                                                                                                                                                                                                                                                                                                                                                                                                                                                                                         1\n",
       "Test Date: 20210116; Test Name: fevers; Result Unstructured Data: Test Result:101.5; Test Date: 20210120; Test Name: fevers; Result Unstructured Data: Test Result:102.7; Test Date: 20210116; Test Name: HR; Result Unstructured Data: Test Result:80; Test Date: 20210116; Test Name: Respiration; Result Unstructured Data: Test Result:40                                                                                                                                                                                                                                                                          1\n",
       "Test Date: 20210201; Test Name: Nasal Swab; Test Result: Negative                                                                                                                                                                                                                                                                                                                                                                                                                                                                                                                                                      1\n",
       "Test Name: Covid-19; Result Unstructured Data: Test Result:Negative; Comments: He tested negative [for Covid-19] the first two times and then was positive when they were going to send him to rehab; Test Name: Covid-19; Result Unstructured Data: Test Result:Negative; Comments: He tested negative [for Covid-19] the first two times and then was positive when they were going to send him to rehab; Test Name: Covid-19; Result Unstructured Data: Test Result:Positive; Comments: He tested negative [for Covid-19] the first two times and then was positive when they were going to send him to rehab       1\n",
       "Name: LAB_DATA, Length: 7726, dtype: int64"
      ]
     },
     "execution_count": 8,
     "metadata": {},
     "output_type": "execute_result"
    }
   ],
   "source": [
    "# LAB DATA value counts\n",
    "counts = vaers_df.LAB_DATA.value_counts()\n",
    "counts"
   ]
  },
  {
   "cell_type": "code",
   "execution_count": 9,
   "metadata": {},
   "outputs": [
    {
     "data": {
      "text/plain": [
       "None                                                                                                                                                                                                    1866\n",
       "none                                                                                                                                                                                                     875\n",
       "unknown                                                                                                                                                                                                  360\n",
       "Unknown                                                                                                                                                                                                  359\n",
       "No                                                                                                                                                                                                       131\n",
       "                                                                                                                                                                                                        ... \n",
       "Verapamil 120 qam,240mg qpm Dexilant 60mg  Estradiol 2mg Simvastatin 40mg Trazodone50mg Gabapentin 300mg qhs Benicar 40 mg  Diclofenac 75 mg am  m.w.f 75mg pm Metoprolol 50mg qhs Vit A ,D, C  Zinc       1\n",
       "EPIPEN                                                                                                                                                                                                     1\n",
       "ATORVASTATIN; LISINOPRIL; FISH OIL                                                                                                                                                                         1\n",
       "Losartan-HCTZ, Metformin, Vit D3                                                                                                                                                                           1\n",
       "LIPITOR; WELLBUTRIN; GABAPENTIN; IBUPROFEN; ESTRADIOL; METFORMIN                                                                                                                                           1\n",
       "Name: OTHER_MEDS, Length: 11816, dtype: int64"
      ]
     },
     "execution_count": 9,
     "metadata": {},
     "output_type": "execute_result"
    }
   ],
   "source": [
    "# OTHER MEDS value counts\n",
    "counts = vaers_df.OTHER_MEDS.value_counts()\n",
    "counts"
   ]
  },
  {
   "cell_type": "code",
   "execution_count": 10,
   "metadata": {},
   "outputs": [
    {
     "data": {
      "text/plain": [
       "None                                                                                                                                                                                              6322\n",
       "none                                                                                                                                                                                              3455\n",
       "No                                                                                                                                                                                                 654\n",
       "no                                                                                                                                                                                                 522\n",
       "NONE                                                                                                                                                                                               365\n",
       "                                                                                                                                                                                                  ... \n",
       "No known illnesses at the time of vaccination                                                                                                                                                        1\n",
       "Allergy to intravenous contrast media (highly allergic, has to be pre-medicated 2 to 3 days before use); Drug allergy (Sulfa drugs); Hypertension (approximately 30 years); Penicillin allergy       1\n",
       "constipation                                                                                                                                                                                         1\n",
       "Diabetic (he is a diabetic, but he is not on medication for it.)                                                                                                                                     1\n",
       "Esophageal Cancer with Radiation and Chemotherapy. Patient chose to stop treatment                                                                                                                   1\n",
       "Name: CUR_ILL, Length: 3518, dtype: int64"
      ]
     },
     "execution_count": 10,
     "metadata": {},
     "output_type": "execute_result"
    }
   ],
   "source": [
    "# CUR_ILL value counts\n",
    "counts = vaers_df.CUR_ILL.value_counts()\n",
    "counts"
   ]
  },
  {
   "cell_type": "code",
   "execution_count": 11,
   "metadata": {},
   "outputs": [
    {
     "data": {
      "text/plain": [
       "None                                                                                                                                                                                                                                                                                              3153\n",
       "none                                                                                                                                                                                                                                                                                              1525\n",
       "Comments: List of non-encoded Patient Relevant History: Patient Other Relevant History 1: None                                                                                                                                                                                                     676\n",
       "Medical History/Concurrent Conditions: No adverse event (No reported medical history)                                                                                                                                                                                                              375\n",
       "No                                                                                                                                                                                                                                                                                                 339\n",
       "                                                                                                                                                                                                                                                                                                  ... \n",
       "Hypertension I10.0, Hyperlipidemia E78.5, Paroxysmal atrial fibrillation I48.0, Prediabetes R73.03, Gout M1A.00X0, Mild cognitive impairment 31.84                                                                                                                                                   1\n",
       "renal cell carcinoma s/p cryotherapy, prostate cancer, hypertension, carotid stenosis                                                                                                                                                                                                                1\n",
       "Neck swelling  Tingling in extremities Tremor  Fatigue Osteoporosis  Degenerative disc disease Kidney stones  Allergic rhinitis Chronic pain  Adult ADHD Current smoker  Vitamin deficiency Thyroid nodule  Depression Teeth problem  Eczema Osteoporosis  Corneal abrasion Bipolar 1 disorder       1\n",
       "Major depression dx 10 yrs, Attention deficit disorder dx 5 yrs                                                                                                                                                                                                                                      1\n",
       "UNNOWN                                                                                                                                                                                                                                                                                               1\n",
       "Name: HISTORY, Length: 9515, dtype: int64"
      ]
     },
     "execution_count": 11,
     "metadata": {},
     "output_type": "execute_result"
    }
   ],
   "source": [
    "# HISTORY value counts\n",
    "counts = vaers_df.HISTORY.value_counts()\n",
    "counts"
   ]
  },
  {
   "cell_type": "code",
   "execution_count": 12,
   "metadata": {},
   "outputs": [
    {
     "data": {
      "text/plain": [
       "Flu                                                                                                                          18\n",
       "unknown                                                                                                                      13\n",
       "Flu Vaccine                                                                                                                  10\n",
       "COVID19 (Moderna) on 1/26/2021                                                                                                9\n",
       "Dizziness, mild chest pain, mid spine pain, back of neck pain, headaches, body aches,                                         8\n",
       "                                                                                                                             ..\n",
       "trumenba, 2017, age 23 - severe chills, fatigue, sweats following vaccine in left arm; soreness. resolved after 1-2 days.     1\n",
       "vagal response similar to today                                                                                               1\n",
       "Moderna Covid-19 vaccine                                                                                                      1\n",
       "Tetanus, raised red area, with edema from shoulder to hand. Received in 1993.                                                 1\n",
       "Reactions to various vaccines: flu, shingles, at various times, fever, soreness, mild flu symptoms.                           1\n",
       "Name: PRIOR_VAX, Length: 1033, dtype: int64"
      ]
     },
     "execution_count": 12,
     "metadata": {},
     "output_type": "execute_result"
    }
   ],
   "source": [
    "# PRIOR_VAX value counts\n",
    "counts = vaers_df.PRIOR_VAX.value_counts()\n",
    "counts"
   ]
  },
  {
   "cell_type": "code",
   "execution_count": 13,
   "metadata": {},
   "outputs": [
    {
     "data": {
      "text/plain": [
       "USMODERNATX, INC.MOD20210    1291\n",
       "vsafe                         514\n",
       "VSAFE                          73\n",
       "USMODERNATX, INC.MOD20200      49\n",
       "USGLAXOSMITHKLINEUS2020GS      29\n",
       "                             ... \n",
       "USPFIZER INC2020517208          1\n",
       "USPFIZER INC2021150658          1\n",
       "USPFIZER INC2021018164          1\n",
       "USPFIZER INC2021111509          1\n",
       "USPFIZER INC2021114966          1\n",
       "Name: SPLTTYPE, Length: 5895, dtype: int64"
      ]
     },
     "execution_count": 13,
     "metadata": {},
     "output_type": "execute_result"
    }
   ],
   "source": [
    "#SPLTTYPE value counts\n",
    "counts = vaers_df.SPLTTYPE.value_counts()\n",
    "counts"
   ]
  },
  {
   "cell_type": "code",
   "execution_count": 14,
   "metadata": {},
   "outputs": [
    {
     "data": {
      "text/plain": [
       "None                                                                                 3369\n",
       "none                                                                                 1619\n",
       "NKA                                                                                   804\n",
       "NKDA                                                                                  769\n",
       "No                                                                                    401\n",
       "                                                                                     ... \n",
       "Codeine intolerance, demerol lupron chichen , baker's yeast, blue cheese, peanuts       1\n",
       "Sulfa-hypotension Percocet-itching                                                      1\n",
       "PCN, Omnicef,  Bees = anaphylaxis Vicodin=vomit Neosporin=Hives                         1\n",
       "PCN, Sulfas, erythromycin, ionic contrast dye                                           1\n",
       "Indocyn                                                                                 1\n",
       "Name: ALLERGIES, Length: 6245, dtype: int64"
      ]
     },
     "execution_count": 14,
     "metadata": {},
     "output_type": "execute_result"
    }
   ],
   "source": [
    "#ALLERGIES value counts\n",
    "counts = vaers_df.ALLERGIES.value_counts()\n",
    "counts"
   ]
  },
  {
   "cell_type": "code",
   "execution_count": 15,
   "metadata": {},
   "outputs": [
    {
     "data": {
      "text/plain": [
       "Chills                         2358\n",
       "Arthralgia                     1516\n",
       "Headache                       1197\n",
       "Injection site erythema        1176\n",
       "Dizziness                      1175\n",
       "                               ... \n",
       "Cranial nerve paralysis           1\n",
       "Respiratory tract infection       1\n",
       "Cardio-respiratory distress       1\n",
       "Adjustment disorder               1\n",
       "Eye inflammation                  1\n",
       "Name: SYMPTOM1, Length: 2301, dtype: int64"
      ]
     },
     "execution_count": 15,
     "metadata": {},
     "output_type": "execute_result"
    }
   ],
   "source": [
    "#SYMPTOM1 value counts\n",
    "counts = vaers_df.SYMPTOM1.value_counts()\n",
    "counts"
   ]
  },
  {
   "cell_type": "code",
   "execution_count": 16,
   "metadata": {},
   "outputs": [
    {
     "data": {
      "text/plain": [
       "Headache                         1683\n",
       "Fatigue                          1301\n",
       "Chills                           1118\n",
       "Dizziness                         835\n",
       "Pyrexia                           825\n",
       "                                 ... \n",
       "Allergic respiratory symptom        1\n",
       "Cutaneous symptom                   1\n",
       "Postictal state                     1\n",
       "Blood immunoglobulin E normal       1\n",
       "Thoracic vertebral fracture         1\n",
       "Name: SYMPTOM2, Length: 2220, dtype: int64"
      ]
     },
     "execution_count": 16,
     "metadata": {},
     "output_type": "execute_result"
    }
   ],
   "source": [
    "#SYMPTOM2 value counts\n",
    "counts = vaers_df.SYMPTOM2.value_counts()\n",
    "counts"
   ]
  },
  {
   "cell_type": "code",
   "execution_count": 17,
   "metadata": {},
   "outputs": [
    {
     "data": {
      "text/plain": [
       "039K20A    1375\n",
       "011J20A    1260\n",
       "EK9231     1132\n",
       "EK5730     1072\n",
       "EH9899     1047\n",
       "           ... \n",
       "elo142        1\n",
       "Es1685        1\n",
       "E19261        1\n",
       "EX5730        1\n",
       "EL9207        1\n",
       "Name: VAX_LOT, Length: 1887, dtype: int64"
      ]
     },
     "execution_count": 17,
     "metadata": {},
     "output_type": "execute_result"
    }
   ],
   "source": [
    "#VAX_LOT value counts\n",
    "counts = vaers_df.VAX_LOT.value_counts()\n",
    "counts"
   ]
  },
  {
   "cell_type": "code",
   "execution_count": 18,
   "metadata": {},
   "outputs": [],
   "source": [
    "# Drop LAB_DATA, OTHER MEDS, CUR_ILL, HISTORY, PRIOR_VAX, ALLERGIES - unless we use NLP, those columns can't be hot encoded\n",
    "vaers_drop = vaers_df.drop(columns = ['LAB_DATA', 'OTHER_MEDS', 'CUR_ILL', 'HISTORY', 'PRIOR_VAX', 'ALLERGIES'])"
   ]
  },
  {
   "cell_type": "code",
   "execution_count": 19,
   "metadata": {},
   "outputs": [],
   "source": [
    "# Drop Unamed: ) because it is the same as the index\n",
    "vaers_clean = vaers_drop.drop(columns = 'Unnamed: 0')"
   ]
  },
  {
   "cell_type": "code",
   "execution_count": 20,
   "metadata": {},
   "outputs": [
    {
     "data": {
      "text/plain": [
       "VAERS_ID           27955\n",
       "RECVDATE              70\n",
       "STATE                 60\n",
       "AGE_YRS              118\n",
       "CAGE_YR              105\n",
       "CAGE_MO                7\n",
       "SEX                    3\n",
       "RPT_DATE              20\n",
       "SYMPTOM_TEXT       27195\n",
       "DIED                   1\n",
       "DATEDIED              95\n",
       "L_THREAT               1\n",
       "ER_VISIT               1\n",
       "HOSPITAL               1\n",
       "HOSPDAYS              33\n",
       "X_STAY                 1\n",
       "DISABLE                1\n",
       "RECOVD                 3\n",
       "VAX_DATE             278\n",
       "ONSET_DATE           206\n",
       "NUMDAYS              115\n",
       "V_ADMINBY              9\n",
       "V_FUNDBY               4\n",
       "SPLTTYPE            5895\n",
       "FORM_VERS              2\n",
       "TODAYS_DATE          104\n",
       "BIRTH_DEFECT           1\n",
       "OFC_VISIT              1\n",
       "ER_ED_VISIT            1\n",
       "SYMPTOM1            2301\n",
       "SYMPTOMVERSION1        2\n",
       "SYMPTOM2            2220\n",
       "SYMPTOMVERSION2        2\n",
       "SYMPTOM3            2017\n",
       "SYMPTOMVERSION3        2\n",
       "SYMPTOM4            1833\n",
       "SYMPTOMVERSION4        2\n",
       "SYMPTOM5            1617\n",
       "SYMPTOMVERSION5        2\n",
       "VAX_TYPE              40\n",
       "VAX_MANU              14\n",
       "VAX_LOT             1887\n",
       "VAX_DOSE_SERIES        8\n",
       "VAX_ROUTE              7\n",
       "VAX_SITE               9\n",
       "VAX_NAME              63\n",
       "dtype: int64"
      ]
     },
     "execution_count": 20,
     "metadata": {},
     "output_type": "execute_result"
    }
   ],
   "source": [
    "# re-count Unique values in each column in new cleaned df\n",
    "vaers_clean.nunique()"
   ]
  },
  {
   "cell_type": "code",
   "execution_count": 21,
   "metadata": {},
   "outputs": [
    {
     "data": {
      "text/plain": [
       "VAERS_ID             int64\n",
       "RECVDATE            object\n",
       "STATE               object\n",
       "AGE_YRS            float64\n",
       "CAGE_YR            float64\n",
       "CAGE_MO            float64\n",
       "SEX                 object\n",
       "RPT_DATE            object\n",
       "SYMPTOM_TEXT        object\n",
       "DIED                object\n",
       "DATEDIED            object\n",
       "L_THREAT            object\n",
       "ER_VISIT            object\n",
       "HOSPITAL            object\n",
       "HOSPDAYS           float64\n",
       "X_STAY              object\n",
       "DISABLE             object\n",
       "RECOVD              object\n",
       "VAX_DATE            object\n",
       "ONSET_DATE          object\n",
       "NUMDAYS            float64\n",
       "V_ADMINBY           object\n",
       "V_FUNDBY            object\n",
       "SPLTTYPE            object\n",
       "FORM_VERS            int64\n",
       "TODAYS_DATE         object\n",
       "BIRTH_DEFECT        object\n",
       "OFC_VISIT           object\n",
       "ER_ED_VISIT         object\n",
       "SYMPTOM1            object\n",
       "SYMPTOMVERSION1    float64\n",
       "SYMPTOM2            object\n",
       "SYMPTOMVERSION2    float64\n",
       "SYMPTOM3            object\n",
       "SYMPTOMVERSION3    float64\n",
       "SYMPTOM4            object\n",
       "SYMPTOMVERSION4    float64\n",
       "SYMPTOM5            object\n",
       "SYMPTOMVERSION5    float64\n",
       "VAX_TYPE            object\n",
       "VAX_MANU            object\n",
       "VAX_LOT             object\n",
       "VAX_DOSE_SERIES     object\n",
       "VAX_ROUTE           object\n",
       "VAX_SITE            object\n",
       "VAX_NAME            object\n",
       "dtype: object"
      ]
     },
     "execution_count": 21,
     "metadata": {},
     "output_type": "execute_result"
    }
   ],
   "source": [
    "vaers_clean.dtypes"
   ]
  },
  {
   "cell_type": "code",
   "execution_count": 22,
   "metadata": {},
   "outputs": [
    {
     "data": {
      "text/html": [
       "<div>\n",
       "<style scoped>\n",
       "    .dataframe tbody tr th:only-of-type {\n",
       "        vertical-align: middle;\n",
       "    }\n",
       "\n",
       "    .dataframe tbody tr th {\n",
       "        vertical-align: top;\n",
       "    }\n",
       "\n",
       "    .dataframe thead th {\n",
       "        text-align: right;\n",
       "    }\n",
       "</style>\n",
       "<table border=\"1\" class=\"dataframe\">\n",
       "  <thead>\n",
       "    <tr style=\"text-align: right;\">\n",
       "      <th></th>\n",
       "      <th>VAERS_ID</th>\n",
       "      <th>RECVDATE</th>\n",
       "      <th>STATE</th>\n",
       "      <th>AGE_YRS</th>\n",
       "      <th>CAGE_YR</th>\n",
       "      <th>CAGE_MO</th>\n",
       "      <th>SEX</th>\n",
       "      <th>RPT_DATE</th>\n",
       "      <th>SYMPTOM_TEXT</th>\n",
       "      <th>DIED</th>\n",
       "      <th>...</th>\n",
       "      <th>SYMPTOMVERSION4</th>\n",
       "      <th>SYMPTOM5</th>\n",
       "      <th>SYMPTOMVERSION5</th>\n",
       "      <th>VAX_TYPE</th>\n",
       "      <th>VAX_MANU</th>\n",
       "      <th>VAX_LOT</th>\n",
       "      <th>VAX_DOSE_SERIES</th>\n",
       "      <th>VAX_ROUTE</th>\n",
       "      <th>VAX_SITE</th>\n",
       "      <th>VAX_NAME</th>\n",
       "    </tr>\n",
       "  </thead>\n",
       "  <tbody>\n",
       "    <tr>\n",
       "      <th>0</th>\n",
       "      <td>916600</td>\n",
       "      <td>01/01/2021</td>\n",
       "      <td>TX</td>\n",
       "      <td>33.0</td>\n",
       "      <td>33.0</td>\n",
       "      <td>NaN</td>\n",
       "      <td>F</td>\n",
       "      <td>NaN</td>\n",
       "      <td>Right side of epiglottis swelled up and hinder...</td>\n",
       "      <td>NaN</td>\n",
       "      <td>...</td>\n",
       "      <td>NaN</td>\n",
       "      <td>NaN</td>\n",
       "      <td>NaN</td>\n",
       "      <td>COVID19</td>\n",
       "      <td>MODERNA</td>\n",
       "      <td>037K20A</td>\n",
       "      <td>1</td>\n",
       "      <td>IM</td>\n",
       "      <td>LA</td>\n",
       "      <td>COVID19 (COVID19 (MODERNA))</td>\n",
       "    </tr>\n",
       "    <tr>\n",
       "      <th>1</th>\n",
       "      <td>916601</td>\n",
       "      <td>01/01/2021</td>\n",
       "      <td>CA</td>\n",
       "      <td>73.0</td>\n",
       "      <td>73.0</td>\n",
       "      <td>NaN</td>\n",
       "      <td>F</td>\n",
       "      <td>NaN</td>\n",
       "      <td>Approximately 30 min post vaccination administ...</td>\n",
       "      <td>NaN</td>\n",
       "      <td>...</td>\n",
       "      <td>NaN</td>\n",
       "      <td>NaN</td>\n",
       "      <td>NaN</td>\n",
       "      <td>COVID19</td>\n",
       "      <td>MODERNA</td>\n",
       "      <td>025L20A</td>\n",
       "      <td>1</td>\n",
       "      <td>IM</td>\n",
       "      <td>RA</td>\n",
       "      <td>COVID19 (COVID19 (MODERNA))</td>\n",
       "    </tr>\n",
       "    <tr>\n",
       "      <th>2</th>\n",
       "      <td>916602</td>\n",
       "      <td>01/01/2021</td>\n",
       "      <td>WA</td>\n",
       "      <td>23.0</td>\n",
       "      <td>23.0</td>\n",
       "      <td>NaN</td>\n",
       "      <td>F</td>\n",
       "      <td>NaN</td>\n",
       "      <td>About 15 minutes after receiving the vaccine, ...</td>\n",
       "      <td>NaN</td>\n",
       "      <td>...</td>\n",
       "      <td>23.1</td>\n",
       "      <td>NaN</td>\n",
       "      <td>NaN</td>\n",
       "      <td>COVID19</td>\n",
       "      <td>PFIZER\\BIONTECH</td>\n",
       "      <td>EL1284</td>\n",
       "      <td>1</td>\n",
       "      <td>IM</td>\n",
       "      <td>LA</td>\n",
       "      <td>COVID19 (COVID19 (PFIZER-BIONTECH))</td>\n",
       "    </tr>\n",
       "    <tr>\n",
       "      <th>3</th>\n",
       "      <td>916603</td>\n",
       "      <td>01/01/2021</td>\n",
       "      <td>WA</td>\n",
       "      <td>58.0</td>\n",
       "      <td>58.0</td>\n",
       "      <td>NaN</td>\n",
       "      <td>F</td>\n",
       "      <td>NaN</td>\n",
       "      <td>extreme fatigue, dizziness,. could not lift my...</td>\n",
       "      <td>NaN</td>\n",
       "      <td>...</td>\n",
       "      <td>NaN</td>\n",
       "      <td>NaN</td>\n",
       "      <td>NaN</td>\n",
       "      <td>COVID19</td>\n",
       "      <td>MODERNA</td>\n",
       "      <td>unknown</td>\n",
       "      <td>UNK</td>\n",
       "      <td>NaN</td>\n",
       "      <td>NaN</td>\n",
       "      <td>COVID19 (COVID19 (MODERNA))</td>\n",
       "    </tr>\n",
       "    <tr>\n",
       "      <th>4</th>\n",
       "      <td>916604</td>\n",
       "      <td>01/01/2021</td>\n",
       "      <td>TX</td>\n",
       "      <td>47.0</td>\n",
       "      <td>47.0</td>\n",
       "      <td>NaN</td>\n",
       "      <td>F</td>\n",
       "      <td>NaN</td>\n",
       "      <td>Injection site swelling, redness, warm to the ...</td>\n",
       "      <td>NaN</td>\n",
       "      <td>...</td>\n",
       "      <td>23.1</td>\n",
       "      <td>NaN</td>\n",
       "      <td>NaN</td>\n",
       "      <td>COVID19</td>\n",
       "      <td>MODERNA</td>\n",
       "      <td>NaN</td>\n",
       "      <td>1</td>\n",
       "      <td>IM</td>\n",
       "      <td>LA</td>\n",
       "      <td>COVID19 (COVID19 (MODERNA))</td>\n",
       "    </tr>\n",
       "    <tr>\n",
       "      <th>...</th>\n",
       "      <td>...</td>\n",
       "      <td>...</td>\n",
       "      <td>...</td>\n",
       "      <td>...</td>\n",
       "      <td>...</td>\n",
       "      <td>...</td>\n",
       "      <td>...</td>\n",
       "      <td>...</td>\n",
       "      <td>...</td>\n",
       "      <td>...</td>\n",
       "      <td>...</td>\n",
       "      <td>...</td>\n",
       "      <td>...</td>\n",
       "      <td>...</td>\n",
       "      <td>...</td>\n",
       "      <td>...</td>\n",
       "      <td>...</td>\n",
       "      <td>...</td>\n",
       "      <td>...</td>\n",
       "      <td>...</td>\n",
       "      <td>...</td>\n",
       "    </tr>\n",
       "    <tr>\n",
       "      <th>40256</th>\n",
       "      <td>1092595</td>\n",
       "      <td>03/11/2021</td>\n",
       "      <td>TX</td>\n",
       "      <td>70.0</td>\n",
       "      <td>70.0</td>\n",
       "      <td>NaN</td>\n",
       "      <td>F</td>\n",
       "      <td>NaN</td>\n",
       "      <td>A high risk employee received 1st vaccine dose...</td>\n",
       "      <td>Y</td>\n",
       "      <td>...</td>\n",
       "      <td>NaN</td>\n",
       "      <td>NaN</td>\n",
       "      <td>NaN</td>\n",
       "      <td>COVID19</td>\n",
       "      <td>MODERNA</td>\n",
       "      <td>025J20A</td>\n",
       "      <td>1</td>\n",
       "      <td>IM</td>\n",
       "      <td>RA</td>\n",
       "      <td>COVID19 (COVID19 (MODERNA))</td>\n",
       "    </tr>\n",
       "    <tr>\n",
       "      <th>40257</th>\n",
       "      <td>1092651</td>\n",
       "      <td>03/11/2021</td>\n",
       "      <td>CA</td>\n",
       "      <td>77.0</td>\n",
       "      <td>77.0</td>\n",
       "      <td>NaN</td>\n",
       "      <td>M</td>\n",
       "      <td>NaN</td>\n",
       "      <td>DEATH</td>\n",
       "      <td>Y</td>\n",
       "      <td>...</td>\n",
       "      <td>NaN</td>\n",
       "      <td>NaN</td>\n",
       "      <td>NaN</td>\n",
       "      <td>COVID19</td>\n",
       "      <td>MODERNA</td>\n",
       "      <td>0124214</td>\n",
       "      <td>1</td>\n",
       "      <td>IM</td>\n",
       "      <td>LA</td>\n",
       "      <td>COVID19 (COVID19 (MODERNA))</td>\n",
       "    </tr>\n",
       "    <tr>\n",
       "      <th>40258</th>\n",
       "      <td>1092653</td>\n",
       "      <td>03/11/2021</td>\n",
       "      <td>CA</td>\n",
       "      <td>88.0</td>\n",
       "      <td>88.0</td>\n",
       "      <td>NaN</td>\n",
       "      <td>F</td>\n",
       "      <td>NaN</td>\n",
       "      <td>Patient received the vaccine on the evening of...</td>\n",
       "      <td>Y</td>\n",
       "      <td>...</td>\n",
       "      <td>NaN</td>\n",
       "      <td>NaN</td>\n",
       "      <td>NaN</td>\n",
       "      <td>COVID19</td>\n",
       "      <td>MODERNA</td>\n",
       "      <td>unknown</td>\n",
       "      <td>2</td>\n",
       "      <td>SYR</td>\n",
       "      <td>AR</td>\n",
       "      <td>COVID19 (COVID19 (MODERNA))</td>\n",
       "    </tr>\n",
       "    <tr>\n",
       "      <th>40259</th>\n",
       "      <td>1092737</td>\n",
       "      <td>03/11/2021</td>\n",
       "      <td>ME</td>\n",
       "      <td>69.0</td>\n",
       "      <td>69.0</td>\n",
       "      <td>NaN</td>\n",
       "      <td>M</td>\n",
       "      <td>NaN</td>\n",
       "      <td>Sudden death. Alone at home, found on floor 4 ...</td>\n",
       "      <td>Y</td>\n",
       "      <td>...</td>\n",
       "      <td>NaN</td>\n",
       "      <td>NaN</td>\n",
       "      <td>NaN</td>\n",
       "      <td>COVID19</td>\n",
       "      <td>MODERNA</td>\n",
       "      <td>NaN</td>\n",
       "      <td>1</td>\n",
       "      <td>UN</td>\n",
       "      <td>AR</td>\n",
       "      <td>COVID19 (COVID19 (MODERNA))</td>\n",
       "    </tr>\n",
       "    <tr>\n",
       "      <th>40260</th>\n",
       "      <td>1092883</td>\n",
       "      <td>03/11/2021</td>\n",
       "      <td>ME</td>\n",
       "      <td>72.0</td>\n",
       "      <td>72.0</td>\n",
       "      <td>NaN</td>\n",
       "      <td>M</td>\n",
       "      <td>NaN</td>\n",
       "      <td>Death. Patient lived alone, was found dead at ...</td>\n",
       "      <td>Y</td>\n",
       "      <td>...</td>\n",
       "      <td>NaN</td>\n",
       "      <td>NaN</td>\n",
       "      <td>NaN</td>\n",
       "      <td>COVID19</td>\n",
       "      <td>PFIZER\\BIONTECH</td>\n",
       "      <td>EN6201</td>\n",
       "      <td>2</td>\n",
       "      <td>IM</td>\n",
       "      <td>AR</td>\n",
       "      <td>COVID19 (COVID19 (PFIZER-BIONTECH))</td>\n",
       "    </tr>\n",
       "  </tbody>\n",
       "</table>\n",
       "<p>40261 rows × 46 columns</p>\n",
       "</div>"
      ],
      "text/plain": [
       "       VAERS_ID    RECVDATE STATE  AGE_YRS  CAGE_YR  CAGE_MO SEX RPT_DATE  \\\n",
       "0        916600  01/01/2021    TX     33.0     33.0      NaN   F      NaN   \n",
       "1        916601  01/01/2021    CA     73.0     73.0      NaN   F      NaN   \n",
       "2        916602  01/01/2021    WA     23.0     23.0      NaN   F      NaN   \n",
       "3        916603  01/01/2021    WA     58.0     58.0      NaN   F      NaN   \n",
       "4        916604  01/01/2021    TX     47.0     47.0      NaN   F      NaN   \n",
       "...         ...         ...   ...      ...      ...      ...  ..      ...   \n",
       "40256   1092595  03/11/2021    TX     70.0     70.0      NaN   F      NaN   \n",
       "40257   1092651  03/11/2021    CA     77.0     77.0      NaN   M      NaN   \n",
       "40258   1092653  03/11/2021    CA     88.0     88.0      NaN   F      NaN   \n",
       "40259   1092737  03/11/2021    ME     69.0     69.0      NaN   M      NaN   \n",
       "40260   1092883  03/11/2021    ME     72.0     72.0      NaN   M      NaN   \n",
       "\n",
       "                                            SYMPTOM_TEXT DIED  ...  \\\n",
       "0      Right side of epiglottis swelled up and hinder...  NaN  ...   \n",
       "1      Approximately 30 min post vaccination administ...  NaN  ...   \n",
       "2      About 15 minutes after receiving the vaccine, ...  NaN  ...   \n",
       "3      extreme fatigue, dizziness,. could not lift my...  NaN  ...   \n",
       "4      Injection site swelling, redness, warm to the ...  NaN  ...   \n",
       "...                                                  ...  ...  ...   \n",
       "40256  A high risk employee received 1st vaccine dose...    Y  ...   \n",
       "40257                                              DEATH    Y  ...   \n",
       "40258  Patient received the vaccine on the evening of...    Y  ...   \n",
       "40259  Sudden death. Alone at home, found on floor 4 ...    Y  ...   \n",
       "40260  Death. Patient lived alone, was found dead at ...    Y  ...   \n",
       "\n",
       "      SYMPTOMVERSION4 SYMPTOM5 SYMPTOMVERSION5 VAX_TYPE         VAX_MANU  \\\n",
       "0                 NaN      NaN             NaN  COVID19          MODERNA   \n",
       "1                 NaN      NaN             NaN  COVID19          MODERNA   \n",
       "2                23.1      NaN             NaN  COVID19  PFIZER\\BIONTECH   \n",
       "3                 NaN      NaN             NaN  COVID19          MODERNA   \n",
       "4                23.1      NaN             NaN  COVID19          MODERNA   \n",
       "...               ...      ...             ...      ...              ...   \n",
       "40256             NaN      NaN             NaN  COVID19          MODERNA   \n",
       "40257             NaN      NaN             NaN  COVID19          MODERNA   \n",
       "40258             NaN      NaN             NaN  COVID19          MODERNA   \n",
       "40259             NaN      NaN             NaN  COVID19          MODERNA   \n",
       "40260             NaN      NaN             NaN  COVID19  PFIZER\\BIONTECH   \n",
       "\n",
       "       VAX_LOT VAX_DOSE_SERIES VAX_ROUTE VAX_SITE  \\\n",
       "0      037K20A               1        IM       LA   \n",
       "1      025L20A               1        IM       RA   \n",
       "2       EL1284               1        IM       LA   \n",
       "3      unknown             UNK       NaN      NaN   \n",
       "4          NaN               1        IM       LA   \n",
       "...        ...             ...       ...      ...   \n",
       "40256  025J20A               1        IM       RA   \n",
       "40257  0124214               1        IM       LA   \n",
       "40258  unknown               2       SYR       AR   \n",
       "40259      NaN               1        UN       AR   \n",
       "40260   EN6201               2        IM       AR   \n",
       "\n",
       "                                  VAX_NAME  \n",
       "0              COVID19 (COVID19 (MODERNA))  \n",
       "1              COVID19 (COVID19 (MODERNA))  \n",
       "2      COVID19 (COVID19 (PFIZER-BIONTECH))  \n",
       "3              COVID19 (COVID19 (MODERNA))  \n",
       "4              COVID19 (COVID19 (MODERNA))  \n",
       "...                                    ...  \n",
       "40256          COVID19 (COVID19 (MODERNA))  \n",
       "40257          COVID19 (COVID19 (MODERNA))  \n",
       "40258          COVID19 (COVID19 (MODERNA))  \n",
       "40259          COVID19 (COVID19 (MODERNA))  \n",
       "40260  COVID19 (COVID19 (PFIZER-BIONTECH))  \n",
       "\n",
       "[40261 rows x 46 columns]"
      ]
     },
     "execution_count": 22,
     "metadata": {},
     "output_type": "execute_result"
    }
   ],
   "source": [
    "vaers_clean"
   ]
  },
  {
   "cell_type": "code",
   "execution_count": 23,
   "metadata": {},
   "outputs": [
    {
     "data": {
      "text/plain": [
       "['DIED', 'DATEDIED']"
      ]
     },
     "execution_count": 23,
     "metadata": {},
     "output_type": "execute_result"
    }
   ],
   "source": [
    "#Search for columns with DIED in name to find the target column (y)\n",
    "died_cols = [col for col in vaers_df.columns if 'DIED' in col]\n",
    "died_cols"
   ]
  },
  {
   "cell_type": "markdown",
   "metadata": {},
   "source": [
    "# Logistic Regression"
   ]
  },
  {
   "cell_type": "markdown",
   "metadata": {},
   "source": [
    "# Split and Scale Data"
   ]
  },
  {
   "cell_type": "code",
   "execution_count": 31,
   "metadata": {},
   "outputs": [
    {
     "data": {
      "text/plain": [
       "0        0\n",
       "1        0\n",
       "2        0\n",
       "3        0\n",
       "4        0\n",
       "        ..\n",
       "40256    1\n",
       "40257    1\n",
       "40258    1\n",
       "40259    1\n",
       "40260    1\n",
       "Name: DIED, Length: 40261, dtype: int64"
      ]
     },
     "execution_count": 31,
     "metadata": {},
     "output_type": "execute_result"
    }
   ],
   "source": [
    "vaers_clean['DIED'].fillna(value=0, inplace=True)\n",
    "vaers_clean['DIED'].replace(to_replace='Y', value=1)"
   ]
  },
  {
   "cell_type": "code",
   "execution_count": null,
   "metadata": {},
   "outputs": [],
   "source": []
  },
  {
   "cell_type": "raw",
   "metadata": {},
   "source": []
  },
  {
   "cell_type": "markdown",
   "metadata": {},
   "source": [
    "# Logistic Regression"
   ]
  },
  {
   "cell_type": "code",
   "execution_count": 32,
   "metadata": {},
   "outputs": [],
   "source": [
    "# Split data into features and targets\n",
    "y = vaers_clean['DIED']\n",
    "X = vaers_clean.drop(columns = 'DIED')"
   ]
  },
  {
   "cell_type": "code",
   "execution_count": 33,
   "metadata": {},
   "outputs": [
    {
     "data": {
      "text/plain": [
       "0    37686\n",
       "Y     2575\n",
       "Name: DIED, dtype: int64"
      ]
     },
     "execution_count": 33,
     "metadata": {},
     "output_type": "execute_result"
    }
   ],
   "source": [
    "# Counting values on y\n",
    "y.value_counts()"
   ]
  },
  {
   "cell_type": "code",
   "execution_count": null,
   "metadata": {},
   "outputs": [],
   "source": [
    "# Split into test and training\n",
    "X_train, X_test, y_train, y_test = train_test_split(X, y, random_state=78)"
   ]
  },
  {
   "cell_type": "code",
   "execution_count": null,
   "metadata": {},
   "outputs": [],
   "source": [
    "# StandardScaler instance\n",
    "scaler = StandardScaler()\n",
    "\n",
    "# Fit the StandardScaler\n",
    "X_scaler = scaler.fit(X_train)\n",
    "\n",
    "# Scale the data\n",
    "X_train_scaled = X_scaler.transform(X_train)\n",
    "X_test_scaled = X_scaler.transform(X_test)"
   ]
  },
  {
   "cell_type": "markdown",
   "metadata": {},
   "source": [
    "## Resampling the data"
   ]
  },
  {
   "cell_type": "code",
   "execution_count": null,
   "metadata": {},
   "outputs": [],
   "source": [
    "# Counting values in Y_train\n"
   ]
  },
  {
   "cell_type": "code",
   "execution_count": null,
   "metadata": {},
   "outputs": [],
   "source": [
    "#Create a Logistic Regression Model\n",
    "classifier = LogisticRegression(solver='lbfgs', max_iter=200, random_state=78)\n",
    "classifier"
   ]
  },
  {
   "cell_type": "code",
   "execution_count": null,
   "metadata": {},
   "outputs": [],
   "source": [
    "# Train the data\n",
    "classifier.fit(X_train, y_train)"
   ]
  },
  {
   "cell_type": "code",
   "execution_count": null,
   "metadata": {},
   "outputs": [],
   "source": [
    "# Evaluate\n",
    "y_pred = classifier.predict(X_test)\n",
    "print(f' Logistic regression model accuracy: {accuracy_score(y_test, y_pred):.3f}')"
   ]
  }
 ],
 "metadata": {
  "kernelspec": {
   "display_name": "PythonData",
   "language": "python",
   "name": "pythondata"
  },
  "language_info": {
   "codemirror_mode": {
    "name": "ipython",
    "version": 3
   },
   "file_extension": ".py",
   "mimetype": "text/x-python",
   "name": "python",
   "nbconvert_exporter": "python",
   "pygments_lexer": "ipython3",
   "version": "3.8.3"
  }
 },
 "nbformat": 4,
 "nbformat_minor": 5
}
